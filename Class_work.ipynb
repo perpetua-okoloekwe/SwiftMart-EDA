{
 "cells": [
  {
   "cell_type": "markdown",
   "id": "7b70bd6e-9fac-4b10-b39b-ba26f130ece7",
   "metadata": {},
   "source": [
    "### Introduction to python"
   ]
  },
  {
   "cell_type": "markdown",
   "id": "ebb2d94d-8983-438c-9d19-f5d8d74f80a9",
   "metadata": {},
   "source": [
    "### 1. Variable assignment\n",
    "\n",
    "A variable is a storage location for data. i.e it creates space in the computer memory for data to be assigned to it."
   ]
  },
  {
   "cell_type": "code",
   "execution_count": 26,
   "id": "9b333c01-2759-496c-b0fa-4a644303e3cd",
   "metadata": {},
   "outputs": [],
   "source": [
    "number = 10\n",
    "Number = 20\n",
    "NUMBER = 30"
   ]
  },
  {
   "cell_type": "code",
   "execution_count": 27,
   "id": "08431e42-4204-4b25-8217-b9f9e11907c4",
   "metadata": {},
   "outputs": [
    {
     "name": "stdout",
     "output_type": "stream",
     "text": [
      "10\n"
     ]
    }
   ],
   "source": [
    "print(number)"
   ]
  },
  {
   "cell_type": "raw",
   "id": "288345cb-79e0-4ade-acf6-ed64a4e33db6",
   "metadata": {},
   "source": []
  },
  {
   "cell_type": "code",
   "execution_count": 28,
   "id": "82ad9fb4-c5a0-4780-8cfd-f2a9b31e6624",
   "metadata": {},
   "outputs": [
    {
     "name": "stdout",
     "output_type": "stream",
     "text": [
      "20\n"
     ]
    }
   ],
   "source": [
    "print(Number)"
   ]
  },
  {
   "cell_type": "code",
   "execution_count": 29,
   "id": "93cdbf2a-1b57-46b1-8723-982f44694ad0",
   "metadata": {},
   "outputs": [
    {
     "name": "stdout",
     "output_type": "stream",
     "text": [
      "30\n"
     ]
    }
   ],
   "source": [
    "print(NUMBER)"
   ]
  },
  {
   "cell_type": "code",
   "execution_count": 30,
   "id": "0fabaa60-bdaf-4b16-bdcb-a6d3d5c00f19",
   "metadata": {},
   "outputs": [],
   "source": [
    "one_love = \"Data Science\""
   ]
  },
  {
   "cell_type": "code",
   "execution_count": 31,
   "id": "b05e8d31-0da2-4c96-90d0-2a482eeec7cf",
   "metadata": {},
   "outputs": [
    {
     "name": "stdout",
     "output_type": "stream",
     "text": [
      "Data Science\n"
     ]
    }
   ],
   "source": [
    "print(one_love)"
   ]
  },
  {
   "cell_type": "code",
   "execution_count": 32,
   "id": "6d63e2a4-bb7d-443c-bd5b-38811e5dd936",
   "metadata": {},
   "outputs": [
    {
     "name": "stdout",
     "output_type": "stream",
     "text": [
      "60\n"
     ]
    }
   ],
   "source": [
    "total = number + Number + NUMBER\n",
    "\n",
    "print(total)"
   ]
  },
  {
   "cell_type": "markdown",
   "id": "cdfe700b-ab4f-4537-92e1-5613ce95276d",
   "metadata": {},
   "source": [
    "### 2. Integers and Floats\n",
    "\n",
    "- INTEGERS are umbers without decimals i.e Positive or Negative whole numbers\n",
    "- Floats are numbers with decimals i.e Positive or Negative decimal numbers."
   ]
  },
  {
   "cell_type": "code",
   "execution_count": 33,
   "id": "95e1ba86-53f1-4458-9c62-1a7fbd43a2c0",
   "metadata": {},
   "outputs": [],
   "source": [
    "number = -27\n",
    "Number = 55\n",
    "NUMBER = 22.78"
   ]
  },
  {
   "cell_type": "code",
   "execution_count": 34,
   "id": "4f023cad-d5df-4b49-a40c-f136aaa4040e",
   "metadata": {},
   "outputs": [
    {
     "name": "stdout",
     "output_type": "stream",
     "text": [
      "-27\n"
     ]
    }
   ],
   "source": [
    "print(number)"
   ]
  },
  {
   "cell_type": "code",
   "execution_count": 35,
   "id": "abada936-5da2-49da-bebb-032e97f5894d",
   "metadata": {},
   "outputs": [
    {
     "name": "stdout",
     "output_type": "stream",
     "text": [
      "55\n"
     ]
    }
   ],
   "source": [
    "print(Number)"
   ]
  },
  {
   "cell_type": "code",
   "execution_count": 36,
   "id": "6c268811-c689-48b6-8543-add5b9c7d7e2",
   "metadata": {},
   "outputs": [
    {
     "name": "stdout",
     "output_type": "stream",
     "text": [
      "22.78\n"
     ]
    }
   ],
   "source": [
    "print(NUMBER)"
   ]
  },
  {
   "cell_type": "code",
   "execution_count": 37,
   "id": "17322ef6-44f3-4581-8508-093dc903c077",
   "metadata": {},
   "outputs": [
    {
     "data": {
      "text/plain": [
       "float"
      ]
     },
     "execution_count": 37,
     "metadata": {},
     "output_type": "execute_result"
    }
   ],
   "source": [
    "type(NUMBER)"
   ]
  },
  {
   "cell_type": "markdown",
   "id": "6ba956db-d5c0-4a3f-a4fd-1616de520ee5",
   "metadata": {},
   "source": [
    "### 3. Strings\n",
    "\n",
    "A string is \"any\" set of character i.e enclosed in quotation mark. it can be either single'' or double \"\" "
   ]
  },
  {
   "cell_type": "code",
   "execution_count": 38,
   "id": "c067ae42-ee6b-4e9d-81f2-2eec6ef55105",
   "metadata": {},
   "outputs": [],
   "source": [
    "a = 10\n",
    "b = -33\n",
    "c = 3.5\n",
    "d = '10'\n",
    "name = 'Perpetua'"
   ]
  },
  {
   "cell_type": "code",
   "execution_count": 39,
   "id": "a81b4df8-eeb5-4f42-a34a-de4a4b853b56",
   "metadata": {},
   "outputs": [
    {
     "data": {
      "text/plain": [
       "int"
      ]
     },
     "execution_count": 39,
     "metadata": {},
     "output_type": "execute_result"
    }
   ],
   "source": [
    "type(a)"
   ]
  },
  {
   "cell_type": "code",
   "execution_count": 40,
   "id": "105dc167-6534-44c3-8783-2c5be3dcc362",
   "metadata": {},
   "outputs": [
    {
     "name": "stdout",
     "output_type": "stream",
     "text": [
      "10101010101010101010\n"
     ]
    }
   ],
   "source": [
    "e = a * d\n",
    "print(e)"
   ]
  },
  {
   "cell_type": "markdown",
   "id": "161d703f-38db-46bf-b355-2cc7d22b1d39",
   "metadata": {},
   "source": [
    "# SmartMart Inventory\n",
    "\n",
    "\n",
    "Stock_quantity = 100\n",
    "Product_price = 49.99"
   ]
  },
  {
   "cell_type": "code",
   "execution_count": 41,
   "id": "c608a642-5eee-4da6-a284-0c343003b824",
   "metadata": {},
   "outputs": [],
   "source": [
    "Stock_quantity = 100 \n",
    "Product_price = 49.99"
   ]
  },
  {
   "cell_type": "code",
   "execution_count": 42,
   "id": "899eaa64-7d7c-4366-a6ea-a62e97ecffc7",
   "metadata": {},
   "outputs": [],
   "source": [
    "# variable assignment\n",
    "\n",
    "product_name = 'Laptop'\n",
    "available_stock = 50"
   ]
  },
  {
   "cell_type": "code",
   "execution_count": 43,
   "id": "41c0265d-7690-42de-b27c-7eb338873497",
   "metadata": {},
   "outputs": [
    {
     "name": "stdout",
     "output_type": "stream",
     "text": [
      "Laptop\n"
     ]
    }
   ],
   "source": [
    "print(product_name)"
   ]
  },
  {
   "cell_type": "code",
   "execution_count": 44,
   "id": "f92e72e8-19e2-4ab4-b8fa-aec5191662e3",
   "metadata": {},
   "outputs": [],
   "source": [
    "# 'the laptop is available in 50 quqntity at $49.99 each'"
   ]
  },
  {
   "cell_type": "code",
   "execution_count": 45,
   "id": "fde39956-15f0-4603-9e08-872f21c3f6ca",
   "metadata": {},
   "outputs": [
    {
     "name": "stdout",
     "output_type": "stream",
     "text": [
      "The  Laptop\n"
     ]
    }
   ],
   "source": [
    "print(\"The \", product_name)"
   ]
  },
  {
   "cell_type": "code",
   "execution_count": 46,
   "id": "fb395ac1-d54e-4c87-b518-6efb23539e0c",
   "metadata": {},
   "outputs": [
    {
     "name": "stdout",
     "output_type": "stream",
     "text": [
      "The  Laptop is available in  50 quantity at $ 49.99 each\n"
     ]
    }
   ],
   "source": [
    "print(\"The \", product_name, \"is available in \", available_stock, \"quantity at $\",Product_price, \"each\" )"
   ]
  },
  {
   "cell_type": "code",
   "execution_count": 47,
   "id": "fb9de01b-5444-423d-9d44-5eebdc3c4af5",
   "metadata": {},
   "outputs": [
    {
     "name": "stdout",
     "output_type": "stream",
     "text": [
      "TheLaptop is available in 50 quantity at $49.99 each\n"
     ]
    }
   ],
   "source": [
    "# Print Formating - \"f-string\"\n",
    "print(f\"The{product_name} is available in {available_stock} quantity at ${Product_price} each\")"
   ]
  },
  {
   "cell_type": "markdown",
   "id": "c761f625-9128-42a8-b463-0dbbb483ac94",
   "metadata": {},
   "source": [
    "# class activity\n",
    "create an information system that accepts name and gender of a customer, then displays the output \n",
    "'hi (name), welcome to SmartMart. we have a Laptop for sale at $1500.56'"
   ]
  },
  {
   "cell_type": "code",
   "execution_count": 48,
   "id": "9b05c9c6-933d-4000-982d-9763af19dd89",
   "metadata": {},
   "outputs": [
    {
     "name": "stdin",
     "output_type": "stream",
     "text": [
      "Enter customer name: nat\n",
      "enter Gender male\n"
     ]
    },
    {
     "name": "stdout",
     "output_type": "stream",
     "text": [
      "Hi nat, welcome to SmartMart. We have a Laptop for sale at $49.99\n"
     ]
    }
   ],
   "source": [
    "Name = input(\"Enter customer name:\")\n",
    "Gender = input(\"enter Gender\")\n",
    "print(f\"Hi {Name}, welcome to SmartMart. We have a {product_name} for sale at ${Product_price}\")"
   ]
  },
  {
   "cell_type": "code",
   "execution_count": null,
   "id": "d602a000-6db4-4b72-84ee-30822ec97658",
   "metadata": {},
   "outputs": [],
   "source": []
  },
  {
   "cell_type": "code",
   "execution_count": 49,
   "id": "1d35caf5-6afe-485f-a1f6-72371c477532",
   "metadata": {},
   "outputs": [],
   "source": [
    "# Lists\n",
    "\n",
    "# is a collection of items in a square bracket[]. the items can either be string, int or float\n"
   ]
  },
  {
   "cell_type": "code",
   "execution_count": 50,
   "id": "04d50b21-75e6-4f8f-9f8c-c1bf512086ad",
   "metadata": {},
   "outputs": [],
   "source": [
    "# The lists of customers info\n",
    "c_info = ['Desmond', 33, 'Male', 'Lagos', '350000']"
   ]
  },
  {
   "cell_type": "code",
   "execution_count": 51,
   "id": "0836cee6-8f8d-45c3-be0b-d1debf38ee87",
   "metadata": {},
   "outputs": [
    {
     "data": {
      "text/plain": [
       "['Desmond', 33, 'Male', 'Lagos', '350000']"
      ]
     },
     "execution_count": 51,
     "metadata": {},
     "output_type": "execute_result"
    }
   ],
   "source": [
    "c_info"
   ]
  },
  {
   "cell_type": "markdown",
   "id": "3e88a11c-2b85-4cb6-99fe-45adb2ff9577",
   "metadata": {},
   "source": [
    "### Accessing the values of a list - Indexing and Slicing\n",
    "- **Indexing** is accessing individual items in a lst"
   ]
  },
  {
   "cell_type": "code",
   "execution_count": 52,
   "id": "6c38d548-1172-4498-ba83-a19357333d2b",
   "metadata": {},
   "outputs": [
    {
     "data": {
      "text/plain": [
       "'Desmond'"
      ]
     },
     "execution_count": 52,
     "metadata": {},
     "output_type": "execute_result"
    }
   ],
   "source": [
    "c_info[0]"
   ]
  },
  {
   "cell_type": "code",
   "execution_count": 53,
   "id": "04f41709-dd82-4ef4-b5c7-0b1cb55960f9",
   "metadata": {},
   "outputs": [
    {
     "data": {
      "text/plain": [
       "'Male'"
      ]
     },
     "execution_count": 53,
     "metadata": {},
     "output_type": "execute_result"
    }
   ],
   "source": [
    "c_info[2]"
   ]
  },
  {
   "cell_type": "code",
   "execution_count": 54,
   "id": "ae96b2c8-de63-4587-83df-ae0ee7a98532",
   "metadata": {},
   "outputs": [
    {
     "name": "stdout",
     "output_type": "stream",
     "text": [
      "My name is Desmond, I am 33 years old, I am a Male and i live in Lagos\n"
     ]
    }
   ],
   "source": [
    "print(f\"My name is {c_info[0]}, I am {c_info[1]} years old, I am a {c_info[2]} and i live in {c_info[3]}\")"
   ]
  },
  {
   "cell_type": "markdown",
   "id": "737e2547-bf67-4e75-9ed9-fa428588dcd6",
   "metadata": {},
   "source": [
    "- **Slicing** is accessing multiple items within a list using their index numbers"
   ]
  },
  {
   "cell_type": "code",
   "execution_count": 55,
   "id": "ca337577-108f-4ea9-890f-766b94662da0",
   "metadata": {},
   "outputs": [
    {
     "data": {
      "text/plain": [
       "['Desmond', 33, 'Male', 'Lagos']"
      ]
     },
     "execution_count": 55,
     "metadata": {},
     "output_type": "execute_result"
    }
   ],
   "source": [
    "c_info[0:4]"
   ]
  },
  {
   "cell_type": "code",
   "execution_count": 56,
   "id": "c0507a39-5eb0-431a-9cf0-79b07b5c9d12",
   "metadata": {},
   "outputs": [
    {
     "data": {
      "text/plain": [
       "[33, 'Male', 'Lagos', '350000']"
      ]
     },
     "execution_count": 56,
     "metadata": {},
     "output_type": "execute_result"
    }
   ],
   "source": [
    "c_info[1:5]"
   ]
  },
  {
   "cell_type": "code",
   "execution_count": 57,
   "id": "0c146a6d-b840-4e9e-b009-748fe9ad8969",
   "metadata": {},
   "outputs": [
    {
     "data": {
      "text/plain": [
       "'Desmond'"
      ]
     },
     "execution_count": 57,
     "metadata": {},
     "output_type": "execute_result"
    }
   ],
   "source": [
    "# Negative Indexing\n",
    "c_info[-5]"
   ]
  },
  {
   "cell_type": "markdown",
   "id": "e120409a-1816-4fa3-84e8-f0c83430a39b",
   "metadata": {},
   "source": [
    "#  String Method\n",
    "- Title()\n",
    "- Lower()\n",
    "- Upper()"
   ]
  },
  {
   "cell_type": "code",
   "execution_count": 58,
   "id": "3fcd8063-440c-4a6a-8d8c-31db79f8f4f2",
   "metadata": {},
   "outputs": [
    {
     "data": {
      "text/plain": [
       "'chukuebuka daniels'"
      ]
     },
     "execution_count": 58,
     "metadata": {},
     "output_type": "execute_result"
    }
   ],
   "source": [
    "name = 'Chukuebuka Daniels'\n",
    "name.lower()"
   ]
  },
  {
   "cell_type": "code",
   "execution_count": 59,
   "id": "c1f3f115-6707-4013-a24f-b0833f3dbafa",
   "metadata": {},
   "outputs": [
    {
     "data": {
      "text/plain": [
       "'CHUKUEBUKA DANIELS'"
      ]
     },
     "execution_count": 59,
     "metadata": {},
     "output_type": "execute_result"
    }
   ],
   "source": [
    "name.upper()"
   ]
  },
  {
   "cell_type": "code",
   "execution_count": 60,
   "id": "b2669af3-777f-4feb-a9de-7dbbaf93890e",
   "metadata": {},
   "outputs": [
    {
     "data": {
      "text/plain": [
       "'Chukuebuka Daniels'"
      ]
     },
     "execution_count": 60,
     "metadata": {},
     "output_type": "execute_result"
    }
   ],
   "source": [
    "name.title()"
   ]
  },
  {
   "cell_type": "code",
   "execution_count": 61,
   "id": "e7552782-e59b-4eac-982d-469e9a2552fc",
   "metadata": {},
   "outputs": [
    {
     "data": {
      "text/plain": [
       "['Desmond', 33, 'Male', 'Lagos', '350000', 'Data Scientist']"
      ]
     },
     "execution_count": 61,
     "metadata": {},
     "output_type": "execute_result"
    }
   ],
   "source": [
    "# to add info to list\n",
    "c_info.append('Data Scientist')\n",
    "c_info"
   ]
  },
  {
   "cell_type": "code",
   "execution_count": 62,
   "id": "86fac47e-be53-4ffd-bbbd-dc2e47202462",
   "metadata": {},
   "outputs": [
    {
     "name": "stdout",
     "output_type": "stream",
     "text": [
      "My name is Desmond, I am 33 years old, I am a Male and i live in Lagos and i am a Data Scientist.\n"
     ]
    }
   ],
   "source": [
    "print(f\"My name is {c_info[0]}, I am {c_info[1]} years old, I am a {c_info[2]} and i live in {c_info[3]} and i am a {c_info[5]}.\")"
   ]
  },
  {
   "cell_type": "code",
   "execution_count": 63,
   "id": "1fbde042-266a-40ae-8793-96930897e98b",
   "metadata": {},
   "outputs": [],
   "source": [
    "# drawback of List is u must use indexing"
   ]
  },
  {
   "cell_type": "markdown",
   "id": "58ffd433-bc38-438f-90a0-43b637d8e177",
   "metadata": {},
   "source": [
    "## Dictionary\n",
    "\n",
    "A Dictionary is a collection of key:value pairs enclosed in curly brackets{ }"
   ]
  },
  {
   "cell_type": "code",
   "execution_count": 64,
   "id": "605f9bae-e6d4-4e72-b060-4005fc55f47d",
   "metadata": {},
   "outputs": [],
   "source": [
    "c_info2 = {\"name\":\"Desmond\", \"age\":33, \"state\":\"Lagos\", \"Salary\":350000, \"occupation\":\"Data Scientist\"}"
   ]
  },
  {
   "cell_type": "code",
   "execution_count": 65,
   "id": "513d77ec-0f75-43b3-8587-94aec2cc3ca0",
   "metadata": {},
   "outputs": [
    {
     "data": {
      "text/plain": [
       "{'name': 'Desmond',\n",
       " 'age': 33,\n",
       " 'state': 'Lagos',\n",
       " 'Salary': 350000,\n",
       " 'occupation': 'Data Scientist'}"
      ]
     },
     "execution_count": 65,
     "metadata": {},
     "output_type": "execute_result"
    }
   ],
   "source": [
    "c_info2"
   ]
  },
  {
   "cell_type": "code",
   "execution_count": null,
   "id": "f52c7dc6-eb3d-4546-af4a-f119110e5761",
   "metadata": {},
   "outputs": [],
   "source": []
  },
  {
   "cell_type": "markdown",
   "id": "1fdaba4d-3130-4ee1-be0b-509525aacaaf",
   "metadata": {},
   "source": [
    "#### Adding Strings - Concatination (+)"
   ]
  },
  {
   "cell_type": "code",
   "execution_count": null,
   "id": "372b57ca-670b-45e0-92a8-e54c0797a05d",
   "metadata": {},
   "outputs": [],
   "source": []
  },
  {
   "cell_type": "code",
   "execution_count": 66,
   "id": "8eff8bfe-4c3e-41a4-ab8b-e6a89749500e",
   "metadata": {},
   "outputs": [
    {
     "name": "stdin",
     "output_type": "stream",
     "text": [
      "Enter your name nicee\n"
     ]
    }
   ],
   "source": [
    "name = input(\"Enter your name\")"
   ]
  },
  {
   "cell_type": "code",
   "execution_count": null,
   "id": "3818f249-64b0-4504-9d35-d7c66e17f4d6",
   "metadata": {},
   "outputs": [],
   "source": []
  },
  {
   "cell_type": "code",
   "execution_count": null,
   "id": "6042dfc9-23fe-4511-a96c-441f1077ab19",
   "metadata": {},
   "outputs": [],
   "source": []
  },
  {
   "cell_type": "code",
   "execution_count": null,
   "id": "48d8a224-69a9-4a11-aa5d-e7fae0395433",
   "metadata": {},
   "outputs": [],
   "source": []
  },
  {
   "cell_type": "markdown",
   "id": "2b675ddf-0345-40f2-9e13-4ffa5bceb205",
   "metadata": {},
   "source": [
    "### Dictionary Cont'd"
   ]
  },
  {
   "cell_type": "code",
   "execution_count": 67,
   "id": "361bd481-7aea-4738-a4ab-3266b09ac83d",
   "metadata": {},
   "outputs": [],
   "source": [
    "emp_dict = {'name':'Ben Davis', 'age':30, 'dept':'hr', 'salary': 250000}"
   ]
  },
  {
   "cell_type": "markdown",
   "id": "1eda5249-e954-40d3-8164-ca6b48e041e5",
   "metadata": {},
   "source": [
    "emp_dict['name']"
   ]
  },
  {
   "cell_type": "code",
   "execution_count": 68,
   "id": "f311bfd6-4ada-4ece-b74c-604d2a85b6d0",
   "metadata": {},
   "outputs": [
    {
     "data": {
      "text/plain": [
       "'Ben Davis'"
      ]
     },
     "execution_count": 68,
     "metadata": {},
     "output_type": "execute_result"
    }
   ],
   "source": [
    "emp_dict ['name']"
   ]
  },
  {
   "cell_type": "code",
   "execution_count": null,
   "id": "8cf38aeb-496d-4cf6-a035-3eecce0e7c38",
   "metadata": {},
   "outputs": [],
   "source": []
  },
  {
   "cell_type": "markdown",
   "id": "547c667a-90b9-4d9f-b9ef-3dcd5c4fccd4",
   "metadata": {},
   "source": [
    "# Nested Dict\n",
    "- having a dictionary embeded within an exsting dict"
   ]
  },
  {
   "cell_type": "code",
   "execution_count": 69,
   "id": "3224bbda-8924-4984-999d-2b1f2ade25c9",
   "metadata": {},
   "outputs": [],
   "source": [
    "emp_dict = {\n",
    "    \"emp01\": {'name':'Ben Davis', 'age':30, 'dept':'hr', 'salary': 250000},\n",
    "    \"emp02\": {'name':'Chi Oked', 'age':29, 'dept':'sales', 'salary': 380000},\n",
    "    \"emp03\": {'name':'jane Mat', 'age':30, 'dept':'operations', 'salary': 250000},\n",
    "    \"emp04\": {'name':'Dave Ike', 'age':28, 'dept':'IT', 'salary': 1000000},\n",
    "    \n",
    "}"
   ]
  },
  {
   "cell_type": "code",
   "execution_count": 70,
   "id": "058ae1d0-dc7d-42fa-837d-7c7a493afc89",
   "metadata": {},
   "outputs": [
    {
     "data": {
      "text/plain": [
       "{'emp01': {'name': 'Ben Davis', 'age': 30, 'dept': 'hr', 'salary': 250000},\n",
       " 'emp02': {'name': 'Chi Oked', 'age': 29, 'dept': 'sales', 'salary': 380000},\n",
       " 'emp03': {'name': 'jane Mat',\n",
       "  'age': 30,\n",
       "  'dept': 'operations',\n",
       "  'salary': 250000},\n",
       " 'emp04': {'name': 'Dave Ike', 'age': 28, 'dept': 'IT', 'salary': 1000000}}"
      ]
     },
     "execution_count": 70,
     "metadata": {},
     "output_type": "execute_result"
    }
   ],
   "source": [
    "emp_dict"
   ]
  },
  {
   "cell_type": "code",
   "execution_count": 71,
   "id": "fd7f03ab-3cb4-424f-83e9-22a377c893c1",
   "metadata": {},
   "outputs": [
    {
     "data": {
      "text/plain": [
       "{'name': 'Ben Davis', 'age': 30, 'dept': 'hr', 'salary': 250000}"
      ]
     },
     "execution_count": 71,
     "metadata": {},
     "output_type": "execute_result"
    }
   ],
   "source": [
    "emp_dict['emp01']"
   ]
  },
  {
   "cell_type": "code",
   "execution_count": 72,
   "id": "fa319a26-c4bf-4c1f-94e4-81e1e37415c0",
   "metadata": {},
   "outputs": [
    {
     "data": {
      "text/plain": [
       "'Dave Ike'"
      ]
     },
     "execution_count": 72,
     "metadata": {},
     "output_type": "execute_result"
    }
   ],
   "source": [
    "emp_dict['emp04']['name']"
   ]
  },
  {
   "cell_type": "code",
   "execution_count": null,
   "id": "30bfada8-4acf-4bb8-8ba6-960e7e74655c",
   "metadata": {},
   "outputs": [],
   "source": []
  },
  {
   "cell_type": "code",
   "execution_count": 73,
   "id": "2ac081a0-1dde-4664-a345-217d38b81061",
   "metadata": {},
   "outputs": [],
   "source": [
    "coy_dict = {\n",
    "    \"name\": \"AlphaBetaTech\",\n",
    "    \"HQ\": \"Ikeja\",\n",
    "    \"Branches\": [\"Lekki\", \"Surulere\", \"Yaba\"],\n",
    "    \"Dept\": {\n",
    "        \"IT\": {\n",
    "            \"emp01\":{\"name\": \"james\", \"age\":22, \"role\": \"web Dev\"},\n",
    "           \"emp02\":{\"name\": \"joy\", \"age\":24, \"role\": \"database admin\"}\n",
    "        },\n",
    "      \"hr\": {\n",
    "         \"emp03\":{\"name\": \"seun\", \"age\":27, \"role\": \"hr Assist\"} \n",
    "      }\n",
    "    },\n",
    "    \"revnue\":30000000\n",
    "}"
   ]
  },
  {
   "cell_type": "code",
   "execution_count": null,
   "id": "d42be24a-2661-42aa-98f5-cfa44440b5bc",
   "metadata": {},
   "outputs": [],
   "source": []
  },
  {
   "cell_type": "code",
   "execution_count": 74,
   "id": "017d2206-65db-48d8-9d90-98da8af6a79f",
   "metadata": {},
   "outputs": [
    {
     "data": {
      "text/plain": [
       "{'name': 'AlphaBetaTech',\n",
       " 'HQ': 'Ikeja',\n",
       " 'Branches': ['Lekki', 'Surulere', 'Yaba'],\n",
       " 'Dept': {'IT': {'emp01': {'name': 'James', 'age': 22, 'role': 'Web Dev'},\n",
       "   'emp02': {'name': 'Joy', 'age': 24, 'role': 'Database Admin'}},\n",
       "  'HR': {'emp03': {'name': 'Seun', 'age': 27, 'role': 'HR Assistant'}}},\n",
       " 'revenue': 30000000}"
      ]
     },
     "execution_count": 74,
     "metadata": {},
     "output_type": "execute_result"
    }
   ],
   "source": [
    "{\n",
    "    \"name\": \"AlphaBetaTech\",\n",
    "    \"HQ\": \"Ikeja\",\n",
    "    \"Branches\": [\"Lekki\", \"Surulere\", \"Yaba\"],\n",
    "    \"Dept\": {\n",
    "        \"IT\": {\n",
    "            \"emp01\": {\"name\": \"James\", \"age\": 22, \"role\": \"Web Dev\"},\n",
    "            \"emp02\": {\"name\": \"Joy\", \"age\": 24, \"role\": \"Database Admin\"}\n",
    "        },\n",
    "        \"HR\": {\n",
    "            \"emp03\": {\"name\": \"Seun\", \"age\": 27, \"role\": \"HR Assistant\"}\n",
    "        }\n",
    "    },\n",
    "    \"revenue\": 30000000\n",
    "}\n"
   ]
  },
  {
   "cell_type": "code",
   "execution_count": null,
   "id": "ed772e89-38de-4cfc-a2fe-f0a36ebbbd82",
   "metadata": {},
   "outputs": [],
   "source": []
  },
  {
   "cell_type": "code",
   "execution_count": 75,
   "id": "07930f87-df41-46d7-aa94-efceffae4211",
   "metadata": {},
   "outputs": [
    {
     "name": "stdout",
     "output_type": "stream",
     "text": [
      "The total revenue is 30000000\n"
     ]
    }
   ],
   "source": [
    "# Example dictionary (replace with your actual data)\n",
    "coy_dict = {\n",
    "    \"name\": \"AlphaBetaTech\",\n",
    "    \"HQ\": \"Ikeja\",\n",
    "    \"Branches\": [\"Lekki\", \"Surulere\", \"Yaba\"],\n",
    "    \"Dept\": {\n",
    "        \"IT\": {\n",
    "            \"emp01\": {\"name\": \"James\", \"age\": 22, \"role\": \"Web Dev\"},\n",
    "            \"emp02\": {\"name\": \"Joy\", \"age\": 24, \"role\": \"Database Admin\"}\n",
    "        },\n",
    "        \"HR\": {\n",
    "            \"emp03\": {\"name\": \"Seun\", \"age\": 27, \"role\": \"HR Assistant\"}\n",
    "        }\n",
    "    },\n",
    "    \"revenue\": 30000000\n",
    "}\n",
    "\n",
    "# Fetching total revenue\n",
    "total_revenue = coy_dict[\"revenue\"]\n",
    "\n",
    "# Printing the total revenue\n",
    "print(f\"The total revenue is {total_revenue}\")\n"
   ]
  },
  {
   "cell_type": "code",
   "execution_count": 76,
   "id": "07ceaa50-879f-473f-b115-950ac4749291",
   "metadata": {},
   "outputs": [
    {
     "name": "stdout",
     "output_type": "stream",
     "text": [
      "The total revenue is 30,000,000\n"
     ]
    }
   ],
   "source": [
    "total_revenue = coy_dict[\"revenue\"]\n",
    "\n",
    "print(f\"The total revenue is {total_revenue:,}\")"
   ]
  },
  {
   "cell_type": "code",
   "execution_count": null,
   "id": "44d19e45-a05b-4cd6-bf5c-b3c2303a8ccb",
   "metadata": {},
   "outputs": [],
   "source": []
  },
  {
   "cell_type": "code",
   "execution_count": 77,
   "id": "1600363c-8846-4084-a7b8-5773078fef81",
   "metadata": {},
   "outputs": [
    {
     "name": "stdout",
     "output_type": "stream",
     "text": [
      "The information about employee 01 is {'name': 'James', 'age': 22, 'role': 'Web Dev'}\n"
     ]
    }
   ],
   "source": [
    "info_about_emp01 = coy_dict[\"Dept\"][\"IT\"][\"emp01\"]\n",
    "\n",
    "print(f\"The information about employee 01 is {info_about_emp01}\")"
   ]
  },
  {
   "cell_type": "code",
   "execution_count": null,
   "id": "ca5c187e-66e0-45b9-b5da-81e2b22eb442",
   "metadata": {},
   "outputs": [],
   "source": []
  },
  {
   "cell_type": "code",
   "execution_count": 78,
   "id": "6ba2ee74-dbdb-422b-9e4b-61b1460cedb5",
   "metadata": {},
   "outputs": [
    {
     "name": "stdout",
     "output_type": "stream",
     "text": [
      "The role of employee 02 is Database Admin\n"
     ]
    }
   ],
   "source": [
    "role_for_emp02 = coy_dict[\"Dept\"][\"IT\"][\"emp02\"][\"role\"]\n",
    "print(f\"The role of employee 02 is {role_for_emp02}\")"
   ]
  },
  {
   "cell_type": "code",
   "execution_count": null,
   "id": "f6aeea2c-018c-4b15-aeed-d0b5b4e82c66",
   "metadata": {},
   "outputs": [],
   "source": []
  },
  {
   "cell_type": "markdown",
   "id": "7e384deb-7e61-4a9b-8950-467494161380",
   "metadata": {},
   "source": [
    "### conditional statement\n",
    "\n",
    "- if, if-else, if-else-elif\n",
    "- for loop\n",
    "- while loop\n",
    "\n",
    "key factors of Conditional statements\n",
    "- condition (testing a logical expression)\n",
    "- Action"
   ]
  },
  {
   "cell_type": "code",
   "execution_count": null,
   "id": "6bdbe988-0026-4e4b-a0e6-e7a3dbb3de21",
   "metadata": {},
   "outputs": [],
   "source": []
  },
  {
   "cell_type": "markdown",
   "id": "73a03e17-cb27-4c19-b083-1bc337044503",
   "metadata": {},
   "source": []
  },
  {
   "cell_type": "code",
   "execution_count": 1,
   "id": "3cd1b180-162f-4cc0-a8d9-fca187038bbf",
   "metadata": {},
   "outputs": [
    {
     "name": "stdin",
     "output_type": "stream",
     "text": [
      "what quantity do we have left 7\n"
     ]
    },
    {
     "name": "stdout",
     "output_type": "stream",
     "text": [
      "we are low on stock, kindly restock\n"
     ]
    }
   ],
   "source": [
    "# check the quantity of products in the store and recommend for restock\n",
    "\n",
    "product_quantity = int(input(\"what quantity do we have left\"))\n",
    "\n",
    "if product_quantity < 20:\n",
    "    print(\"we are low on stock, kindly restock\")"
   ]
  },
  {
   "cell_type": "code",
   "execution_count": null,
   "id": "06b2bc88-c660-486a-a9f9-1ab8c97fbf77",
   "metadata": {},
   "outputs": [],
   "source": []
  },
  {
   "cell_type": "code",
   "execution_count": 2,
   "id": "e747f1f7-7361-473b-b14b-53c27066421e",
   "metadata": {},
   "outputs": [
    {
     "name": "stdin",
     "output_type": "stream",
     "text": [
      "Enter your jamb score 205\n"
     ]
    },
    {
     "name": "stdout",
     "output_type": "stream",
     "text": [
      "congratulations,  you got a score of 205. you have been admitted\n"
     ]
    }
   ],
   "source": [
    "# simple if statement to access adminssion request for a student, if min score is 200\n",
    "\n",
    "jamb_score = int(input(\"Enter your jamb score\"))\n",
    "\n",
    "if jamb_score >= 200:\n",
    "    print(f\"congratulations,  you got a score of {jamb_score}. you have been admitted\")\n",
    "else:\n",
    "    print(f\"No admission; sorry you got a score of {jamb_score}. try again next year\")\n",
    "    \n"
   ]
  },
  {
   "cell_type": "code",
   "execution_count": null,
   "id": "f1e2c58e-37d8-41ce-b1c6-e668245bd9a4",
   "metadata": {},
   "outputs": [],
   "source": []
  },
  {
   "cell_type": "code",
   "execution_count": 2,
   "id": "65fa16e5-abd4-43cb-bd56-8e4ef05bf355",
   "metadata": {},
   "outputs": [
    {
     "name": "stdin",
     "output_type": "stream",
     "text": [
      "enter total sales for the day:  10000\n"
     ]
    },
    {
     "name": "stdout",
     "output_type": "stream",
     "text": [
      "we made a total sales of 10000.0 of 10000 better luck next time\n"
     ]
    }
   ],
   "source": [
    "# write an if statement to check if the total sales for the day exceed 10000 then print a congratulatory message if true\n",
    "total_sales = float(input(\"enter total sales for the day: \"))\n",
    "\n",
    "if total_sales > 10000:\n",
    "    print(f\"congratulations we hit our target {total_sales}\")\n",
    "\n",
    "else:\n",
    "    print(f\"we made a total sales of {total_sales} of 10000 better luck next time\")"
   ]
  },
  {
   "cell_type": "code",
   "execution_count": null,
   "id": "6abb8ccf-f449-4581-b0d1-87eacc1aa102",
   "metadata": {},
   "outputs": [],
   "source": []
  },
  {
   "cell_type": "code",
   "execution_count": 3,
   "id": "a27210b0-ff9a-4514-8cf5-2a99ad2ba614",
   "metadata": {},
   "outputs": [
    {
     "name": "stdin",
     "output_type": "stream",
     "text": [
      "what is your total spend this month? 7000\n"
     ]
    },
    {
     "name": "stdout",
     "output_type": "stream",
     "text": [
      "Your total spent for this month = $7000.0\n",
      " You are a Sliver customer\n"
     ]
    }
   ],
   "source": [
    "# write a code to assign customer level based on total spending by customer\n",
    "\n",
    "total_spent = float(input(\"what is your total spend this month?\"))\n",
    "\n",
    "if total_spent >=10000:\n",
    "    level = \"Gold\"\n",
    "elif total_spent >= 4000:\n",
    "    level = \"Sliver\"\n",
    "else:\n",
    "    level = \"Bronze\"\n",
    "print(f\"Your total spent for this month = ${total_spent}\\n You are a {level} customer\")"
   ]
  },
  {
   "cell_type": "code",
   "execution_count": null,
   "id": "5da176ed-906d-481d-b505-a23e5f152bb6",
   "metadata": {},
   "outputs": [],
   "source": []
  },
  {
   "cell_type": "code",
   "execution_count": null,
   "id": "64e0414c-6d7a-4cb5-8968-255f075468c0",
   "metadata": {},
   "outputs": [],
   "source": []
  },
  {
   "cell_type": "code",
   "execution_count": null,
   "id": "7333e168-e44a-4d76-8c30-94ec9c2074c8",
   "metadata": {},
   "outputs": [],
   "source": [
    "# write a categorize products based on sales performance\n",
    "# 20000 low seller\n",
    "# above 50000 average\n",
    "# above 100000 popular\n",
    "# above 200000 best seller\n"
   ]
  },
  {
   "cell_type": "code",
   "execution_count": 5,
   "id": "549d6300-c079-4000-8837-6be6d8df6952",
   "metadata": {},
   "outputs": [
    {
     "name": "stdin",
     "output_type": "stream",
     "text": [
      "Enter total quantity sold:  700000\n"
     ]
    },
    {
     "name": "stdout",
     "output_type": "stream",
     "text": [
      "The total sales performance is 700000,\n",
      " the product is in Best seller category\n"
     ]
    }
   ],
   "source": [
    "sales_performance = int(input(\"Enter total quantity sold: \"))\n",
    "\n",
    "if sales_performance >200000:\n",
    "    category = \"Best seller\"\n",
    "elif sales_performance >100000:\n",
    "    category = \"popular\"\n",
    "elif sales_performance >50000:\n",
    "    category = \"Average\"\n",
    "else:\n",
    "    category = \"low seller\"\n",
    "\n",
    "print(f\"The total sales performance is {sales_performance},\\n the product is in {category} category\")\n"
   ]
  },
  {
   "cell_type": "code",
   "execution_count": null,
   "id": "07f68931-e96f-4ea2-b6ea-512b23d558ed",
   "metadata": {},
   "outputs": [],
   "source": []
  },
  {
   "cell_type": "code",
   "execution_count": null,
   "id": "c6a6d7a7-d50a-4389-888c-f9d07095756f",
   "metadata": {},
   "outputs": [],
   "source": []
  },
  {
   "cell_type": "markdown",
   "id": "8ccf53f0-68a4-4ace-a1b5-7f2fc33f98e9",
   "metadata": {},
   "source": [
    "### for Loop\n",
    "- a loop is a repetitive instruction that allows the computer execute a comand continiously until a condition is met.\n",
    "- A for loop  is used for iterating a sequence (list, dictionary)"
   ]
  },
  {
   "cell_type": "code",
   "execution_count": null,
   "id": "e806809b-ab7a-4cc6-b0f0-ce9a979a0779",
   "metadata": {},
   "outputs": [],
   "source": []
  },
  {
   "cell_type": "markdown",
   "id": "13517e56-7972-44ad-8faf-668418bbf4f1",
   "metadata": {},
   "source": [
    "List all "
   ]
  },
  {
   "cell_type": "code",
   "execution_count": 6,
   "id": "771236b0-6f75-4b59-b05d-209e22daf9dc",
   "metadata": {},
   "outputs": [
    {
     "name": "stdout",
     "output_type": "stream",
     "text": [
      "laptop\n",
      "smartphone\n",
      "headphone\n",
      "camera\n",
      "smartwatch\n"
     ]
    }
   ],
   "source": [
    "# list all products in the inventory\n",
    "\n",
    "products = ['laptop', 'smartphone', 'headphone', 'camera', 'smartwatch']\n",
    "\n",
    "# i is called an iterator - it helps to iterate through a loop\n",
    "for i in products:\n",
    "    print(i)"
   ]
  },
  {
   "cell_type": "code",
   "execution_count": 7,
   "id": "52c3e708-6fdf-423a-a6e0-291c3bf5f7e8",
   "metadata": {},
   "outputs": [
    {
     "data": {
      "text/plain": [
       "['laptop', 'smartphone', 'headphone', 'camera', 'smartwatch']"
      ]
     },
     "execution_count": 7,
     "metadata": {},
     "output_type": "execute_result"
    }
   ],
   "source": [
    "products"
   ]
  },
  {
   "cell_type": "code",
   "execution_count": null,
   "id": "4d35e405-f88f-4c3d-9161-979780caf9c5",
   "metadata": {},
   "outputs": [],
   "source": [
    " "
   ]
  },
  {
   "cell_type": "code",
   "execution_count": 8,
   "id": "f3183673-f437-4156-9cc2-2540b6bdebbe",
   "metadata": {},
   "outputs": [
    {
     "data": {
      "text/plain": [
       "['samson', '27', 'Ebonyi', 'Male', 'Data Scientist']"
      ]
     },
     "execution_count": 8,
     "metadata": {},
     "output_type": "execute_result"
    }
   ],
   "source": [
    "info = [\"samson\", \"27\", \"Ebonyi\", \"Male\", \"Data Scientist\"]\n",
    "\n",
    "info"
   ]
  },
  {
   "cell_type": "code",
   "execution_count": 10,
   "id": "46e55b58-cccb-4f5b-9a80-b0f30ee78ac5",
   "metadata": {},
   "outputs": [
    {
     "name": "stdout",
     "output_type": "stream",
     "text": [
      "samson\n",
      "27\n",
      "Ebonyi\n",
      "Male\n",
      "Data Scientist\n"
     ]
    }
   ],
   "source": [
    "for item in info:\n",
    "    print(item)"
   ]
  },
  {
   "cell_type": "code",
   "execution_count": null,
   "id": "3efb5538-969c-4688-8461-b0b2e0862d71",
   "metadata": {},
   "outputs": [],
   "source": []
  },
  {
   "cell_type": "code",
   "execution_count": 16,
   "id": "a0ed8ba5-5704-4439-9b61-9009c7a9cd5f",
   "metadata": {},
   "outputs": [
    {
     "name": "stdout",
     "output_type": "stream",
     "text": [
      "1 is an Odd Number\n",
      "2 is an Even Number\n",
      "3 is an Odd Number\n",
      "4 is an Even Number\n",
      "5 is an Odd Number\n",
      "6 is an Even Number\n",
      "7 is an Odd Number\n",
      "8 is an Even Number\n",
      "9 is an Odd Number\n",
      "10 is an Even Number\n",
      "11 is an Odd Number\n",
      "12 is an Even Number\n",
      "13 is an Odd Number\n",
      "14 is an Even Number\n",
      "15 is an Odd Number\n",
      "16 is an Even Number\n",
      "17 is an Odd Number\n",
      "18 is an Even Number\n",
      "19 is an Odd Number\n",
      "20 is an Even Number\n"
     ]
    }
   ],
   "source": [
    "# print numbers between 1 and 20 and specify if it is 'Even' or 'Odd'\n",
    "\n",
    "number = [1, 2, 3, 4, 5, 6, 7, 8, 9, 10, 11, 12, 13, 14, 15, 16, 17, 18, 19, 20]\n",
    "\n",
    "for k in number:\n",
    "    if k % 2 == 0:\n",
    "        print (f\"{k} is an Even Number\")\n",
    "    else:\n",
    "        print(f\"{k} is an Odd Number\")"
   ]
  },
  {
   "cell_type": "code",
   "execution_count": 13,
   "id": "164333e9-3256-4f2d-aff0-47af948ae41f",
   "metadata": {},
   "outputs": [
    {
     "name": "stdin",
     "output_type": "stream",
     "text": [
      "Please, choose a number:  7356\n"
     ]
    },
    {
     "name": "stdout",
     "output_type": "stream",
     "text": [
      "7356 is an Even Number\n"
     ]
    }
   ],
   "source": [
    "# Write a code to allow a user enter a number of their choice and display if the number is 'odd' or 'even' using if statement\n",
    "\n",
    "number_choice = int(input(\"Please, choose a number: \"))\n",
    "\n",
    "if number_choice % 2 == 0:\n",
    "    print (f\"{number_choice} is an Even Number\")\n",
    "else:\n",
    "    print(f\"{number_choice} is an Odd Number\")"
   ]
  },
  {
   "cell_type": "code",
   "execution_count": null,
   "id": "daf32832-9797-4085-b9c5-6f6f7ca41c16",
   "metadata": {},
   "outputs": [],
   "source": []
  },
  {
   "cell_type": "code",
   "execution_count": 17,
   "id": "3d80fc0f-fd73-4763-83d8-b981c4f18c86",
   "metadata": {},
   "outputs": [
    {
     "name": "stdout",
     "output_type": "stream",
     "text": [
      "1\n",
      "2\n",
      "3\n",
      "4\n",
      "5\n",
      "6\n",
      "7\n",
      "8\n",
      "9\n",
      "10\n",
      "11\n",
      "12\n",
      "13\n",
      "14\n",
      "15\n",
      "16\n",
      "17\n",
      "18\n",
      "19\n",
      "20\n"
     ]
    }
   ],
   "source": [
    "# hat if we are not using a list?????\n",
    "\n",
    "# We use range\n",
    "\n",
    "for i in range(1, 21):\n",
    "    print(i)"
   ]
  },
  {
   "cell_type": "code",
   "execution_count": null,
   "id": "faaaa72f-ac4f-4eb8-9119-f8348dbe1c71",
   "metadata": {},
   "outputs": [],
   "source": []
  },
  {
   "cell_type": "code",
   "execution_count": 18,
   "id": "4ee45e63-213c-4fab-8f96-40aa10e2e9d5",
   "metadata": {},
   "outputs": [
    {
     "name": "stdout",
     "output_type": "stream",
     "text": [
      "1 is an Odd Number\n",
      "2 is an Even Number\n",
      "3 is an Odd Number\n",
      "4 is an Even Number\n",
      "5 is an Odd Number\n",
      "6 is an Even Number\n",
      "7 is an Odd Number\n",
      "8 is an Even Number\n",
      "9 is an Odd Number\n",
      "10 is an Even Number\n",
      "11 is an Odd Number\n",
      "12 is an Even Number\n",
      "13 is an Odd Number\n",
      "14 is an Even Number\n",
      "15 is an Odd Number\n",
      "16 is an Even Number\n",
      "17 is an Odd Number\n",
      "18 is an Even Number\n",
      "19 is an Odd Number\n",
      "20 is an Even Number\n"
     ]
    }
   ],
   "source": [
    "# Use the range method to display numbers if they are 'Even or Odd'\n",
    "\n",
    "for number in range (1, 21):\n",
    "    if number % 2 == 0:\n",
    "        print(f\"{number} is an Even Number\")\n",
    "    else:\n",
    "        print(f\"{number} is an Odd Number\")"
   ]
  },
  {
   "cell_type": "code",
   "execution_count": null,
   "id": "81cbe335-f0d6-4bbf-9bf1-8fef1bb1e4b5",
   "metadata": {},
   "outputs": [],
   "source": []
  },
  {
   "cell_type": "markdown",
   "id": "c77a57dc-9986-4a14-b372-32d04fe36e10",
   "metadata": {},
   "source": [
    "#### For Loop with Dictionary"
   ]
  },
  {
   "cell_type": "code",
   "execution_count": null,
   "id": "64536ece-387c-4cee-87af-df5411661f6e",
   "metadata": {},
   "outputs": [],
   "source": []
  },
  {
   "cell_type": "code",
   "execution_count": 19,
   "id": "12971d0d-7dc0-44bd-8522-c39d4b3fde80",
   "metadata": {},
   "outputs": [
    {
     "data": {
      "text/plain": [
       "dict_items([('laptop', {'stock': 50, 'price': 1200.99}), ('smartphone', {'stock': 150, 'price': 699.99}), ('headphone', {'stock': 80, 'price': 199.99})])"
      ]
     },
     "execution_count": 19,
     "metadata": {},
     "output_type": "execute_result"
    }
   ],
   "source": [
    "inventory = {\n",
    "    \"laptop\": {\"stock\":50, \"price\":1200.99},\n",
    "    \"smartphone\": {\"stock\":150, \"price\":699.99},\n",
    "    \"headphone\": {\"stock\":80, \"price\":199.99}    \n",
    "}\n",
    "\n",
    "# Displaying all items in the dictionary \n",
    "inventory.items()"
   ]
  },
  {
   "cell_type": "code",
   "execution_count": null,
   "id": "c527e925-ac72-4e47-9d70-7b49f65f6485",
   "metadata": {},
   "outputs": [],
   "source": []
  },
  {
   "cell_type": "code",
   "execution_count": 20,
   "id": "71a4ee47-b2d6-4ef7-bf0b-636197e8b670",
   "metadata": {},
   "outputs": [
    {
     "data": {
      "text/plain": [
       "{'laptop': {'stock': 50, 'price': 1200.99},\n",
       " 'smartphone': {'stock': 150, 'price': 699.99},\n",
       " 'headphone': {'stock': 80, 'price': 199.99}}"
      ]
     },
     "execution_count": 20,
     "metadata": {},
     "output_type": "execute_result"
    }
   ],
   "source": [
    "inventory"
   ]
  },
  {
   "cell_type": "code",
   "execution_count": 22,
   "id": "904fba80-45b4-409d-af14-42a831729e83",
   "metadata": {
    "scrolled": true
   },
   "outputs": [
    {
     "name": "stdout",
     "output_type": "stream",
     "text": [
      "laptop stock_value: $60049.5\n",
      "smartphone stock_value: $104998.5\n",
      "headphone stock_value: $15999.2\n"
     ]
    }
   ],
   "source": [
    "for product, info in inventory.items():\n",
    "    stock_value = info[\"stock\"] * info[\"price\"]\n",
    "    print(f\"{product} stock_value: ${stock_value}\")"
   ]
  },
  {
   "cell_type": "code",
   "execution_count": null,
   "id": "a42bdba4-e66c-405f-bf6e-d6b203b54f2c",
   "metadata": {},
   "outputs": [],
   "source": []
  },
  {
   "cell_type": "code",
   "execution_count": 23,
   "id": "3f657fa4-ed56-4bf8-9343-d29957918249",
   "metadata": {},
   "outputs": [
    {
     "ename": "KeyError",
     "evalue": "'stock'",
     "output_type": "error",
     "traceback": [
      "\u001b[1;31m---------------------------------------------------------------------------\u001b[0m",
      "\u001b[1;31mKeyError\u001b[0m                                  Traceback (most recent call last)",
      "Cell \u001b[1;32mIn[23], line 2\u001b[0m\n\u001b[0;32m      1\u001b[0m \u001b[38;5;28;01mfor\u001b[39;00m product, info \u001b[38;5;129;01min\u001b[39;00m inventory\u001b[38;5;241m.\u001b[39mitems():\n\u001b[1;32m----> 2\u001b[0m     stock_value \u001b[38;5;241m=\u001b[39m inventory[\u001b[38;5;124m\"\u001b[39m\u001b[38;5;124mstock\u001b[39m\u001b[38;5;124m\"\u001b[39m] \u001b[38;5;241m*\u001b[39m inventory[\u001b[38;5;124m\"\u001b[39m\u001b[38;5;124mprice\u001b[39m\u001b[38;5;124m\"\u001b[39m]\n\u001b[0;32m      3\u001b[0m     \u001b[38;5;28mprint\u001b[39m(\u001b[38;5;124mf\u001b[39m\u001b[38;5;124m\"\u001b[39m\u001b[38;5;132;01m{\u001b[39;00mkey\u001b[38;5;132;01m}\u001b[39;00m\u001b[38;5;124m stock_value: $\u001b[39m\u001b[38;5;132;01m{\u001b[39;00mstock_value\u001b[38;5;132;01m}\u001b[39;00m\u001b[38;5;124m\"\u001b[39m)\n",
      "\u001b[1;31mKeyError\u001b[0m: 'stock'"
     ]
    }
   ],
   "source": [
    "for product, info in inventory.items():\n",
    "    stock_value = inventory[\"stock\"] * inventory[\"price\"]\n",
    "    print(f\"{key} stock_value: ${stock_value}\")"
   ]
  },
  {
   "cell_type": "code",
   "execution_count": null,
   "id": "ea3ef906-5a76-40ec-b9c3-15901a5998a7",
   "metadata": {},
   "outputs": [],
   "source": []
  },
  {
   "cell_type": "code",
   "execution_count": 24,
   "id": "36ef9f48-67ae-4e9d-b15f-0cf19cd93b70",
   "metadata": {},
   "outputs": [
    {
     "name": "stdout",
     "output_type": "stream",
     "text": [
      "laptop = {'stock': 50, 'price': 1200.99}\n",
      "smartphone = {'stock': 150, 'price': 699.99}\n",
      "headphone = {'stock': 80, 'price': 199.99}\n"
     ]
    }
   ],
   "source": [
    "for product, info in inventory.items():\n",
    "    print(f\"{product} = {info}\")"
   ]
  },
  {
   "cell_type": "code",
   "execution_count": null,
   "id": "e80a7c93-5aca-4e1c-8e9c-8689112d355f",
   "metadata": {},
   "outputs": [],
   "source": []
  },
  {
   "cell_type": "markdown",
   "id": "007aeb9c-9f0e-467d-952a-0919cb7fc8cb",
   "metadata": {},
   "source": [
    "### while loop\n"
   ]
  },
  {
   "cell_type": "code",
   "execution_count": null,
   "id": "84fb9772-5753-4fa4-8b9c-ff2b1d4c5af8",
   "metadata": {},
   "outputs": [],
   "source": []
  },
  {
   "cell_type": "code",
   "execution_count": null,
   "id": "db832f5b-daf4-4e15-95e7-002679995500",
   "metadata": {},
   "outputs": [],
   "source": []
  },
  {
   "cell_type": "code",
   "execution_count": null,
   "id": "d5429b17-091c-4fad-b0a6-018c9ac8069d",
   "metadata": {},
   "outputs": [],
   "source": [
    "# while loop to print values from 1 to 5\n"
   ]
  },
  {
   "cell_type": "code",
   "execution_count": null,
   "id": "675d7953-1d52-4c3b-8346-794ddd889926",
   "metadata": {},
   "outputs": [],
   "source": []
  },
  {
   "cell_type": "code",
   "execution_count": null,
   "id": "09deb73a-4f79-4682-9923-5983d674b09b",
   "metadata": {},
   "outputs": [],
   "source": []
  },
  {
   "cell_type": "code",
   "execution_count": 1,
   "id": "70f68da2-a7d9-4ad8-b911-ce932560d461",
   "metadata": {},
   "outputs": [
    {
     "name": "stdout",
     "output_type": "stream",
     "text": [
      "1\n",
      "2\n",
      "3\n",
      "4\n",
      "5\n",
      "6\n",
      "7\n",
      "8\n",
      "9\n",
      "10\n"
     ]
    }
   ],
   "source": [
    "# program to print the sq of num from 1 to 10\n",
    "\n",
    "# using for loop\n",
    "\n",
    "for i in range(1, 11):\n",
    "    print(i)\n",
    "    "
   ]
  },
  {
   "cell_type": "code",
   "execution_count": null,
   "id": "05c5690d-80b9-4610-ae65-6e8f560f981c",
   "metadata": {},
   "outputs": [],
   "source": []
  },
  {
   "cell_type": "code",
   "execution_count": 2,
   "id": "a257b8f0-9a40-440c-b1be-dee1e6a01ca2",
   "metadata": {},
   "outputs": [
    {
     "name": "stdout",
     "output_type": "stream",
     "text": [
      "the sq of 1 is 1\n",
      "the sq of 2 is 4\n",
      "the sq of 3 is 9\n",
      "the sq of 4 is 16\n",
      "the sq of 5 is 25\n",
      "the sq of 6 is 36\n",
      "the sq of 7 is 49\n",
      "the sq of 8 is 64\n",
      "the sq of 9 is 81\n",
      "the sq of 10 is 100\n"
     ]
    }
   ],
   "source": [
    "# using while loop\n",
    "\n",
    "n=1\n",
    "while n<=10:\n",
    "    sq = n ** 2\n",
    "    print(f\"the sq of {n} is {sq}\")\n",
    "    n = n + 1"
   ]
  },
  {
   "cell_type": "code",
   "execution_count": null,
   "id": "c9f6d9a4-8c94-41f6-a077-9c9221ca1c76",
   "metadata": {},
   "outputs": [],
   "source": []
  },
  {
   "cell_type": "code",
   "execution_count": null,
   "id": "27354f69-a1ee-4973-afca-bf7b0eeff866",
   "metadata": {},
   "outputs": [],
   "source": [
    "# use while loop to creat a password checker\n",
    "\n",
    "password = \"python\"\n",
    "\n",
    "input_password = \" \"\n",
    "\n",
    "while input_password != password:\n",
    "    input_password "
   ]
  },
  {
   "cell_type": "code",
   "execution_count": null,
   "id": "c308925f-130a-48ae-b095-7210932ed906",
   "metadata": {},
   "outputs": [],
   "source": []
  },
  {
   "cell_type": "code",
   "execution_count": null,
   "id": "36797a0d-6482-4bd1-a779-ed5bcd4891e3",
   "metadata": {},
   "outputs": [],
   "source": []
  },
  {
   "cell_type": "markdown",
   "id": "d939942d-a30a-40bf-accd-d08f452c3d6f",
   "metadata": {},
   "source": [
    "#### NumPy\n",
    "\n",
    "Numpy simply means Numerical Python and it is used for numerical computation within the Python Framework"
   ]
  },
  {
   "cell_type": "markdown",
   "id": "0da49647-1fc5-4494-ba0b-b6f18362df14",
   "metadata": {},
   "source": [
    "To use the numpy library in Python, we need to import"
   ]
  },
  {
   "cell_type": "code",
   "execution_count": 1,
   "id": "318d441a-fca9-4427-8d2a-387e5b093ff8",
   "metadata": {},
   "outputs": [],
   "source": [
    "import numpy as np"
   ]
  },
  {
   "cell_type": "code",
   "execution_count": null,
   "id": "5f801fd4-1875-4b96-a150-56372be242b9",
   "metadata": {},
   "outputs": [],
   "source": []
  },
  {
   "cell_type": "code",
   "execution_count": 5,
   "id": "74877741-3403-4b07-9ac5-79a0e79700d8",
   "metadata": {},
   "outputs": [],
   "source": [
    "# creating a 1-D array\n",
    "info = [1,2,3,4,5,6,7,8]"
   ]
  },
  {
   "cell_type": "code",
   "execution_count": 3,
   "id": "536a3cfa-d566-4b10-9c50-9092a00d58fc",
   "metadata": {},
   "outputs": [],
   "source": [
    "new_info = np.array(info)"
   ]
  },
  {
   "cell_type": "code",
   "execution_count": 4,
   "id": "b497e694-5f7c-4722-8fe7-fed7c090f7a3",
   "metadata": {},
   "outputs": [
    {
     "data": {
      "text/plain": [
       "array([1, 2, 3, 4, 5, 6, 7, 8])"
      ]
     },
     "execution_count": 4,
     "metadata": {},
     "output_type": "execute_result"
    }
   ],
   "source": [
    "new_info"
   ]
  },
  {
   "cell_type": "code",
   "execution_count": null,
   "id": "26a1cc22-c393-42bc-a325-11119fc21271",
   "metadata": {},
   "outputs": [],
   "source": []
  },
  {
   "cell_type": "code",
   "execution_count": 6,
   "id": "6d510e34-4013-4fe6-b34e-ff98145cf122",
   "metadata": {},
   "outputs": [],
   "source": [
    "# Creating a 2-D array"
   ]
  },
  {
   "cell_type": "code",
   "execution_count": 8,
   "id": "6499042b-b9c8-47e0-a4fc-6b8c572615fb",
   "metadata": {},
   "outputs": [],
   "source": [
    "second_info = np.array([[2,4,6], [1,3,5]])"
   ]
  },
  {
   "cell_type": "code",
   "execution_count": 9,
   "id": "952ddf75-8b91-4f35-a7e7-70e3679a48e0",
   "metadata": {},
   "outputs": [
    {
     "data": {
      "text/plain": [
       "array([[2, 4, 6],\n",
       "       [1, 3, 5]])"
      ]
     },
     "execution_count": 9,
     "metadata": {},
     "output_type": "execute_result"
    }
   ],
   "source": [
    "second_info"
   ]
  },
  {
   "cell_type": "code",
   "execution_count": 10,
   "id": "5f79588b-977b-4a07-b3a9-c7c08b13b1e7",
   "metadata": {},
   "outputs": [],
   "source": [
    "arr1 = np.array([[1,2,3], [4,5,6], [7,8,9]])"
   ]
  },
  {
   "cell_type": "code",
   "execution_count": 11,
   "id": "398af6d8-0c69-426c-9877-1e8e4a1a36e9",
   "metadata": {},
   "outputs": [
    {
     "data": {
      "text/plain": [
       "array([[1, 2, 3],\n",
       "       [4, 5, 6],\n",
       "       [7, 8, 9]])"
      ]
     },
     "execution_count": 11,
     "metadata": {},
     "output_type": "execute_result"
    }
   ],
   "source": [
    "arr1"
   ]
  },
  {
   "cell_type": "code",
   "execution_count": null,
   "id": "7fd34d48-e930-4a26-837a-03f81f756684",
   "metadata": {},
   "outputs": [],
   "source": []
  },
  {
   "cell_type": "code",
   "execution_count": 12,
   "id": "c45e89ed-1c64-47f6-9332-275b95fd4daa",
   "metadata": {},
   "outputs": [
    {
     "data": {
      "text/plain": [
       "(3, 3)"
      ]
     },
     "execution_count": 12,
     "metadata": {},
     "output_type": "execute_result"
    }
   ],
   "source": [
    "arr1.shape"
   ]
  },
  {
   "cell_type": "code",
   "execution_count": 13,
   "id": "9b6c00bb-b853-4f99-9222-9a623cedf5bb",
   "metadata": {},
   "outputs": [],
   "source": [
    "arr2 = np.array([[2,5,8], [6,1,5], [4,4,2]])"
   ]
  },
  {
   "cell_type": "code",
   "execution_count": 14,
   "id": "a28a796f-840b-43fe-abae-3152e18cf4b5",
   "metadata": {},
   "outputs": [
    {
     "data": {
      "text/plain": [
       "array([[2, 5, 8],\n",
       "       [6, 1, 5],\n",
       "       [4, 4, 2]])"
      ]
     },
     "execution_count": 14,
     "metadata": {},
     "output_type": "execute_result"
    }
   ],
   "source": [
    "arr2"
   ]
  },
  {
   "cell_type": "code",
   "execution_count": 15,
   "id": "41a250ce-9285-4cbe-b8f7-6362fa584082",
   "metadata": {},
   "outputs": [],
   "source": [
    "# array addition\n",
    "\n",
    "arr3 = arr1 + arr2"
   ]
  },
  {
   "cell_type": "code",
   "execution_count": 16,
   "id": "003f2d42-24a4-4153-8af3-d305d199c495",
   "metadata": {},
   "outputs": [
    {
     "data": {
      "text/plain": [
       "array([[ 3,  7, 11],\n",
       "       [10,  6, 11],\n",
       "       [11, 12, 11]])"
      ]
     },
     "execution_count": 16,
     "metadata": {},
     "output_type": "execute_result"
    }
   ],
   "source": [
    "arr3 "
   ]
  },
  {
   "cell_type": "code",
   "execution_count": 18,
   "id": "3ed1d218-aa9c-4a41-a428-a9b057800a8b",
   "metadata": {},
   "outputs": [],
   "source": [
    "num_arr1 = np.array([[2,5], [3,4]])\n",
    "\n",
    "num_arr2 = np.array([[1,6], [9,7]])"
   ]
  },
  {
   "cell_type": "code",
   "execution_count": 19,
   "id": "fc6ba711-bb15-4181-bf38-be04765424af",
   "metadata": {},
   "outputs": [],
   "source": [
    "num_arr3 = num_arr1 + num_arr2"
   ]
  },
  {
   "cell_type": "code",
   "execution_count": 20,
   "id": "03e7d037-88a1-4cfa-9266-9520c190f1c5",
   "metadata": {},
   "outputs": [
    {
     "data": {
      "text/plain": [
       "array([[ 3, 11],\n",
       "       [12, 11]])"
      ]
     },
     "execution_count": 20,
     "metadata": {},
     "output_type": "execute_result"
    }
   ],
   "source": [
    "num_arr3"
   ]
  },
  {
   "cell_type": "code",
   "execution_count": null,
   "id": "1bd2cb01-b0f4-4d8b-8993-0cc586021439",
   "metadata": {},
   "outputs": [],
   "source": []
  },
  {
   "cell_type": "markdown",
   "id": "f6c66c5c-06c3-4618-b980-e97fed1a1922",
   "metadata": {},
   "source": [
    "### Generating Data from NumPy arrays"
   ]
  },
  {
   "cell_type": "code",
   "execution_count": 21,
   "id": "6bb14ea8-b651-4cf3-96a5-bfc3e3a776ec",
   "metadata": {},
   "outputs": [],
   "source": [
    "# zero arrays\n",
    "\n",
    "zero_array = np.zeros((3,3))"
   ]
  },
  {
   "cell_type": "code",
   "execution_count": 22,
   "id": "6a90c2f9-9a60-4f95-bdbf-b9fe61ff3684",
   "metadata": {},
   "outputs": [
    {
     "data": {
      "text/plain": [
       "array([[0., 0., 0.],\n",
       "       [0., 0., 0.],\n",
       "       [0., 0., 0.]])"
      ]
     },
     "execution_count": 22,
     "metadata": {},
     "output_type": "execute_result"
    }
   ],
   "source": [
    "zero_array"
   ]
  },
  {
   "cell_type": "code",
   "execution_count": null,
   "id": "93a4a1ea-1b7e-4b13-b2cd-d37f30d7fd49",
   "metadata": {},
   "outputs": [],
   "source": []
  },
  {
   "cell_type": "code",
   "execution_count": 23,
   "id": "56a75052-3620-483a-b604-8376de06c7d3",
   "metadata": {},
   "outputs": [
    {
     "data": {
      "text/plain": [
       "array([[1., 1., 1.],\n",
       "       [1., 1., 1.]])"
      ]
     },
     "execution_count": 23,
     "metadata": {},
     "output_type": "execute_result"
    }
   ],
   "source": [
    "# ones array\n",
    "\n",
    "one_array = np.ones((2,3))\n",
    "\n",
    "one_array"
   ]
  },
  {
   "cell_type": "code",
   "execution_count": null,
   "id": "3226d9ec-c1c2-4742-a219-80715748cffb",
   "metadata": {},
   "outputs": [],
   "source": []
  },
  {
   "cell_type": "code",
   "execution_count": 24,
   "id": "9c39dcf0-64b9-42d3-b049-685b5e1fa458",
   "metadata": {},
   "outputs": [
    {
     "data": {
      "text/plain": [
       "array([1, 2, 3, 4, 5])"
      ]
     },
     "execution_count": 24,
     "metadata": {},
     "output_type": "execute_result"
    }
   ],
   "source": [
    "# range in numpy\n",
    "\n",
    "arr_range = np.arange(1, 6)\n",
    "arr_range"
   ]
  },
  {
   "cell_type": "code",
   "execution_count": 25,
   "id": "cd8b3608-4131-42e4-be27-7f236ef9ba59",
   "metadata": {},
   "outputs": [
    {
     "data": {
      "text/plain": [
       "array([[0.43279915, 0.73820624, 0.56704175],\n",
       "       [0.87403587, 0.34440878, 0.46908168],\n",
       "       [0.81185198, 0.19838903, 0.87779192]])"
      ]
     },
     "execution_count": 25,
     "metadata": {},
     "output_type": "execute_result"
    }
   ],
   "source": [
    "#  Generate random number between 0 and 1\n",
    "\n",
    "rand_num = np.random.rand(3,3)\n",
    "rand_num"
   ]
  },
  {
   "cell_type": "code",
   "execution_count": null,
   "id": "5f731342-9b9d-4bfb-bc25-2575a4632ff4",
   "metadata": {},
   "outputs": [],
   "source": [
    "#  Generate random normal numbers -1.9 t0 +1.9\n",
    "\n",
    "rand_num2 =np.random"
   ]
  },
  {
   "cell_type": "code",
   "execution_count": null,
   "id": "aa20a357-615b-4b2a-8536-bbe2c03bd3cf",
   "metadata": {},
   "outputs": [],
   "source": []
  },
  {
   "cell_type": "code",
   "execution_count": 26,
   "id": "b222f6e3-5933-48a9-9404-ff08ff2b9682",
   "metadata": {},
   "outputs": [],
   "source": [
    "# Generate random int "
   ]
  },
  {
   "cell_type": "code",
   "execution_count": 29,
   "id": "c1d2495e-0f61-48f0-8714-148ffecd9c18",
   "metadata": {},
   "outputs": [
    {
     "data": {
      "text/plain": [
       "array([[ 1,  4, 13],\n",
       "       [ 8, 14,  9],\n",
       "       [ 6, 12, 10]])"
      ]
     },
     "execution_count": 29,
     "metadata": {},
     "output_type": "execute_result"
    }
   ],
   "source": [
    "rand_int = np.random.randint(1,15, size=(3,3))\n",
    "rand_int"
   ]
  },
  {
   "cell_type": "code",
   "execution_count": null,
   "id": "a1822e2e-3aef-4f9c-81ed-9725c2aabdeb",
   "metadata": {},
   "outputs": [],
   "source": []
  },
  {
   "cell_type": "markdown",
   "id": "b5c47316-8dce-40f8-91f5-8c2f85ded5ea",
   "metadata": {},
   "source": [
    "# Pandas Method"
   ]
  },
  {
   "cell_type": "markdown",
   "id": "d7f28a7b-7710-4610-9881-eebf7708724d",
   "metadata": {},
   "source": [
    "# Series Vs DataFrame\n",
    "Datascience operations "
   ]
  },
  {
   "cell_type": "code",
   "execution_count": 30,
   "id": "d6935300-8982-441f-b1ef-44a538474ba3",
   "metadata": {},
   "outputs": [],
   "source": [
    "import pandas as pd"
   ]
  },
  {
   "cell_type": "code",
   "execution_count": null,
   "id": "90e6e0b9-2da8-4baf-9b65-9dad3cf4a528",
   "metadata": {},
   "outputs": [],
   "source": []
  },
  {
   "cell_type": "code",
   "execution_count": null,
   "id": "dcce307d-49e4-41a6-8f00-cc2a3e75418b",
   "metadata": {},
   "outputs": [],
   "source": []
  },
  {
   "cell_type": "code",
   "execution_count": 64,
   "id": "7dfdae98-0c40-4365-877e-f268b0204ce6",
   "metadata": {},
   "outputs": [
    {
     "data": {
      "text/html": [
       "<div>\n",
       "<style scoped>\n",
       "    .dataframe tbody tr th:only-of-type {\n",
       "        vertical-align: middle;\n",
       "    }\n",
       "\n",
       "    .dataframe tbody tr th {\n",
       "        vertical-align: top;\n",
       "    }\n",
       "\n",
       "    .dataframe thead th {\n",
       "        text-align: right;\n",
       "    }\n",
       "</style>\n",
       "<table border=\"1\" class=\"dataframe\">\n",
       "  <thead>\n",
       "    <tr style=\"text-align: right;\">\n",
       "      <th></th>\n",
       "      <th>products</th>\n",
       "      <th>Price</th>\n",
       "      <th>Category</th>\n",
       "    </tr>\n",
       "  </thead>\n",
       "  <tbody>\n",
       "    <tr>\n",
       "      <th>0</th>\n",
       "      <td>Laptop</td>\n",
       "      <td>1200.0</td>\n",
       "      <td>Electronics</td>\n",
       "    </tr>\n",
       "    <tr>\n",
       "      <th>1</th>\n",
       "      <td>Mouse</td>\n",
       "      <td>200.0</td>\n",
       "      <td>Accessories</td>\n",
       "    </tr>\n",
       "    <tr>\n",
       "      <th>2</th>\n",
       "      <td>None</td>\n",
       "      <td>150.0</td>\n",
       "      <td>Asessories</td>\n",
       "    </tr>\n",
       "    <tr>\n",
       "      <th>3</th>\n",
       "      <td>Keyboard</td>\n",
       "      <td>NaN</td>\n",
       "      <td>Assessories</td>\n",
       "    </tr>\n",
       "    <tr>\n",
       "      <th>4</th>\n",
       "      <td>Headset</td>\n",
       "      <td>500.0</td>\n",
       "      <td>Electronics</td>\n",
       "    </tr>\n",
       "  </tbody>\n",
       "</table>\n",
       "</div>"
      ],
      "text/plain": [
       "   products   Price     Category\n",
       "0    Laptop  1200.0  Electronics\n",
       "1     Mouse   200.0  Accessories\n",
       "2      None   150.0   Asessories\n",
       "3  Keyboard     NaN  Assessories\n",
       "4   Headset   500.0  Electronics"
      ]
     },
     "execution_count": 64,
     "metadata": {},
     "output_type": "execute_result"
    }
   ],
   "source": [
    "# create a pandas DataFrame\n",
    "\n",
    "product = pd.DataFrame({\n",
    "    \"products\": [\"Laptop\", \"Mouse\", None, \"Keyboard\", \"Headset\"],\n",
    "    \"Price\": [1200, 200, 150, None, 500],\n",
    "    \"Category\": [\"Electronics\", \"Accessories\", \"Asessories\", \"Assessories\", \"Electronics\"]\n",
    "})\n",
    "\n",
    "product"
   ]
  },
  {
   "cell_type": "code",
   "execution_count": null,
   "id": "0c7e5ce9-c48a-45b2-ae7b-d5d80284335b",
   "metadata": {},
   "outputs": [],
   "source": []
  },
  {
   "cell_type": "code",
   "execution_count": 32,
   "id": "b76d092d-3ae8-411d-93d0-56bec0249286",
   "metadata": {},
   "outputs": [
    {
     "data": {
      "text/html": [
       "<div>\n",
       "<style scoped>\n",
       "    .dataframe tbody tr th:only-of-type {\n",
       "        vertical-align: middle;\n",
       "    }\n",
       "\n",
       "    .dataframe tbody tr th {\n",
       "        vertical-align: top;\n",
       "    }\n",
       "\n",
       "    .dataframe thead th {\n",
       "        text-align: right;\n",
       "    }\n",
       "</style>\n",
       "<table border=\"1\" class=\"dataframe\">\n",
       "  <thead>\n",
       "    <tr style=\"text-align: right;\">\n",
       "      <th></th>\n",
       "      <th>products</th>\n",
       "      <th>Quantity</th>\n",
       "      <th>Region</th>\n",
       "    </tr>\n",
       "  </thead>\n",
       "  <tbody>\n",
       "    <tr>\n",
       "      <th>0</th>\n",
       "      <td>Laptop</td>\n",
       "      <td>2</td>\n",
       "      <td>North</td>\n",
       "    </tr>\n",
       "    <tr>\n",
       "      <th>1</th>\n",
       "      <td>Mouse</td>\n",
       "      <td>3</td>\n",
       "      <td>South</td>\n",
       "    </tr>\n",
       "    <tr>\n",
       "      <th>2</th>\n",
       "      <td>None</td>\n",
       "      <td>4</td>\n",
       "      <td>East</td>\n",
       "    </tr>\n",
       "    <tr>\n",
       "      <th>3</th>\n",
       "      <td>Keyboard</td>\n",
       "      <td>5</td>\n",
       "      <td>West</td>\n",
       "    </tr>\n",
       "    <tr>\n",
       "      <th>4</th>\n",
       "      <td>Headset</td>\n",
       "      <td>6</td>\n",
       "      <td>South</td>\n",
       "    </tr>\n",
       "  </tbody>\n",
       "</table>\n",
       "</div>"
      ],
      "text/plain": [
       "   products  Quantity Region\n",
       "0    Laptop         2  North\n",
       "1     Mouse         3  South\n",
       "2      None         4   East\n",
       "3  Keyboard         5   West\n",
       "4   Headset         6  South"
      ]
     },
     "execution_count": 32,
     "metadata": {},
     "output_type": "execute_result"
    }
   ],
   "source": [
    "sales = pd.DataFrame({\n",
    "    \"products\": [\"Laptop\", \"Mouse\", \"None\", \"Keyboard\", \"Headset\"],\n",
    "    \"Quantity\": [2,3,4,5,6],\n",
    "    \"Region\":[\"North\", \"South\",\"East\", \"West\", \"South\"]\n",
    "})\n",
    "\n",
    "sales"
   ]
  },
  {
   "cell_type": "code",
   "execution_count": null,
   "id": "b67f8f13-9ecb-41de-b571-345e3a9681ab",
   "metadata": {},
   "outputs": [],
   "source": []
  },
  {
   "cell_type": "markdown",
   "id": "c1eed5f6-1780-4bf8-b305-b449d92a5328",
   "metadata": {},
   "source": [
    "common methods in pandas\n",
    "- head()\n",
    "- tail()"
   ]
  },
  {
   "cell_type": "code",
   "execution_count": null,
   "id": "f12f7f7f-ce13-42ac-ac4c-ae4749a4cfd2",
   "metadata": {},
   "outputs": [],
   "source": []
  },
  {
   "cell_type": "code",
   "execution_count": 33,
   "id": "1e9d22ab-64cb-478f-ab81-5b327edfb806",
   "metadata": {},
   "outputs": [
    {
     "data": {
      "text/html": [
       "<div>\n",
       "<style scoped>\n",
       "    .dataframe tbody tr th:only-of-type {\n",
       "        vertical-align: middle;\n",
       "    }\n",
       "\n",
       "    .dataframe tbody tr th {\n",
       "        vertical-align: top;\n",
       "    }\n",
       "\n",
       "    .dataframe thead th {\n",
       "        text-align: right;\n",
       "    }\n",
       "</style>\n",
       "<table border=\"1\" class=\"dataframe\">\n",
       "  <thead>\n",
       "    <tr style=\"text-align: right;\">\n",
       "      <th></th>\n",
       "      <th>products</th>\n",
       "      <th>Price</th>\n",
       "      <th>Category</th>\n",
       "    </tr>\n",
       "  </thead>\n",
       "  <tbody>\n",
       "    <tr>\n",
       "      <th>0</th>\n",
       "      <td>Laptop</td>\n",
       "      <td>1200.0</td>\n",
       "      <td>Electronics</td>\n",
       "    </tr>\n",
       "    <tr>\n",
       "      <th>1</th>\n",
       "      <td>Mouse</td>\n",
       "      <td>200.0</td>\n",
       "      <td>Accessories</td>\n",
       "    </tr>\n",
       "    <tr>\n",
       "      <th>2</th>\n",
       "      <td>None</td>\n",
       "      <td>150.0</td>\n",
       "      <td>Asessories</td>\n",
       "    </tr>\n",
       "    <tr>\n",
       "      <th>3</th>\n",
       "      <td>Keyboard</td>\n",
       "      <td>NaN</td>\n",
       "      <td>Assessories</td>\n",
       "    </tr>\n",
       "    <tr>\n",
       "      <th>4</th>\n",
       "      <td>Headset</td>\n",
       "      <td>500.0</td>\n",
       "      <td>Electronics</td>\n",
       "    </tr>\n",
       "  </tbody>\n",
       "</table>\n",
       "</div>"
      ],
      "text/plain": [
       "   products   Price     Category\n",
       "0    Laptop  1200.0  Electronics\n",
       "1     Mouse   200.0  Accessories\n",
       "2      None   150.0   Asessories\n",
       "3  Keyboard     NaN  Assessories\n",
       "4   Headset   500.0  Electronics"
      ]
     },
     "execution_count": 33,
     "metadata": {},
     "output_type": "execute_result"
    }
   ],
   "source": [
    "# .head displays top 5\n",
    "\n",
    "product.head()"
   ]
  },
  {
   "cell_type": "code",
   "execution_count": null,
   "id": "37deee1c-7334-4e81-b8a1-26b54656e3f0",
   "metadata": {},
   "outputs": [],
   "source": []
  },
  {
   "cell_type": "code",
   "execution_count": 34,
   "id": "0b5cc38d-71cf-4635-8d69-ba7bc131ca60",
   "metadata": {},
   "outputs": [
    {
     "data": {
      "text/html": [
       "<div>\n",
       "<style scoped>\n",
       "    .dataframe tbody tr th:only-of-type {\n",
       "        vertical-align: middle;\n",
       "    }\n",
       "\n",
       "    .dataframe tbody tr th {\n",
       "        vertical-align: top;\n",
       "    }\n",
       "\n",
       "    .dataframe thead th {\n",
       "        text-align: right;\n",
       "    }\n",
       "</style>\n",
       "<table border=\"1\" class=\"dataframe\">\n",
       "  <thead>\n",
       "    <tr style=\"text-align: right;\">\n",
       "      <th></th>\n",
       "      <th>products</th>\n",
       "      <th>Price</th>\n",
       "      <th>Category</th>\n",
       "    </tr>\n",
       "  </thead>\n",
       "  <tbody>\n",
       "    <tr>\n",
       "      <th>0</th>\n",
       "      <td>Laptop</td>\n",
       "      <td>1200.0</td>\n",
       "      <td>Electronics</td>\n",
       "    </tr>\n",
       "    <tr>\n",
       "      <th>1</th>\n",
       "      <td>Mouse</td>\n",
       "      <td>200.0</td>\n",
       "      <td>Accessories</td>\n",
       "    </tr>\n",
       "    <tr>\n",
       "      <th>2</th>\n",
       "      <td>None</td>\n",
       "      <td>150.0</td>\n",
       "      <td>Asessories</td>\n",
       "    </tr>\n",
       "    <tr>\n",
       "      <th>3</th>\n",
       "      <td>Keyboard</td>\n",
       "      <td>NaN</td>\n",
       "      <td>Assessories</td>\n",
       "    </tr>\n",
       "    <tr>\n",
       "      <th>4</th>\n",
       "      <td>Headset</td>\n",
       "      <td>500.0</td>\n",
       "      <td>Electronics</td>\n",
       "    </tr>\n",
       "  </tbody>\n",
       "</table>\n",
       "</div>"
      ],
      "text/plain": [
       "   products   Price     Category\n",
       "0    Laptop  1200.0  Electronics\n",
       "1     Mouse   200.0  Accessories\n",
       "2      None   150.0   Asessories\n",
       "3  Keyboard     NaN  Assessories\n",
       "4   Headset   500.0  Electronics"
      ]
     },
     "execution_count": 34,
     "metadata": {},
     "output_type": "execute_result"
    }
   ],
   "source": [
    "product.tail()"
   ]
  },
  {
   "cell_type": "code",
   "execution_count": null,
   "id": "2b2eddba-2fbf-4022-80ae-a1bef7cdbd8e",
   "metadata": {},
   "outputs": [],
   "source": []
  },
  {
   "cell_type": "code",
   "execution_count": 35,
   "id": "db2ae65a-7f5c-4b6a-b8ea-792cc00ea7a4",
   "metadata": {},
   "outputs": [
    {
     "data": {
      "text/plain": [
       "(5, 3)"
      ]
     },
     "execution_count": 35,
     "metadata": {},
     "output_type": "execute_result"
    }
   ],
   "source": [
    "product.shape"
   ]
  },
  {
   "cell_type": "code",
   "execution_count": 38,
   "id": "a6304cb3-d43a-4b32-8540-033415edbf64",
   "metadata": {},
   "outputs": [
    {
     "data": {
      "text/html": [
       "<div>\n",
       "<style scoped>\n",
       "    .dataframe tbody tr th:only-of-type {\n",
       "        vertical-align: middle;\n",
       "    }\n",
       "\n",
       "    .dataframe tbody tr th {\n",
       "        vertical-align: top;\n",
       "    }\n",
       "\n",
       "    .dataframe thead th {\n",
       "        text-align: right;\n",
       "    }\n",
       "</style>\n",
       "<table border=\"1\" class=\"dataframe\">\n",
       "  <thead>\n",
       "    <tr style=\"text-align: right;\">\n",
       "      <th></th>\n",
       "      <th>Price</th>\n",
       "    </tr>\n",
       "  </thead>\n",
       "  <tbody>\n",
       "    <tr>\n",
       "      <th>count</th>\n",
       "      <td>4.000000</td>\n",
       "    </tr>\n",
       "    <tr>\n",
       "      <th>mean</th>\n",
       "      <td>512.500000</td>\n",
       "    </tr>\n",
       "    <tr>\n",
       "      <th>std</th>\n",
       "      <td>483.692395</td>\n",
       "    </tr>\n",
       "    <tr>\n",
       "      <th>min</th>\n",
       "      <td>150.000000</td>\n",
       "    </tr>\n",
       "    <tr>\n",
       "      <th>25%</th>\n",
       "      <td>187.500000</td>\n",
       "    </tr>\n",
       "    <tr>\n",
       "      <th>50%</th>\n",
       "      <td>350.000000</td>\n",
       "    </tr>\n",
       "    <tr>\n",
       "      <th>75%</th>\n",
       "      <td>675.000000</td>\n",
       "    </tr>\n",
       "    <tr>\n",
       "      <th>max</th>\n",
       "      <td>1200.000000</td>\n",
       "    </tr>\n",
       "  </tbody>\n",
       "</table>\n",
       "</div>"
      ],
      "text/plain": [
       "             Price\n",
       "count     4.000000\n",
       "mean    512.500000\n",
       "std     483.692395\n",
       "min     150.000000\n",
       "25%     187.500000\n",
       "50%     350.000000\n",
       "75%     675.000000\n",
       "max    1200.000000"
      ]
     },
     "execution_count": 38,
     "metadata": {},
     "output_type": "execute_result"
    }
   ],
   "source": [
    "# statistical summary of numerical data\n",
    "product.describe()"
   ]
  },
  {
   "cell_type": "code",
   "execution_count": 39,
   "id": "3ac6b286-ea95-492d-bf84-fb35af895978",
   "metadata": {},
   "outputs": [
    {
     "data": {
      "text/html": [
       "<div>\n",
       "<style scoped>\n",
       "    .dataframe tbody tr th:only-of-type {\n",
       "        vertical-align: middle;\n",
       "    }\n",
       "\n",
       "    .dataframe tbody tr th {\n",
       "        vertical-align: top;\n",
       "    }\n",
       "\n",
       "    .dataframe thead th {\n",
       "        text-align: right;\n",
       "    }\n",
       "</style>\n",
       "<table border=\"1\" class=\"dataframe\">\n",
       "  <thead>\n",
       "    <tr style=\"text-align: right;\">\n",
       "      <th></th>\n",
       "      <th>products</th>\n",
       "      <th>Category</th>\n",
       "    </tr>\n",
       "  </thead>\n",
       "  <tbody>\n",
       "    <tr>\n",
       "      <th>count</th>\n",
       "      <td>4</td>\n",
       "      <td>5</td>\n",
       "    </tr>\n",
       "    <tr>\n",
       "      <th>unique</th>\n",
       "      <td>4</td>\n",
       "      <td>4</td>\n",
       "    </tr>\n",
       "    <tr>\n",
       "      <th>top</th>\n",
       "      <td>Laptop</td>\n",
       "      <td>Electronics</td>\n",
       "    </tr>\n",
       "    <tr>\n",
       "      <th>freq</th>\n",
       "      <td>1</td>\n",
       "      <td>2</td>\n",
       "    </tr>\n",
       "  </tbody>\n",
       "</table>\n",
       "</div>"
      ],
      "text/plain": [
       "       products     Category\n",
       "count         4            5\n",
       "unique        4            4\n",
       "top      Laptop  Electronics\n",
       "freq          1            2"
      ]
     },
     "execution_count": 39,
     "metadata": {},
     "output_type": "execute_result"
    }
   ],
   "source": [
    " # statistical summary for categorical vaules\n",
    "\n",
    "product.describe(include='object')"
   ]
  },
  {
   "cell_type": "code",
   "execution_count": 41,
   "id": "a92ae773-2894-40a0-80a6-bc54376bb697",
   "metadata": {},
   "outputs": [
    {
     "name": "stdout",
     "output_type": "stream",
     "text": [
      "<class 'pandas.core.frame.DataFrame'>\n",
      "RangeIndex: 5 entries, 0 to 4\n",
      "Data columns (total 3 columns):\n",
      " #   Column    Non-Null Count  Dtype  \n",
      "---  ------    --------------  -----  \n",
      " 0   products  4 non-null      object \n",
      " 1   Price     4 non-null      float64\n",
      " 2   Category  5 non-null      object \n",
      "dtypes: float64(1), object(2)\n",
      "memory usage: 252.0+ bytes\n"
     ]
    }
   ],
   "source": [
    "product.info()"
   ]
  },
  {
   "cell_type": "code",
   "execution_count": 42,
   "id": "71ba7a4e-881e-4911-a2d2-f257b52205f8",
   "metadata": {},
   "outputs": [
    {
     "data": {
      "text/html": [
       "<div>\n",
       "<style scoped>\n",
       "    .dataframe tbody tr th:only-of-type {\n",
       "        vertical-align: middle;\n",
       "    }\n",
       "\n",
       "    .dataframe tbody tr th {\n",
       "        vertical-align: top;\n",
       "    }\n",
       "\n",
       "    .dataframe thead th {\n",
       "        text-align: right;\n",
       "    }\n",
       "</style>\n",
       "<table border=\"1\" class=\"dataframe\">\n",
       "  <thead>\n",
       "    <tr style=\"text-align: right;\">\n",
       "      <th></th>\n",
       "      <th>products</th>\n",
       "      <th>Price</th>\n",
       "      <th>Category</th>\n",
       "    </tr>\n",
       "  </thead>\n",
       "  <tbody>\n",
       "    <tr>\n",
       "      <th>count</th>\n",
       "      <td>4</td>\n",
       "      <td>4.000000</td>\n",
       "      <td>5</td>\n",
       "    </tr>\n",
       "    <tr>\n",
       "      <th>unique</th>\n",
       "      <td>4</td>\n",
       "      <td>NaN</td>\n",
       "      <td>4</td>\n",
       "    </tr>\n",
       "    <tr>\n",
       "      <th>top</th>\n",
       "      <td>Laptop</td>\n",
       "      <td>NaN</td>\n",
       "      <td>Electronics</td>\n",
       "    </tr>\n",
       "    <tr>\n",
       "      <th>freq</th>\n",
       "      <td>1</td>\n",
       "      <td>NaN</td>\n",
       "      <td>2</td>\n",
       "    </tr>\n",
       "    <tr>\n",
       "      <th>mean</th>\n",
       "      <td>NaN</td>\n",
       "      <td>512.500000</td>\n",
       "      <td>NaN</td>\n",
       "    </tr>\n",
       "    <tr>\n",
       "      <th>std</th>\n",
       "      <td>NaN</td>\n",
       "      <td>483.692395</td>\n",
       "      <td>NaN</td>\n",
       "    </tr>\n",
       "    <tr>\n",
       "      <th>min</th>\n",
       "      <td>NaN</td>\n",
       "      <td>150.000000</td>\n",
       "      <td>NaN</td>\n",
       "    </tr>\n",
       "    <tr>\n",
       "      <th>25%</th>\n",
       "      <td>NaN</td>\n",
       "      <td>187.500000</td>\n",
       "      <td>NaN</td>\n",
       "    </tr>\n",
       "    <tr>\n",
       "      <th>50%</th>\n",
       "      <td>NaN</td>\n",
       "      <td>350.000000</td>\n",
       "      <td>NaN</td>\n",
       "    </tr>\n",
       "    <tr>\n",
       "      <th>75%</th>\n",
       "      <td>NaN</td>\n",
       "      <td>675.000000</td>\n",
       "      <td>NaN</td>\n",
       "    </tr>\n",
       "    <tr>\n",
       "      <th>max</th>\n",
       "      <td>NaN</td>\n",
       "      <td>1200.000000</td>\n",
       "      <td>NaN</td>\n",
       "    </tr>\n",
       "  </tbody>\n",
       "</table>\n",
       "</div>"
      ],
      "text/plain": [
       "       products        Price     Category\n",
       "count         4     4.000000            5\n",
       "unique        4          NaN            4\n",
       "top      Laptop          NaN  Electronics\n",
       "freq          1          NaN            2\n",
       "mean        NaN   512.500000          NaN\n",
       "std         NaN   483.692395          NaN\n",
       "min         NaN   150.000000          NaN\n",
       "25%         NaN   187.500000          NaN\n",
       "50%         NaN   350.000000          NaN\n",
       "75%         NaN   675.000000          NaN\n",
       "max         NaN  1200.000000          NaN"
      ]
     },
     "execution_count": 42,
     "metadata": {},
     "output_type": "execute_result"
    }
   ],
   "source": [
    "product.describe(include='all')"
   ]
  },
  {
   "cell_type": "code",
   "execution_count": 43,
   "id": "b723a238-45b1-48eb-87f9-ee811fd549af",
   "metadata": {},
   "outputs": [
    {
     "data": {
      "text/plain": [
       "(5, 3)"
      ]
     },
     "execution_count": 43,
     "metadata": {},
     "output_type": "execute_result"
    }
   ],
   "source": [
    "product.shape"
   ]
  },
  {
   "cell_type": "code",
   "execution_count": 44,
   "id": "9d05dee3-4bb5-432f-b73e-a9ad68196c13",
   "metadata": {},
   "outputs": [
    {
     "data": {
      "text/plain": [
       "15"
      ]
     },
     "execution_count": 44,
     "metadata": {},
     "output_type": "execute_result"
    }
   ],
   "source": [
    "product.size"
   ]
  },
  {
   "cell_type": "code",
   "execution_count": 45,
   "id": "0dfefc36-6c29-441c-972b-60a347e1ac07",
   "metadata": {},
   "outputs": [
    {
     "data": {
      "text/html": [
       "<div>\n",
       "<style scoped>\n",
       "    .dataframe tbody tr th:only-of-type {\n",
       "        vertical-align: middle;\n",
       "    }\n",
       "\n",
       "    .dataframe tbody tr th {\n",
       "        vertical-align: top;\n",
       "    }\n",
       "\n",
       "    .dataframe thead th {\n",
       "        text-align: right;\n",
       "    }\n",
       "</style>\n",
       "<table border=\"1\" class=\"dataframe\">\n",
       "  <thead>\n",
       "    <tr style=\"text-align: right;\">\n",
       "      <th></th>\n",
       "      <th>products</th>\n",
       "      <th>Quantity</th>\n",
       "      <th>Region</th>\n",
       "    </tr>\n",
       "  </thead>\n",
       "  <tbody>\n",
       "    <tr>\n",
       "      <th>0</th>\n",
       "      <td>Laptop</td>\n",
       "      <td>2</td>\n",
       "      <td>North</td>\n",
       "    </tr>\n",
       "    <tr>\n",
       "      <th>1</th>\n",
       "      <td>Mouse</td>\n",
       "      <td>3</td>\n",
       "      <td>South</td>\n",
       "    </tr>\n",
       "    <tr>\n",
       "      <th>2</th>\n",
       "      <td>None</td>\n",
       "      <td>4</td>\n",
       "      <td>East</td>\n",
       "    </tr>\n",
       "    <tr>\n",
       "      <th>3</th>\n",
       "      <td>Keyboard</td>\n",
       "      <td>5</td>\n",
       "      <td>West</td>\n",
       "    </tr>\n",
       "    <tr>\n",
       "      <th>4</th>\n",
       "      <td>Headset</td>\n",
       "      <td>6</td>\n",
       "      <td>South</td>\n",
       "    </tr>\n",
       "  </tbody>\n",
       "</table>\n",
       "</div>"
      ],
      "text/plain": [
       "   products  Quantity Region\n",
       "0    Laptop         2  North\n",
       "1     Mouse         3  South\n",
       "2      None         4   East\n",
       "3  Keyboard         5   West\n",
       "4   Headset         6  South"
      ]
     },
     "execution_count": 45,
     "metadata": {},
     "output_type": "execute_result"
    }
   ],
   "source": [
    "sales.head()"
   ]
  },
  {
   "cell_type": "code",
   "execution_count": 46,
   "id": "6c982fee-b691-488e-87ae-5404a90d902d",
   "metadata": {},
   "outputs": [
    {
     "data": {
      "text/plain": [
       "15"
      ]
     },
     "execution_count": 46,
     "metadata": {},
     "output_type": "execute_result"
    }
   ],
   "source": [
    "sales.size"
   ]
  },
  {
   "cell_type": "code",
   "execution_count": null,
   "id": "eb2c5dca-1ff5-4781-932b-dbfae0fa5532",
   "metadata": {},
   "outputs": [],
   "source": []
  },
  {
   "cell_type": "code",
   "execution_count": 47,
   "id": "cbd0a5af-64f1-4d40-8872-9a3a203f0564",
   "metadata": {},
   "outputs": [
    {
     "data": {
      "text/html": [
       "<div>\n",
       "<style scoped>\n",
       "    .dataframe tbody tr th:only-of-type {\n",
       "        vertical-align: middle;\n",
       "    }\n",
       "\n",
       "    .dataframe tbody tr th {\n",
       "        vertical-align: top;\n",
       "    }\n",
       "\n",
       "    .dataframe thead th {\n",
       "        text-align: right;\n",
       "    }\n",
       "</style>\n",
       "<table border=\"1\" class=\"dataframe\">\n",
       "  <thead>\n",
       "    <tr style=\"text-align: right;\">\n",
       "      <th></th>\n",
       "      <th>products</th>\n",
       "      <th>Quantity</th>\n",
       "      <th>Region</th>\n",
       "    </tr>\n",
       "  </thead>\n",
       "  <tbody>\n",
       "    <tr>\n",
       "      <th>count</th>\n",
       "      <td>5</td>\n",
       "      <td>5.000000</td>\n",
       "      <td>5</td>\n",
       "    </tr>\n",
       "    <tr>\n",
       "      <th>unique</th>\n",
       "      <td>5</td>\n",
       "      <td>NaN</td>\n",
       "      <td>4</td>\n",
       "    </tr>\n",
       "    <tr>\n",
       "      <th>top</th>\n",
       "      <td>Laptop</td>\n",
       "      <td>NaN</td>\n",
       "      <td>South</td>\n",
       "    </tr>\n",
       "    <tr>\n",
       "      <th>freq</th>\n",
       "      <td>1</td>\n",
       "      <td>NaN</td>\n",
       "      <td>2</td>\n",
       "    </tr>\n",
       "    <tr>\n",
       "      <th>mean</th>\n",
       "      <td>NaN</td>\n",
       "      <td>4.000000</td>\n",
       "      <td>NaN</td>\n",
       "    </tr>\n",
       "    <tr>\n",
       "      <th>std</th>\n",
       "      <td>NaN</td>\n",
       "      <td>1.581139</td>\n",
       "      <td>NaN</td>\n",
       "    </tr>\n",
       "    <tr>\n",
       "      <th>min</th>\n",
       "      <td>NaN</td>\n",
       "      <td>2.000000</td>\n",
       "      <td>NaN</td>\n",
       "    </tr>\n",
       "    <tr>\n",
       "      <th>25%</th>\n",
       "      <td>NaN</td>\n",
       "      <td>3.000000</td>\n",
       "      <td>NaN</td>\n",
       "    </tr>\n",
       "    <tr>\n",
       "      <th>50%</th>\n",
       "      <td>NaN</td>\n",
       "      <td>4.000000</td>\n",
       "      <td>NaN</td>\n",
       "    </tr>\n",
       "    <tr>\n",
       "      <th>75%</th>\n",
       "      <td>NaN</td>\n",
       "      <td>5.000000</td>\n",
       "      <td>NaN</td>\n",
       "    </tr>\n",
       "    <tr>\n",
       "      <th>max</th>\n",
       "      <td>NaN</td>\n",
       "      <td>6.000000</td>\n",
       "      <td>NaN</td>\n",
       "    </tr>\n",
       "  </tbody>\n",
       "</table>\n",
       "</div>"
      ],
      "text/plain": [
       "       products  Quantity Region\n",
       "count         5  5.000000      5\n",
       "unique        5       NaN      4\n",
       "top      Laptop       NaN  South\n",
       "freq          1       NaN      2\n",
       "mean        NaN  4.000000    NaN\n",
       "std         NaN  1.581139    NaN\n",
       "min         NaN  2.000000    NaN\n",
       "25%         NaN  3.000000    NaN\n",
       "50%         NaN  4.000000    NaN\n",
       "75%         NaN  5.000000    NaN\n",
       "max         NaN  6.000000    NaN"
      ]
     },
     "execution_count": 47,
     "metadata": {},
     "output_type": "execute_result"
    }
   ],
   "source": [
    "sales.describe(include='all')"
   ]
  },
  {
   "cell_type": "code",
   "execution_count": 48,
   "id": "c331cdc8-9b09-4f0d-80a1-30e8912bb6eb",
   "metadata": {},
   "outputs": [
    {
     "data": {
      "text/plain": [
       "(5, 3)"
      ]
     },
     "execution_count": 48,
     "metadata": {},
     "output_type": "execute_result"
    }
   ],
   "source": [
    "sales.shape"
   ]
  },
  {
   "cell_type": "code",
   "execution_count": 49,
   "id": "75f54a6e-6a01-41f8-bfe0-0854dd24c9f0",
   "metadata": {},
   "outputs": [
    {
     "name": "stdout",
     "output_type": "stream",
     "text": [
      "<class 'pandas.core.frame.DataFrame'>\n",
      "RangeIndex: 5 entries, 0 to 4\n",
      "Data columns (total 3 columns):\n",
      " #   Column    Non-Null Count  Dtype \n",
      "---  ------    --------------  ----- \n",
      " 0   products  5 non-null      object\n",
      " 1   Quantity  5 non-null      int64 \n",
      " 2   Region    5 non-null      object\n",
      "dtypes: int64(1), object(2)\n",
      "memory usage: 252.0+ bytes\n"
     ]
    }
   ],
   "source": [
    "sales.info()"
   ]
  },
  {
   "cell_type": "markdown",
   "id": "737c4164-5603-4d51-ba97-75c99fb65107",
   "metadata": {},
   "source": [
    "# handling missing data"
   ]
  },
  {
   "cell_type": "code",
   "execution_count": 53,
   "id": "69ba9e98-fa67-4919-9090-8ca9006db71e",
   "metadata": {},
   "outputs": [
    {
     "data": {
      "text/plain": [
       "products    1\n",
       "Price       1\n",
       "Category    0\n",
       "dtype: int64"
      ]
     },
     "execution_count": 53,
     "metadata": {},
     "output_type": "execute_result"
    }
   ],
   "source": [
    "product.isna().sum()"
   ]
  },
  {
   "cell_type": "code",
   "execution_count": 54,
   "id": "fa97d09a-447a-443a-b8a1-a8f3c3f4cf6e",
   "metadata": {},
   "outputs": [
    {
     "data": {
      "text/plain": [
       "products    0\n",
       "Quantity    0\n",
       "Region      0\n",
       "dtype: int64"
      ]
     },
     "execution_count": 54,
     "metadata": {},
     "output_type": "execute_result"
    }
   ],
   "source": [
    "sales.isna().sum()"
   ]
  },
  {
   "cell_type": "code",
   "execution_count": 55,
   "id": "dda27323-2584-43ed-a1a2-f0e43b6dd1c8",
   "metadata": {},
   "outputs": [],
   "source": [
    "# How to fill the missing value: fill and drop"
   ]
  },
  {
   "cell_type": "code",
   "execution_count": 56,
   "id": "e93af81e-79c3-4142-8476-0e64ede12cb0",
   "metadata": {},
   "outputs": [
    {
     "data": {
      "text/html": [
       "<div>\n",
       "<style scoped>\n",
       "    .dataframe tbody tr th:only-of-type {\n",
       "        vertical-align: middle;\n",
       "    }\n",
       "\n",
       "    .dataframe tbody tr th {\n",
       "        vertical-align: top;\n",
       "    }\n",
       "\n",
       "    .dataframe thead th {\n",
       "        text-align: right;\n",
       "    }\n",
       "</style>\n",
       "<table border=\"1\" class=\"dataframe\">\n",
       "  <thead>\n",
       "    <tr style=\"text-align: right;\">\n",
       "      <th></th>\n",
       "      <th>products</th>\n",
       "      <th>Price</th>\n",
       "      <th>Category</th>\n",
       "    </tr>\n",
       "  </thead>\n",
       "  <tbody>\n",
       "    <tr>\n",
       "      <th>0</th>\n",
       "      <td>Laptop</td>\n",
       "      <td>1200.0</td>\n",
       "      <td>Electronics</td>\n",
       "    </tr>\n",
       "    <tr>\n",
       "      <th>1</th>\n",
       "      <td>Mouse</td>\n",
       "      <td>200.0</td>\n",
       "      <td>Accessories</td>\n",
       "    </tr>\n",
       "    <tr>\n",
       "      <th>2</th>\n",
       "      <td>None</td>\n",
       "      <td>150.0</td>\n",
       "      <td>Asessories</td>\n",
       "    </tr>\n",
       "    <tr>\n",
       "      <th>3</th>\n",
       "      <td>Keyboard</td>\n",
       "      <td>NaN</td>\n",
       "      <td>Assessories</td>\n",
       "    </tr>\n",
       "    <tr>\n",
       "      <th>4</th>\n",
       "      <td>Headset</td>\n",
       "      <td>500.0</td>\n",
       "      <td>Electronics</td>\n",
       "    </tr>\n",
       "  </tbody>\n",
       "</table>\n",
       "</div>"
      ],
      "text/plain": [
       "   products   Price     Category\n",
       "0    Laptop  1200.0  Electronics\n",
       "1     Mouse   200.0  Accessories\n",
       "2      None   150.0   Asessories\n",
       "3  Keyboard     NaN  Assessories\n",
       "4   Headset   500.0  Electronics"
      ]
     },
     "execution_count": 56,
     "metadata": {},
     "output_type": "execute_result"
    }
   ],
   "source": [
    "product"
   ]
  },
  {
   "cell_type": "code",
   "execution_count": 61,
   "id": "b2d0efbd-8ffe-4d08-bbd8-a556fabf9e19",
   "metadata": {},
   "outputs": [],
   "source": [
    "price_median = product[\"Price\"].median()"
   ]
  },
  {
   "cell_type": "code",
   "execution_count": 66,
   "id": "9a9d67e7-060e-450e-b638-b007765664cf",
   "metadata": {},
   "outputs": [],
   "source": [
    "product[\"Price\"] = product['Price'].fillna(price_median)"
   ]
  },
  {
   "cell_type": "code",
   "execution_count": 67,
   "id": "c11b2d14-d26e-44fc-b6e1-511eaf98d585",
   "metadata": {},
   "outputs": [
    {
     "data": {
      "text/html": [
       "<div>\n",
       "<style scoped>\n",
       "    .dataframe tbody tr th:only-of-type {\n",
       "        vertical-align: middle;\n",
       "    }\n",
       "\n",
       "    .dataframe tbody tr th {\n",
       "        vertical-align: top;\n",
       "    }\n",
       "\n",
       "    .dataframe thead th {\n",
       "        text-align: right;\n",
       "    }\n",
       "</style>\n",
       "<table border=\"1\" class=\"dataframe\">\n",
       "  <thead>\n",
       "    <tr style=\"text-align: right;\">\n",
       "      <th></th>\n",
       "      <th>products</th>\n",
       "      <th>Price</th>\n",
       "      <th>Category</th>\n",
       "    </tr>\n",
       "  </thead>\n",
       "  <tbody>\n",
       "    <tr>\n",
       "      <th>0</th>\n",
       "      <td>Laptop</td>\n",
       "      <td>1200.0</td>\n",
       "      <td>Electronics</td>\n",
       "    </tr>\n",
       "    <tr>\n",
       "      <th>1</th>\n",
       "      <td>Mouse</td>\n",
       "      <td>200.0</td>\n",
       "      <td>Accessories</td>\n",
       "    </tr>\n",
       "    <tr>\n",
       "      <th>2</th>\n",
       "      <td>None</td>\n",
       "      <td>150.0</td>\n",
       "      <td>Asessories</td>\n",
       "    </tr>\n",
       "    <tr>\n",
       "      <th>3</th>\n",
       "      <td>Keyboard</td>\n",
       "      <td>350.0</td>\n",
       "      <td>Assessories</td>\n",
       "    </tr>\n",
       "    <tr>\n",
       "      <th>4</th>\n",
       "      <td>Headset</td>\n",
       "      <td>500.0</td>\n",
       "      <td>Electronics</td>\n",
       "    </tr>\n",
       "  </tbody>\n",
       "</table>\n",
       "</div>"
      ],
      "text/plain": [
       "   products   Price     Category\n",
       "0    Laptop  1200.0  Electronics\n",
       "1     Mouse   200.0  Accessories\n",
       "2      None   150.0   Asessories\n",
       "3  Keyboard   350.0  Assessories\n",
       "4   Headset   500.0  Electronics"
      ]
     },
     "execution_count": 67,
     "metadata": {},
     "output_type": "execute_result"
    }
   ],
   "source": [
    "product"
   ]
  },
  {
   "cell_type": "code",
   "execution_count": null,
   "id": "1c846690-f8a6-435e-b9df-7748287cbd15",
   "metadata": {},
   "outputs": [],
   "source": []
  },
  {
   "cell_type": "code",
   "execution_count": 68,
   "id": "98da4a08-4155-43dd-9b73-d9d11b3b43c3",
   "metadata": {},
   "outputs": [
    {
     "data": {
      "text/html": [
       "<div>\n",
       "<style scoped>\n",
       "    .dataframe tbody tr th:only-of-type {\n",
       "        vertical-align: middle;\n",
       "    }\n",
       "\n",
       "    .dataframe tbody tr th {\n",
       "        vertical-align: top;\n",
       "    }\n",
       "\n",
       "    .dataframe thead th {\n",
       "        text-align: right;\n",
       "    }\n",
       "</style>\n",
       "<table border=\"1\" class=\"dataframe\">\n",
       "  <thead>\n",
       "    <tr style=\"text-align: right;\">\n",
       "      <th></th>\n",
       "      <th>products</th>\n",
       "      <th>Price</th>\n",
       "      <th>Category</th>\n",
       "    </tr>\n",
       "  </thead>\n",
       "  <tbody>\n",
       "    <tr>\n",
       "      <th>0</th>\n",
       "      <td>Laptop</td>\n",
       "      <td>1200.0</td>\n",
       "      <td>Electronics</td>\n",
       "    </tr>\n",
       "    <tr>\n",
       "      <th>1</th>\n",
       "      <td>Mouse</td>\n",
       "      <td>200.0</td>\n",
       "      <td>Accessories</td>\n",
       "    </tr>\n",
       "    <tr>\n",
       "      <th>3</th>\n",
       "      <td>Keyboard</td>\n",
       "      <td>350.0</td>\n",
       "      <td>Assessories</td>\n",
       "    </tr>\n",
       "    <tr>\n",
       "      <th>4</th>\n",
       "      <td>Headset</td>\n",
       "      <td>500.0</td>\n",
       "      <td>Electronics</td>\n",
       "    </tr>\n",
       "  </tbody>\n",
       "</table>\n",
       "</div>"
      ],
      "text/plain": [
       "   products   Price     Category\n",
       "0    Laptop  1200.0  Electronics\n",
       "1     Mouse   200.0  Accessories\n",
       "3  Keyboard   350.0  Assessories\n",
       "4   Headset   500.0  Electronics"
      ]
     },
     "execution_count": 68,
     "metadata": {},
     "output_type": "execute_result"
    }
   ],
   "source": [
    "product.dropna()"
   ]
  },
  {
   "cell_type": "raw",
   "id": "04a9340d-821c-435a-bfd4-18c48685e8a6",
   "metadata": {},
   "source": [
    "product_mode = product['Product'].mode()[0]\n",
    "product_mode"
   ]
  },
  {
   "cell_type": "code",
   "execution_count": 69,
   "id": "01339147-c8df-4d8d-800f-65c522478489",
   "metadata": {},
   "outputs": [
    {
     "ename": "KeyError",
     "evalue": "'Product'",
     "output_type": "error",
     "traceback": [
      "\u001b[1;31m---------------------------------------------------------------------------\u001b[0m",
      "\u001b[1;31mKeyError\u001b[0m                                  Traceback (most recent call last)",
      "File \u001b[1;32mC:\\ProgramData\\anaconda3\\Lib\\site-packages\\pandas\\core\\indexes\\base.py:3805\u001b[0m, in \u001b[0;36mIndex.get_loc\u001b[1;34m(self, key)\u001b[0m\n\u001b[0;32m   3804\u001b[0m \u001b[38;5;28;01mtry\u001b[39;00m:\n\u001b[1;32m-> 3805\u001b[0m     \u001b[38;5;28;01mreturn\u001b[39;00m \u001b[38;5;28mself\u001b[39m\u001b[38;5;241m.\u001b[39m_engine\u001b[38;5;241m.\u001b[39mget_loc(casted_key)\n\u001b[0;32m   3806\u001b[0m \u001b[38;5;28;01mexcept\u001b[39;00m \u001b[38;5;167;01mKeyError\u001b[39;00m \u001b[38;5;28;01mas\u001b[39;00m err:\n",
      "File \u001b[1;32mindex.pyx:167\u001b[0m, in \u001b[0;36mpandas._libs.index.IndexEngine.get_loc\u001b[1;34m()\u001b[0m\n",
      "File \u001b[1;32mindex.pyx:196\u001b[0m, in \u001b[0;36mpandas._libs.index.IndexEngine.get_loc\u001b[1;34m()\u001b[0m\n",
      "File \u001b[1;32mpandas\\\\_libs\\\\hashtable_class_helper.pxi:7081\u001b[0m, in \u001b[0;36mpandas._libs.hashtable.PyObjectHashTable.get_item\u001b[1;34m()\u001b[0m\n",
      "File \u001b[1;32mpandas\\\\_libs\\\\hashtable_class_helper.pxi:7089\u001b[0m, in \u001b[0;36mpandas._libs.hashtable.PyObjectHashTable.get_item\u001b[1;34m()\u001b[0m\n",
      "\u001b[1;31mKeyError\u001b[0m: 'Product'",
      "\nThe above exception was the direct cause of the following exception:\n",
      "\u001b[1;31mKeyError\u001b[0m                                  Traceback (most recent call last)",
      "Cell \u001b[1;32mIn[69], line 1\u001b[0m\n\u001b[1;32m----> 1\u001b[0m product[\u001b[38;5;124m\"\u001b[39m\u001b[38;5;124mProduct\u001b[39m\u001b[38;5;124m\"\u001b[39m] \u001b[38;5;241m=\u001b[39m product[\u001b[38;5;124m'\u001b[39m\u001b[38;5;124mProduct\u001b[39m\u001b[38;5;124m'\u001b[39m]\u001b[38;5;241m.\u001b[39mfillna(product_mode)\n",
      "File \u001b[1;32mC:\\ProgramData\\anaconda3\\Lib\\site-packages\\pandas\\core\\frame.py:4102\u001b[0m, in \u001b[0;36mDataFrame.__getitem__\u001b[1;34m(self, key)\u001b[0m\n\u001b[0;32m   4100\u001b[0m \u001b[38;5;28;01mif\u001b[39;00m \u001b[38;5;28mself\u001b[39m\u001b[38;5;241m.\u001b[39mcolumns\u001b[38;5;241m.\u001b[39mnlevels \u001b[38;5;241m>\u001b[39m \u001b[38;5;241m1\u001b[39m:\n\u001b[0;32m   4101\u001b[0m     \u001b[38;5;28;01mreturn\u001b[39;00m \u001b[38;5;28mself\u001b[39m\u001b[38;5;241m.\u001b[39m_getitem_multilevel(key)\n\u001b[1;32m-> 4102\u001b[0m indexer \u001b[38;5;241m=\u001b[39m \u001b[38;5;28mself\u001b[39m\u001b[38;5;241m.\u001b[39mcolumns\u001b[38;5;241m.\u001b[39mget_loc(key)\n\u001b[0;32m   4103\u001b[0m \u001b[38;5;28;01mif\u001b[39;00m is_integer(indexer):\n\u001b[0;32m   4104\u001b[0m     indexer \u001b[38;5;241m=\u001b[39m [indexer]\n",
      "File \u001b[1;32mC:\\ProgramData\\anaconda3\\Lib\\site-packages\\pandas\\core\\indexes\\base.py:3812\u001b[0m, in \u001b[0;36mIndex.get_loc\u001b[1;34m(self, key)\u001b[0m\n\u001b[0;32m   3807\u001b[0m     \u001b[38;5;28;01mif\u001b[39;00m \u001b[38;5;28misinstance\u001b[39m(casted_key, \u001b[38;5;28mslice\u001b[39m) \u001b[38;5;129;01mor\u001b[39;00m (\n\u001b[0;32m   3808\u001b[0m         \u001b[38;5;28misinstance\u001b[39m(casted_key, abc\u001b[38;5;241m.\u001b[39mIterable)\n\u001b[0;32m   3809\u001b[0m         \u001b[38;5;129;01mand\u001b[39;00m \u001b[38;5;28many\u001b[39m(\u001b[38;5;28misinstance\u001b[39m(x, \u001b[38;5;28mslice\u001b[39m) \u001b[38;5;28;01mfor\u001b[39;00m x \u001b[38;5;129;01min\u001b[39;00m casted_key)\n\u001b[0;32m   3810\u001b[0m     ):\n\u001b[0;32m   3811\u001b[0m         \u001b[38;5;28;01mraise\u001b[39;00m InvalidIndexError(key)\n\u001b[1;32m-> 3812\u001b[0m     \u001b[38;5;28;01mraise\u001b[39;00m \u001b[38;5;167;01mKeyError\u001b[39;00m(key) \u001b[38;5;28;01mfrom\u001b[39;00m \u001b[38;5;21;01merr\u001b[39;00m\n\u001b[0;32m   3813\u001b[0m \u001b[38;5;28;01mexcept\u001b[39;00m \u001b[38;5;167;01mTypeError\u001b[39;00m:\n\u001b[0;32m   3814\u001b[0m     \u001b[38;5;66;03m# If we have a listlike key, _check_indexing_error will raise\u001b[39;00m\n\u001b[0;32m   3815\u001b[0m     \u001b[38;5;66;03m#  InvalidIndexError. Otherwise we fall through and re-raise\u001b[39;00m\n\u001b[0;32m   3816\u001b[0m     \u001b[38;5;66;03m#  the TypeError.\u001b[39;00m\n\u001b[0;32m   3817\u001b[0m     \u001b[38;5;28mself\u001b[39m\u001b[38;5;241m.\u001b[39m_check_indexing_error(key)\n",
      "\u001b[1;31mKeyError\u001b[0m: 'Product'"
     ]
    }
   ],
   "source": [
    "product[\"Product\"] = product['Product'].fillna(product_mode)"
   ]
  },
  {
   "cell_type": "code",
   "execution_count": null,
   "id": "6648fa77-b84e-4fba-ae33-14f932e222e3",
   "metadata": {},
   "outputs": [],
   "source": []
  },
  {
   "cell_type": "markdown",
   "id": "ceab5d69-1bfc-417a-bd78-0310c8f755fb",
   "metadata": {},
   "source": [
    "## Importing Data into Jupyter Lab"
   ]
  },
  {
   "cell_type": "code",
   "execution_count": 70,
   "id": "bdef19bd-dfd5-42e4-b90c-a04a840ab1c5",
   "metadata": {},
   "outputs": [],
   "source": [
    "import pandas as pd\n",
    "import numpy as np"
   ]
  },
  {
   "cell_type": "code",
   "execution_count": null,
   "id": "8477523f-df8e-4a99-bc7e-f095fe3a2e47",
   "metadata": {},
   "outputs": [],
   "source": []
  },
  {
   "cell_type": "code",
   "execution_count": 71,
   "id": "6f58a1cb-fe57-433e-b864-908b641b32ef",
   "metadata": {
    "scrolled": true
   },
   "outputs": [
    {
     "ename": "FileNotFoundError",
     "evalue": "[Errno 2] No such file or directory: 'your_file.csv'",
     "output_type": "error",
     "traceback": [
      "\u001b[1;31m---------------------------------------------------------------------------\u001b[0m",
      "\u001b[1;31mFileNotFoundError\u001b[0m                         Traceback (most recent call last)",
      "Cell \u001b[1;32mIn[71], line 4\u001b[0m\n\u001b[0;32m      1\u001b[0m \u001b[38;5;28;01mimport\u001b[39;00m \u001b[38;5;21;01mpandas\u001b[39;00m \u001b[38;5;28;01mas\u001b[39;00m \u001b[38;5;21;01mpd\u001b[39;00m\n\u001b[0;32m      3\u001b[0m \u001b[38;5;66;03m# Load the CSV file\u001b[39;00m\n\u001b[1;32m----> 4\u001b[0m data \u001b[38;5;241m=\u001b[39m pd\u001b[38;5;241m.\u001b[39mread_csv(\u001b[38;5;124m'\u001b[39m\u001b[38;5;124myour_file.csv\u001b[39m\u001b[38;5;124m'\u001b[39m)\n\u001b[0;32m      6\u001b[0m \u001b[38;5;66;03m# Display the first few rows\u001b[39;00m\n\u001b[0;32m      7\u001b[0m \u001b[38;5;28mprint\u001b[39m(data\u001b[38;5;241m.\u001b[39mhead())\n",
      "File \u001b[1;32mC:\\ProgramData\\anaconda3\\Lib\\site-packages\\pandas\\io\\parsers\\readers.py:1026\u001b[0m, in \u001b[0;36mread_csv\u001b[1;34m(filepath_or_buffer, sep, delimiter, header, names, index_col, usecols, dtype, engine, converters, true_values, false_values, skipinitialspace, skiprows, skipfooter, nrows, na_values, keep_default_na, na_filter, verbose, skip_blank_lines, parse_dates, infer_datetime_format, keep_date_col, date_parser, date_format, dayfirst, cache_dates, iterator, chunksize, compression, thousands, decimal, lineterminator, quotechar, quoting, doublequote, escapechar, comment, encoding, encoding_errors, dialect, on_bad_lines, delim_whitespace, low_memory, memory_map, float_precision, storage_options, dtype_backend)\u001b[0m\n\u001b[0;32m   1013\u001b[0m kwds_defaults \u001b[38;5;241m=\u001b[39m _refine_defaults_read(\n\u001b[0;32m   1014\u001b[0m     dialect,\n\u001b[0;32m   1015\u001b[0m     delimiter,\n\u001b[1;32m   (...)\u001b[0m\n\u001b[0;32m   1022\u001b[0m     dtype_backend\u001b[38;5;241m=\u001b[39mdtype_backend,\n\u001b[0;32m   1023\u001b[0m )\n\u001b[0;32m   1024\u001b[0m kwds\u001b[38;5;241m.\u001b[39mupdate(kwds_defaults)\n\u001b[1;32m-> 1026\u001b[0m \u001b[38;5;28;01mreturn\u001b[39;00m _read(filepath_or_buffer, kwds)\n",
      "File \u001b[1;32mC:\\ProgramData\\anaconda3\\Lib\\site-packages\\pandas\\io\\parsers\\readers.py:620\u001b[0m, in \u001b[0;36m_read\u001b[1;34m(filepath_or_buffer, kwds)\u001b[0m\n\u001b[0;32m    617\u001b[0m _validate_names(kwds\u001b[38;5;241m.\u001b[39mget(\u001b[38;5;124m\"\u001b[39m\u001b[38;5;124mnames\u001b[39m\u001b[38;5;124m\"\u001b[39m, \u001b[38;5;28;01mNone\u001b[39;00m))\n\u001b[0;32m    619\u001b[0m \u001b[38;5;66;03m# Create the parser.\u001b[39;00m\n\u001b[1;32m--> 620\u001b[0m parser \u001b[38;5;241m=\u001b[39m TextFileReader(filepath_or_buffer, \u001b[38;5;241m*\u001b[39m\u001b[38;5;241m*\u001b[39mkwds)\n\u001b[0;32m    622\u001b[0m \u001b[38;5;28;01mif\u001b[39;00m chunksize \u001b[38;5;129;01mor\u001b[39;00m iterator:\n\u001b[0;32m    623\u001b[0m     \u001b[38;5;28;01mreturn\u001b[39;00m parser\n",
      "File \u001b[1;32mC:\\ProgramData\\anaconda3\\Lib\\site-packages\\pandas\\io\\parsers\\readers.py:1620\u001b[0m, in \u001b[0;36mTextFileReader.__init__\u001b[1;34m(self, f, engine, **kwds)\u001b[0m\n\u001b[0;32m   1617\u001b[0m     \u001b[38;5;28mself\u001b[39m\u001b[38;5;241m.\u001b[39moptions[\u001b[38;5;124m\"\u001b[39m\u001b[38;5;124mhas_index_names\u001b[39m\u001b[38;5;124m\"\u001b[39m] \u001b[38;5;241m=\u001b[39m kwds[\u001b[38;5;124m\"\u001b[39m\u001b[38;5;124mhas_index_names\u001b[39m\u001b[38;5;124m\"\u001b[39m]\n\u001b[0;32m   1619\u001b[0m \u001b[38;5;28mself\u001b[39m\u001b[38;5;241m.\u001b[39mhandles: IOHandles \u001b[38;5;241m|\u001b[39m \u001b[38;5;28;01mNone\u001b[39;00m \u001b[38;5;241m=\u001b[39m \u001b[38;5;28;01mNone\u001b[39;00m\n\u001b[1;32m-> 1620\u001b[0m \u001b[38;5;28mself\u001b[39m\u001b[38;5;241m.\u001b[39m_engine \u001b[38;5;241m=\u001b[39m \u001b[38;5;28mself\u001b[39m\u001b[38;5;241m.\u001b[39m_make_engine(f, \u001b[38;5;28mself\u001b[39m\u001b[38;5;241m.\u001b[39mengine)\n",
      "File \u001b[1;32mC:\\ProgramData\\anaconda3\\Lib\\site-packages\\pandas\\io\\parsers\\readers.py:1880\u001b[0m, in \u001b[0;36mTextFileReader._make_engine\u001b[1;34m(self, f, engine)\u001b[0m\n\u001b[0;32m   1878\u001b[0m     \u001b[38;5;28;01mif\u001b[39;00m \u001b[38;5;124m\"\u001b[39m\u001b[38;5;124mb\u001b[39m\u001b[38;5;124m\"\u001b[39m \u001b[38;5;129;01mnot\u001b[39;00m \u001b[38;5;129;01min\u001b[39;00m mode:\n\u001b[0;32m   1879\u001b[0m         mode \u001b[38;5;241m+\u001b[39m\u001b[38;5;241m=\u001b[39m \u001b[38;5;124m\"\u001b[39m\u001b[38;5;124mb\u001b[39m\u001b[38;5;124m\"\u001b[39m\n\u001b[1;32m-> 1880\u001b[0m \u001b[38;5;28mself\u001b[39m\u001b[38;5;241m.\u001b[39mhandles \u001b[38;5;241m=\u001b[39m get_handle(\n\u001b[0;32m   1881\u001b[0m     f,\n\u001b[0;32m   1882\u001b[0m     mode,\n\u001b[0;32m   1883\u001b[0m     encoding\u001b[38;5;241m=\u001b[39m\u001b[38;5;28mself\u001b[39m\u001b[38;5;241m.\u001b[39moptions\u001b[38;5;241m.\u001b[39mget(\u001b[38;5;124m\"\u001b[39m\u001b[38;5;124mencoding\u001b[39m\u001b[38;5;124m\"\u001b[39m, \u001b[38;5;28;01mNone\u001b[39;00m),\n\u001b[0;32m   1884\u001b[0m     compression\u001b[38;5;241m=\u001b[39m\u001b[38;5;28mself\u001b[39m\u001b[38;5;241m.\u001b[39moptions\u001b[38;5;241m.\u001b[39mget(\u001b[38;5;124m\"\u001b[39m\u001b[38;5;124mcompression\u001b[39m\u001b[38;5;124m\"\u001b[39m, \u001b[38;5;28;01mNone\u001b[39;00m),\n\u001b[0;32m   1885\u001b[0m     memory_map\u001b[38;5;241m=\u001b[39m\u001b[38;5;28mself\u001b[39m\u001b[38;5;241m.\u001b[39moptions\u001b[38;5;241m.\u001b[39mget(\u001b[38;5;124m\"\u001b[39m\u001b[38;5;124mmemory_map\u001b[39m\u001b[38;5;124m\"\u001b[39m, \u001b[38;5;28;01mFalse\u001b[39;00m),\n\u001b[0;32m   1886\u001b[0m     is_text\u001b[38;5;241m=\u001b[39mis_text,\n\u001b[0;32m   1887\u001b[0m     errors\u001b[38;5;241m=\u001b[39m\u001b[38;5;28mself\u001b[39m\u001b[38;5;241m.\u001b[39moptions\u001b[38;5;241m.\u001b[39mget(\u001b[38;5;124m\"\u001b[39m\u001b[38;5;124mencoding_errors\u001b[39m\u001b[38;5;124m\"\u001b[39m, \u001b[38;5;124m\"\u001b[39m\u001b[38;5;124mstrict\u001b[39m\u001b[38;5;124m\"\u001b[39m),\n\u001b[0;32m   1888\u001b[0m     storage_options\u001b[38;5;241m=\u001b[39m\u001b[38;5;28mself\u001b[39m\u001b[38;5;241m.\u001b[39moptions\u001b[38;5;241m.\u001b[39mget(\u001b[38;5;124m\"\u001b[39m\u001b[38;5;124mstorage_options\u001b[39m\u001b[38;5;124m\"\u001b[39m, \u001b[38;5;28;01mNone\u001b[39;00m),\n\u001b[0;32m   1889\u001b[0m )\n\u001b[0;32m   1890\u001b[0m \u001b[38;5;28;01massert\u001b[39;00m \u001b[38;5;28mself\u001b[39m\u001b[38;5;241m.\u001b[39mhandles \u001b[38;5;129;01mis\u001b[39;00m \u001b[38;5;129;01mnot\u001b[39;00m \u001b[38;5;28;01mNone\u001b[39;00m\n\u001b[0;32m   1891\u001b[0m f \u001b[38;5;241m=\u001b[39m \u001b[38;5;28mself\u001b[39m\u001b[38;5;241m.\u001b[39mhandles\u001b[38;5;241m.\u001b[39mhandle\n",
      "File \u001b[1;32mC:\\ProgramData\\anaconda3\\Lib\\site-packages\\pandas\\io\\common.py:873\u001b[0m, in \u001b[0;36mget_handle\u001b[1;34m(path_or_buf, mode, encoding, compression, memory_map, is_text, errors, storage_options)\u001b[0m\n\u001b[0;32m    868\u001b[0m \u001b[38;5;28;01melif\u001b[39;00m \u001b[38;5;28misinstance\u001b[39m(handle, \u001b[38;5;28mstr\u001b[39m):\n\u001b[0;32m    869\u001b[0m     \u001b[38;5;66;03m# Check whether the filename is to be opened in binary mode.\u001b[39;00m\n\u001b[0;32m    870\u001b[0m     \u001b[38;5;66;03m# Binary mode does not support 'encoding' and 'newline'.\u001b[39;00m\n\u001b[0;32m    871\u001b[0m     \u001b[38;5;28;01mif\u001b[39;00m ioargs\u001b[38;5;241m.\u001b[39mencoding \u001b[38;5;129;01mand\u001b[39;00m \u001b[38;5;124m\"\u001b[39m\u001b[38;5;124mb\u001b[39m\u001b[38;5;124m\"\u001b[39m \u001b[38;5;129;01mnot\u001b[39;00m \u001b[38;5;129;01min\u001b[39;00m ioargs\u001b[38;5;241m.\u001b[39mmode:\n\u001b[0;32m    872\u001b[0m         \u001b[38;5;66;03m# Encoding\u001b[39;00m\n\u001b[1;32m--> 873\u001b[0m         handle \u001b[38;5;241m=\u001b[39m \u001b[38;5;28mopen\u001b[39m(\n\u001b[0;32m    874\u001b[0m             handle,\n\u001b[0;32m    875\u001b[0m             ioargs\u001b[38;5;241m.\u001b[39mmode,\n\u001b[0;32m    876\u001b[0m             encoding\u001b[38;5;241m=\u001b[39mioargs\u001b[38;5;241m.\u001b[39mencoding,\n\u001b[0;32m    877\u001b[0m             errors\u001b[38;5;241m=\u001b[39merrors,\n\u001b[0;32m    878\u001b[0m             newline\u001b[38;5;241m=\u001b[39m\u001b[38;5;124m\"\u001b[39m\u001b[38;5;124m\"\u001b[39m,\n\u001b[0;32m    879\u001b[0m         )\n\u001b[0;32m    880\u001b[0m     \u001b[38;5;28;01melse\u001b[39;00m:\n\u001b[0;32m    881\u001b[0m         \u001b[38;5;66;03m# Binary mode\u001b[39;00m\n\u001b[0;32m    882\u001b[0m         handle \u001b[38;5;241m=\u001b[39m \u001b[38;5;28mopen\u001b[39m(handle, ioargs\u001b[38;5;241m.\u001b[39mmode)\n",
      "\u001b[1;31mFileNotFoundError\u001b[0m: [Errno 2] No such file or directory: 'your_file.csv'"
     ]
    }
   ],
   "source": [
    "import pandas as pd\n",
    "\n",
    "# Load the CSV file\n",
    "data = pd.read_csv('your_file.csv')\n",
    "\n",
    "# Display the first few rows\n",
    "print(data.head())\n"
   ]
  },
  {
   "cell_type": "code",
   "execution_count": null,
   "id": "da89f29c-ac65-4fc9-8988-09ebaf3c7735",
   "metadata": {},
   "outputs": [],
   "source": [
    "C:/Users/YourUsername/Downloads/ShopEase Products.csv\n"
   ]
  },
  {
   "cell_type": "code",
   "execution_count": null,
   "id": "c50acc48-ff37-48e3-8004-f346b773281d",
   "metadata": {},
   "outputs": [],
   "source": []
  },
  {
   "cell_type": "code",
   "execution_count": null,
   "id": "8bcc5233-f99b-4070-88ac-54b1e77c5802",
   "metadata": {},
   "outputs": [],
   "source": [
    "import pandas as pd\n",
    "\n",
    "# Replace with the full path to your file\n",
    "file_path = 'C:/Users/YourUsername/Downloads/your_file.csv'\n",
    "data = pd.read_csv(file_path)\n",
    "\n",
    "# Display the first few rows of the DataFrame\n",
    "print(data.head())\n"
   ]
  },
  {
   "cell_type": "code",
   "execution_count": null,
   "id": "9e87530a-56e0-4918-b458-0a7c49f7a442",
   "metadata": {},
   "outputs": [],
   "source": []
  },
  {
   "cell_type": "code",
   "execution_count": 72,
   "id": "3e7a7423-1f72-4e4b-85df-760cfd29c038",
   "metadata": {},
   "outputs": [
    {
     "ename": "SyntaxError",
     "evalue": "(unicode error) 'unicodeescape' codec can't decode bytes in position 2-3: truncated \\UXXXXXXXX escape (1356721714.py, line 1)",
     "output_type": "error",
     "traceback": [
      "\u001b[1;36m  Cell \u001b[1;32mIn[72], line 1\u001b[1;36m\u001b[0m\n\u001b[1;33m    file_path = 'C:\\Users\\BestEmpireComputers\\Downloads\\ShopEase_Products.csv'\u001b[0m\n\u001b[1;37m                ^\u001b[0m\n\u001b[1;31mSyntaxError\u001b[0m\u001b[1;31m:\u001b[0m (unicode error) 'unicodeescape' codec can't decode bytes in position 2-3: truncated \\UXXXXXXXX escape\n"
     ]
    }
   ],
   "source": [
    "file_path = 'C:\\Users\\BestEmpireComputers\\Downloads\\ShopEase_Products.csv'\n"
   ]
  },
  {
   "cell_type": "code",
   "execution_count": null,
   "id": "594ac682-7e99-400a-8074-f7cc2f3410c0",
   "metadata": {},
   "outputs": [],
   "source": []
  },
  {
   "cell_type": "code",
   "execution_count": 74,
   "id": "597f5c42-e060-4610-9a42-6910957c2dd7",
   "metadata": {},
   "outputs": [
    {
     "ename": "FileNotFoundError",
     "evalue": "[Errno 2] No such file or directory: 'C:/Users/BestEmpireComputers/Downloads/ShopEase_Products.csv'",
     "output_type": "error",
     "traceback": [
      "\u001b[1;31m---------------------------------------------------------------------------\u001b[0m",
      "\u001b[1;31mFileNotFoundError\u001b[0m                         Traceback (most recent call last)",
      "Cell \u001b[1;32mIn[74], line 7\u001b[0m\n\u001b[0;32m      4\u001b[0m file_path \u001b[38;5;241m=\u001b[39m \u001b[38;5;124m'\u001b[39m\u001b[38;5;124mC:/Users/BestEmpireComputers/Downloads/ShopEase_Products.csv\u001b[39m\u001b[38;5;124m'\u001b[39m\n\u001b[0;32m      6\u001b[0m \u001b[38;5;66;03m# Load the file into a DataFrame\u001b[39;00m\n\u001b[1;32m----> 7\u001b[0m data \u001b[38;5;241m=\u001b[39m pd\u001b[38;5;241m.\u001b[39mread_csv(file_path)\n\u001b[0;32m      9\u001b[0m \u001b[38;5;66;03m# Display the first few rows\u001b[39;00m\n\u001b[0;32m     10\u001b[0m \u001b[38;5;28mprint\u001b[39m(data\u001b[38;5;241m.\u001b[39mhead())\n",
      "File \u001b[1;32mC:\\ProgramData\\anaconda3\\Lib\\site-packages\\pandas\\io\\parsers\\readers.py:1026\u001b[0m, in \u001b[0;36mread_csv\u001b[1;34m(filepath_or_buffer, sep, delimiter, header, names, index_col, usecols, dtype, engine, converters, true_values, false_values, skipinitialspace, skiprows, skipfooter, nrows, na_values, keep_default_na, na_filter, verbose, skip_blank_lines, parse_dates, infer_datetime_format, keep_date_col, date_parser, date_format, dayfirst, cache_dates, iterator, chunksize, compression, thousands, decimal, lineterminator, quotechar, quoting, doublequote, escapechar, comment, encoding, encoding_errors, dialect, on_bad_lines, delim_whitespace, low_memory, memory_map, float_precision, storage_options, dtype_backend)\u001b[0m\n\u001b[0;32m   1013\u001b[0m kwds_defaults \u001b[38;5;241m=\u001b[39m _refine_defaults_read(\n\u001b[0;32m   1014\u001b[0m     dialect,\n\u001b[0;32m   1015\u001b[0m     delimiter,\n\u001b[1;32m   (...)\u001b[0m\n\u001b[0;32m   1022\u001b[0m     dtype_backend\u001b[38;5;241m=\u001b[39mdtype_backend,\n\u001b[0;32m   1023\u001b[0m )\n\u001b[0;32m   1024\u001b[0m kwds\u001b[38;5;241m.\u001b[39mupdate(kwds_defaults)\n\u001b[1;32m-> 1026\u001b[0m \u001b[38;5;28;01mreturn\u001b[39;00m _read(filepath_or_buffer, kwds)\n",
      "File \u001b[1;32mC:\\ProgramData\\anaconda3\\Lib\\site-packages\\pandas\\io\\parsers\\readers.py:620\u001b[0m, in \u001b[0;36m_read\u001b[1;34m(filepath_or_buffer, kwds)\u001b[0m\n\u001b[0;32m    617\u001b[0m _validate_names(kwds\u001b[38;5;241m.\u001b[39mget(\u001b[38;5;124m\"\u001b[39m\u001b[38;5;124mnames\u001b[39m\u001b[38;5;124m\"\u001b[39m, \u001b[38;5;28;01mNone\u001b[39;00m))\n\u001b[0;32m    619\u001b[0m \u001b[38;5;66;03m# Create the parser.\u001b[39;00m\n\u001b[1;32m--> 620\u001b[0m parser \u001b[38;5;241m=\u001b[39m TextFileReader(filepath_or_buffer, \u001b[38;5;241m*\u001b[39m\u001b[38;5;241m*\u001b[39mkwds)\n\u001b[0;32m    622\u001b[0m \u001b[38;5;28;01mif\u001b[39;00m chunksize \u001b[38;5;129;01mor\u001b[39;00m iterator:\n\u001b[0;32m    623\u001b[0m     \u001b[38;5;28;01mreturn\u001b[39;00m parser\n",
      "File \u001b[1;32mC:\\ProgramData\\anaconda3\\Lib\\site-packages\\pandas\\io\\parsers\\readers.py:1620\u001b[0m, in \u001b[0;36mTextFileReader.__init__\u001b[1;34m(self, f, engine, **kwds)\u001b[0m\n\u001b[0;32m   1617\u001b[0m     \u001b[38;5;28mself\u001b[39m\u001b[38;5;241m.\u001b[39moptions[\u001b[38;5;124m\"\u001b[39m\u001b[38;5;124mhas_index_names\u001b[39m\u001b[38;5;124m\"\u001b[39m] \u001b[38;5;241m=\u001b[39m kwds[\u001b[38;5;124m\"\u001b[39m\u001b[38;5;124mhas_index_names\u001b[39m\u001b[38;5;124m\"\u001b[39m]\n\u001b[0;32m   1619\u001b[0m \u001b[38;5;28mself\u001b[39m\u001b[38;5;241m.\u001b[39mhandles: IOHandles \u001b[38;5;241m|\u001b[39m \u001b[38;5;28;01mNone\u001b[39;00m \u001b[38;5;241m=\u001b[39m \u001b[38;5;28;01mNone\u001b[39;00m\n\u001b[1;32m-> 1620\u001b[0m \u001b[38;5;28mself\u001b[39m\u001b[38;5;241m.\u001b[39m_engine \u001b[38;5;241m=\u001b[39m \u001b[38;5;28mself\u001b[39m\u001b[38;5;241m.\u001b[39m_make_engine(f, \u001b[38;5;28mself\u001b[39m\u001b[38;5;241m.\u001b[39mengine)\n",
      "File \u001b[1;32mC:\\ProgramData\\anaconda3\\Lib\\site-packages\\pandas\\io\\parsers\\readers.py:1880\u001b[0m, in \u001b[0;36mTextFileReader._make_engine\u001b[1;34m(self, f, engine)\u001b[0m\n\u001b[0;32m   1878\u001b[0m     \u001b[38;5;28;01mif\u001b[39;00m \u001b[38;5;124m\"\u001b[39m\u001b[38;5;124mb\u001b[39m\u001b[38;5;124m\"\u001b[39m \u001b[38;5;129;01mnot\u001b[39;00m \u001b[38;5;129;01min\u001b[39;00m mode:\n\u001b[0;32m   1879\u001b[0m         mode \u001b[38;5;241m+\u001b[39m\u001b[38;5;241m=\u001b[39m \u001b[38;5;124m\"\u001b[39m\u001b[38;5;124mb\u001b[39m\u001b[38;5;124m\"\u001b[39m\n\u001b[1;32m-> 1880\u001b[0m \u001b[38;5;28mself\u001b[39m\u001b[38;5;241m.\u001b[39mhandles \u001b[38;5;241m=\u001b[39m get_handle(\n\u001b[0;32m   1881\u001b[0m     f,\n\u001b[0;32m   1882\u001b[0m     mode,\n\u001b[0;32m   1883\u001b[0m     encoding\u001b[38;5;241m=\u001b[39m\u001b[38;5;28mself\u001b[39m\u001b[38;5;241m.\u001b[39moptions\u001b[38;5;241m.\u001b[39mget(\u001b[38;5;124m\"\u001b[39m\u001b[38;5;124mencoding\u001b[39m\u001b[38;5;124m\"\u001b[39m, \u001b[38;5;28;01mNone\u001b[39;00m),\n\u001b[0;32m   1884\u001b[0m     compression\u001b[38;5;241m=\u001b[39m\u001b[38;5;28mself\u001b[39m\u001b[38;5;241m.\u001b[39moptions\u001b[38;5;241m.\u001b[39mget(\u001b[38;5;124m\"\u001b[39m\u001b[38;5;124mcompression\u001b[39m\u001b[38;5;124m\"\u001b[39m, \u001b[38;5;28;01mNone\u001b[39;00m),\n\u001b[0;32m   1885\u001b[0m     memory_map\u001b[38;5;241m=\u001b[39m\u001b[38;5;28mself\u001b[39m\u001b[38;5;241m.\u001b[39moptions\u001b[38;5;241m.\u001b[39mget(\u001b[38;5;124m\"\u001b[39m\u001b[38;5;124mmemory_map\u001b[39m\u001b[38;5;124m\"\u001b[39m, \u001b[38;5;28;01mFalse\u001b[39;00m),\n\u001b[0;32m   1886\u001b[0m     is_text\u001b[38;5;241m=\u001b[39mis_text,\n\u001b[0;32m   1887\u001b[0m     errors\u001b[38;5;241m=\u001b[39m\u001b[38;5;28mself\u001b[39m\u001b[38;5;241m.\u001b[39moptions\u001b[38;5;241m.\u001b[39mget(\u001b[38;5;124m\"\u001b[39m\u001b[38;5;124mencoding_errors\u001b[39m\u001b[38;5;124m\"\u001b[39m, \u001b[38;5;124m\"\u001b[39m\u001b[38;5;124mstrict\u001b[39m\u001b[38;5;124m\"\u001b[39m),\n\u001b[0;32m   1888\u001b[0m     storage_options\u001b[38;5;241m=\u001b[39m\u001b[38;5;28mself\u001b[39m\u001b[38;5;241m.\u001b[39moptions\u001b[38;5;241m.\u001b[39mget(\u001b[38;5;124m\"\u001b[39m\u001b[38;5;124mstorage_options\u001b[39m\u001b[38;5;124m\"\u001b[39m, \u001b[38;5;28;01mNone\u001b[39;00m),\n\u001b[0;32m   1889\u001b[0m )\n\u001b[0;32m   1890\u001b[0m \u001b[38;5;28;01massert\u001b[39;00m \u001b[38;5;28mself\u001b[39m\u001b[38;5;241m.\u001b[39mhandles \u001b[38;5;129;01mis\u001b[39;00m \u001b[38;5;129;01mnot\u001b[39;00m \u001b[38;5;28;01mNone\u001b[39;00m\n\u001b[0;32m   1891\u001b[0m f \u001b[38;5;241m=\u001b[39m \u001b[38;5;28mself\u001b[39m\u001b[38;5;241m.\u001b[39mhandles\u001b[38;5;241m.\u001b[39mhandle\n",
      "File \u001b[1;32mC:\\ProgramData\\anaconda3\\Lib\\site-packages\\pandas\\io\\common.py:873\u001b[0m, in \u001b[0;36mget_handle\u001b[1;34m(path_or_buf, mode, encoding, compression, memory_map, is_text, errors, storage_options)\u001b[0m\n\u001b[0;32m    868\u001b[0m \u001b[38;5;28;01melif\u001b[39;00m \u001b[38;5;28misinstance\u001b[39m(handle, \u001b[38;5;28mstr\u001b[39m):\n\u001b[0;32m    869\u001b[0m     \u001b[38;5;66;03m# Check whether the filename is to be opened in binary mode.\u001b[39;00m\n\u001b[0;32m    870\u001b[0m     \u001b[38;5;66;03m# Binary mode does not support 'encoding' and 'newline'.\u001b[39;00m\n\u001b[0;32m    871\u001b[0m     \u001b[38;5;28;01mif\u001b[39;00m ioargs\u001b[38;5;241m.\u001b[39mencoding \u001b[38;5;129;01mand\u001b[39;00m \u001b[38;5;124m\"\u001b[39m\u001b[38;5;124mb\u001b[39m\u001b[38;5;124m\"\u001b[39m \u001b[38;5;129;01mnot\u001b[39;00m \u001b[38;5;129;01min\u001b[39;00m ioargs\u001b[38;5;241m.\u001b[39mmode:\n\u001b[0;32m    872\u001b[0m         \u001b[38;5;66;03m# Encoding\u001b[39;00m\n\u001b[1;32m--> 873\u001b[0m         handle \u001b[38;5;241m=\u001b[39m \u001b[38;5;28mopen\u001b[39m(\n\u001b[0;32m    874\u001b[0m             handle,\n\u001b[0;32m    875\u001b[0m             ioargs\u001b[38;5;241m.\u001b[39mmode,\n\u001b[0;32m    876\u001b[0m             encoding\u001b[38;5;241m=\u001b[39mioargs\u001b[38;5;241m.\u001b[39mencoding,\n\u001b[0;32m    877\u001b[0m             errors\u001b[38;5;241m=\u001b[39merrors,\n\u001b[0;32m    878\u001b[0m             newline\u001b[38;5;241m=\u001b[39m\u001b[38;5;124m\"\u001b[39m\u001b[38;5;124m\"\u001b[39m,\n\u001b[0;32m    879\u001b[0m         )\n\u001b[0;32m    880\u001b[0m     \u001b[38;5;28;01melse\u001b[39;00m:\n\u001b[0;32m    881\u001b[0m         \u001b[38;5;66;03m# Binary mode\u001b[39;00m\n\u001b[0;32m    882\u001b[0m         handle \u001b[38;5;241m=\u001b[39m \u001b[38;5;28mopen\u001b[39m(handle, ioargs\u001b[38;5;241m.\u001b[39mmode)\n",
      "\u001b[1;31mFileNotFoundError\u001b[0m: [Errno 2] No such file or directory: 'C:/Users/BestEmpireComputers/Downloads/ShopEase_Products.csv'"
     ]
    }
   ],
   "source": [
    "import pandas as pd\n",
    "\n",
    "# Full file path\n",
    "file_path = 'C:/Users/BestEmpireComputers/Downloads/ShopEase_Products.csv'\n",
    "\n",
    "# Load the file into a DataFrame\n",
    "data = pd.read_csv(file_path)\n",
    "\n",
    "# Display the first few rows\n",
    "print(data.head())\n"
   ]
  },
  {
   "cell_type": "code",
   "execution_count": null,
   "id": "ec017218-81e9-4944-bd8b-de8b758ec264",
   "metadata": {},
   "outputs": [],
   "source": []
  },
  {
   "cell_type": "code",
   "execution_count": null,
   "id": "d8fbf7b5-834c-489a-9cc7-0d0ddc83899f",
   "metadata": {},
   "outputs": [],
   "source": [
    "Product ID,Product Name,Category,Price,Stock\n",
    "1,Laptop,Electronics,755.33,185\n",
    "2,Smartphone,Electronics,1901.92,55\n",
    "3,Tablet,Accessories,1466.67,52\n",
    "4,Mouse,Accessories,1201.33,4\n",
    "5,Keyboard,Accessories,320.48,43\n",
    "6,Monitor,Accessories,320.43,40\n",
    "7,Charger,Accessories,125.59,121\n",
    "8,Headphones,Electronics,1733.69,30\n",
    "9,Webcam,Accessories,1206.22,138\n",
    "10,Speakers,Accessories,1419.06,103\n",
    "11,Printer,Electronics,50.96,7\n",
    "12,External Hard Drive,Accessories,1940.12,164\n",
    "13,USB Cable,Electronics,1666.56,163\n",
    "14,Router,Accessories,432.55,167\n",
    "15,Memory Card,Electronics,371.83,164\n",
    "16,Power Bank,Accessories,374.97,109\n",
    "17,Smartwatch,Accessories,615.44,20\n",
    "18,Mousepad,Electronics,1054.27,49\n",
    "19,HDMI Cable,Electronics,869.57,96\n",
    "20,Laptop Stand,Electronics,589.55,59\n"
   ]
  },
  {
   "cell_type": "code",
   "execution_count": 76,
   "id": "af3853c2-3005-4b76-a799-842d949c5864",
   "metadata": {},
   "outputs": [
    {
     "name": "stdout",
     "output_type": "stream",
     "text": [
      "['11 - Copy.jpg', '2014-2017 Orders Data.xls', '2019-12-24-14-46-52-275 (1).jpg', '2019-12-24-14-46-52-275 (2).jpg', '2020-03-15-20-29-20-339 (1).jpg', '2020-03-15-20-29-20-339 (2).jpg', 'A 30-Days Perso-WPS Office.docx', 'Anaconda3-2024.10-1-Windows-x86_64 (1).exe', 'Anaconda3-2024.10-1-Windows-x86_64 (2).exe', 'Anaconda3-2024.10-1-Windows-x86_64.exe', 'analysis.png', 'Beige Modern Elegant Personal LinkedIn Banner.png', 'Canva Setup 1.102.0.exe', 'certificate.pdf', 'ChatGPT Installer (2).exe', 'Cover and Resume for Perprtua Okoloekwe.pdf', 'Cover letter for Perpetua Okoloekwe.pdf', 'customers (2) (1).csv', 'customers (2).csv', 'Dark Blue Modern Geometric Simple Feature Section Website UI Prototype.png', 'Dashboarding Project- US Real Estate Sales Ratio Analysis Cor (1).xlsx', 'Dashboarding Project- US Real Estate Sales Ratio Analysis Cor.xlsx', 'Dashboarding Project- US Real Estate Sales Ratio Analysis new (1).xlsx', 'Dashboarding Project- US Real Estate Sales Ratio Analysis new.xlsx', 'Data Cleaning Project - Trends Retail Store.xlsx', 'desktop.ini', 'Excel for Analytics .xlsx', 'Excel Workbook - AJ (1).xlsx', 'Excel Workbook - AJ.xlsx', 'Feb 2025 Cohort Data Science Onboarding package.pdf', 'geography.png', 'image.png', 'IMG_20200211_122939_0_1581420667583.jpg', 'linkedin.png', 'MODULE DATASET 2.xlsx', 'Nebiant', 'NIMC ID FOR PERPETUA OKOLOEKWE.pdf', 'orders (1).csv', 'orders.csv', 'order_details (1).csv', 'order_details.csv', 'People data.pdf', 'perpetua OKOLOEKWE CV updated.doc', 'PERPETUA OKOLOEKWE SIGN.jpg', 'Perpetua pix.pdf', 'Perpetua pix_page-0001.jpg', 'Pivot-Tables (1).xlsx', 'Pivot-Tables.xlsx', 'products (1) (1).csv', 'products (1).csv', 'profile pix.jpg', 'profile_pix-removebg-preview (1).png', 'profile_pix-removebg-preview.png', 'resource-allocation.png', 'RESUME FOR PERPETUA banking.docx', 'RESUME FOR PERPETUA.docx', 'RESUME FOR Practice.pdf', 'Returns Data.csv', 'Sales data.xlsx', 'Sample - Superstore.xls', 'Shoe Sales Data (1).csv', 'Shoe Sales Data.csv', 'ShopEase Products.csv', 'ShopEase Sales.csv', 'SQL2022-SSEI-Expr.exe', 'SSMS-Setup-ENU.exe', 'Statistics in Excel.xlsx', 'SwiftMart.xlsx', 'Tableau Project.docx', 'TableauAutoUpdate', 'TableauPublicDesktop-64bit-2024-3-0.exe', 'TechPro-Solutions-Optimizing-Productivity-with-Data [Autosaved].pptx', 'TechPro-Solutions-Optimizing-Productivity-with-Data-Driven-Insights.pptx', 'TechPro-Solutions-Optimizing-Productivity-with-Data.pptx', 'TechPro_Employee_Productivity.xlsx', 'time-tracking.png', 'Transaction-A59ADA1B0D1D625A7D20C6085C76D75D-BuyPower (1).pdf', 'twitter.png', 'united-states.png', 'Untitled design (1).png', 'Untitled design (2).png', 'Untitled design (3).png', 'Untitled design.png', 'Untitled_design__3_-removebg-preview.png', 'Updated_TechPro_Employee_Productivity.xlsx', 'web porfolio creation.docx', 'Yellow Black Professional Barberman LinkedIn Banner.png', '~$bleau Project.docx', '~$rpetua OKOLOEKWE CV updated.doc', '~$SUME FOR PERPETUA banking.docx', '~$SUME FOR PERPETUA.docx', '~WRL2637.tmp']\n"
     ]
    }
   ],
   "source": [
    "import os\n",
    "\n",
    "downloads_path = 'C:/Users/BestEmpireComputers/Downloads'\n",
    "print(os.listdir(downloads_path))\n"
   ]
  },
  {
   "cell_type": "code",
   "execution_count": null,
   "id": "b9e9871d-7b5f-4d64-9fe6-63a5d1e4303e",
   "metadata": {},
   "outputs": [],
   "source": []
  },
  {
   "cell_type": "code",
   "execution_count": null,
   "id": "54142d51-c717-4dc3-b101-e292587f643b",
   "metadata": {},
   "outputs": [],
   "source": [
    "C:/Users/YourActualUsername/Documents/ShopEase_Products.csv\n"
   ]
  },
  {
   "cell_type": "code",
   "execution_count": null,
   "id": "3285b708-c160-4fbf-9c75-34af21dc99ed",
   "metadata": {},
   "outputs": [],
   "source": [
    "import shutil\n",
    "\n",
    "# Source path (current location)\n",
    "source_path = r'C:\\Users\\BestEmpireComputers\\Downloads\\ShopEase Products.csv'\n",
    "\n",
    "# Destination path (new folder location)\n",
    "destination_path = r'C:\\Users\\BestEmpireComputers\\Documents\\ShopEase Products.csv'\n",
    "\n",
    "# Move the file\n",
    "shutil.move(source_path, destination_path)\n",
    "\n",
    "print(\"File moved successfully!\")\n"
   ]
  },
  {
   "cell_type": "code",
   "execution_count": null,
   "id": "acc22b52-09c7-42c8-8c1e-a86b656257fe",
   "metadata": {},
   "outputs": [],
   "source": []
  },
  {
   "cell_type": "code",
   "execution_count": 80,
   "id": "a843bde0-1fea-49c5-a0b4-15007cc79443",
   "metadata": {},
   "outputs": [
    {
     "name": "stdout",
     "output_type": "stream",
     "text": [
      "   Customer ID  Product ID  Order Date Region  Quantity Ordered Product Name  \\\n",
      "0         1307          18  2022-10-08  North                 2     Mousepad   \n",
      "1         1340          18  2022-07-07  North                 9     Mousepad   \n",
      "2         1380          18  2022-06-15   East                 7     Mousepad   \n",
      "3         1009          18  2022-07-05  South                 1     Mousepad   \n",
      "4         1048          18  2022-02-21   East                 3     Mousepad   \n",
      "\n",
      "      Category    Price  Total Sales  \n",
      "0  Electronics  1054.27      2108.54  \n",
      "1  Electronics  1054.27      9488.43  \n",
      "2  Electronics  1054.27      7379.89  \n",
      "3  Electronics  1054.27      1054.27  \n",
      "4  Electronics  1054.27      3162.81  \n"
     ]
    }
   ],
   "source": [
    "file_path = 'C:/perp/Nebiant/Excel/Python Files/ShopEase Products.csv'\n",
    "product_data = pd.read_csv(file_path)\n",
    "print(data.head())\n"
   ]
  },
  {
   "cell_type": "code",
   "execution_count": 82,
   "id": "d0d9841d-48cc-41cb-9808-4ba117c92ffa",
   "metadata": {},
   "outputs": [
    {
     "data": {
      "text/html": [
       "<div>\n",
       "<style scoped>\n",
       "    .dataframe tbody tr th:only-of-type {\n",
       "        vertical-align: middle;\n",
       "    }\n",
       "\n",
       "    .dataframe tbody tr th {\n",
       "        vertical-align: top;\n",
       "    }\n",
       "\n",
       "    .dataframe thead th {\n",
       "        text-align: right;\n",
       "    }\n",
       "</style>\n",
       "<table border=\"1\" class=\"dataframe\">\n",
       "  <thead>\n",
       "    <tr style=\"text-align: right;\">\n",
       "      <th></th>\n",
       "      <th>Product ID</th>\n",
       "      <th>Product Name</th>\n",
       "      <th>Category</th>\n",
       "      <th>Price</th>\n",
       "      <th>Stock</th>\n",
       "    </tr>\n",
       "  </thead>\n",
       "  <tbody>\n",
       "    <tr>\n",
       "      <th>15</th>\n",
       "      <td>16</td>\n",
       "      <td>Power Bank</td>\n",
       "      <td>Accessories</td>\n",
       "      <td>374.97</td>\n",
       "      <td>109</td>\n",
       "    </tr>\n",
       "    <tr>\n",
       "      <th>16</th>\n",
       "      <td>17</td>\n",
       "      <td>Smartwatch</td>\n",
       "      <td>Accessories</td>\n",
       "      <td>615.44</td>\n",
       "      <td>20</td>\n",
       "    </tr>\n",
       "    <tr>\n",
       "      <th>17</th>\n",
       "      <td>18</td>\n",
       "      <td>Mousepad</td>\n",
       "      <td>Electronics</td>\n",
       "      <td>1054.27</td>\n",
       "      <td>49</td>\n",
       "    </tr>\n",
       "    <tr>\n",
       "      <th>18</th>\n",
       "      <td>19</td>\n",
       "      <td>HDMI Cable</td>\n",
       "      <td>Electronics</td>\n",
       "      <td>869.57</td>\n",
       "      <td>96</td>\n",
       "    </tr>\n",
       "    <tr>\n",
       "      <th>19</th>\n",
       "      <td>20</td>\n",
       "      <td>Laptop Stand</td>\n",
       "      <td>Electronics</td>\n",
       "      <td>589.55</td>\n",
       "      <td>59</td>\n",
       "    </tr>\n",
       "  </tbody>\n",
       "</table>\n",
       "</div>"
      ],
      "text/plain": [
       "    Product ID  Product Name     Category    Price  Stock\n",
       "15          16    Power Bank  Accessories   374.97    109\n",
       "16          17    Smartwatch  Accessories   615.44     20\n",
       "17          18      Mousepad  Electronics  1054.27     49\n",
       "18          19    HDMI Cable  Electronics   869.57     96\n",
       "19          20  Laptop Stand  Electronics   589.55     59"
      ]
     },
     "execution_count": 82,
     "metadata": {},
     "output_type": "execute_result"
    }
   ],
   "source": [
    "product_data.tail()"
   ]
  },
  {
   "cell_type": "code",
   "execution_count": null,
   "id": "c76f2bcf-792b-4ab2-beae-da5dada88a30",
   "metadata": {},
   "outputs": [],
   "source": []
  },
  {
   "cell_type": "code",
   "execution_count": 83,
   "id": "5e8668f7-db1f-4b90-8e31-11f8c38a7b88",
   "metadata": {},
   "outputs": [
    {
     "name": "stdout",
     "output_type": "stream",
     "text": [
      "   Customer ID  Product ID  Order Date Region  Quantity Ordered Product Name  \\\n",
      "0         1307          18  2022-10-08  North                 2     Mousepad   \n",
      "1         1340          18  2022-07-07  North                 9     Mousepad   \n",
      "2         1380          18  2022-06-15   East                 7     Mousepad   \n",
      "3         1009          18  2022-07-05  South                 1     Mousepad   \n",
      "4         1048          18  2022-02-21   East                 3     Mousepad   \n",
      "\n",
      "      Category    Price  Total Sales  \n",
      "0  Electronics  1054.27      2108.54  \n",
      "1  Electronics  1054.27      9488.43  \n",
      "2  Electronics  1054.27      7379.89  \n",
      "3  Electronics  1054.27      1054.27  \n",
      "4  Electronics  1054.27      3162.81  \n"
     ]
    }
   ],
   "source": [
    "file_path = 'C:/perp/Nebiant/Excel/Python Files/ShopEase Sales.csv'\n",
    "sales_data = pd.read_csv(file_path)\n",
    "print(data.head())"
   ]
  },
  {
   "cell_type": "code",
   "execution_count": 84,
   "id": "bad11a71-c220-47e4-9c1c-6f3c52839b0c",
   "metadata": {},
   "outputs": [
    {
     "data": {
      "text/html": [
       "<div>\n",
       "<style scoped>\n",
       "    .dataframe tbody tr th:only-of-type {\n",
       "        vertical-align: middle;\n",
       "    }\n",
       "\n",
       "    .dataframe tbody tr th {\n",
       "        vertical-align: top;\n",
       "    }\n",
       "\n",
       "    .dataframe thead th {\n",
       "        text-align: right;\n",
       "    }\n",
       "</style>\n",
       "<table border=\"1\" class=\"dataframe\">\n",
       "  <thead>\n",
       "    <tr style=\"text-align: right;\">\n",
       "      <th></th>\n",
       "      <th>Customer ID</th>\n",
       "      <th>Product ID</th>\n",
       "      <th>Order Date</th>\n",
       "      <th>Region</th>\n",
       "      <th>Quantity Ordered</th>\n",
       "      <th>Product Name</th>\n",
       "      <th>Category</th>\n",
       "      <th>Price</th>\n",
       "      <th>Total Sales</th>\n",
       "    </tr>\n",
       "  </thead>\n",
       "  <tbody>\n",
       "    <tr>\n",
       "      <th>3995</th>\n",
       "      <td>1398</td>\n",
       "      <td>14</td>\n",
       "      <td>2022-09-12</td>\n",
       "      <td>East</td>\n",
       "      <td>3</td>\n",
       "      <td>Router</td>\n",
       "      <td>Accessories</td>\n",
       "      <td>432.55</td>\n",
       "      <td>1297.65</td>\n",
       "    </tr>\n",
       "    <tr>\n",
       "      <th>3996</th>\n",
       "      <td>1234</td>\n",
       "      <td>14</td>\n",
       "      <td>2022-03-24</td>\n",
       "      <td>South</td>\n",
       "      <td>1</td>\n",
       "      <td>Router</td>\n",
       "      <td>Accessories</td>\n",
       "      <td>432.55</td>\n",
       "      <td>432.55</td>\n",
       "    </tr>\n",
       "    <tr>\n",
       "      <th>3997</th>\n",
       "      <td>1295</td>\n",
       "      <td>14</td>\n",
       "      <td>2022-02-14</td>\n",
       "      <td>North</td>\n",
       "      <td>6</td>\n",
       "      <td>Router</td>\n",
       "      <td>Accessories</td>\n",
       "      <td>432.55</td>\n",
       "      <td>2595.30</td>\n",
       "    </tr>\n",
       "    <tr>\n",
       "      <th>3998</th>\n",
       "      <td>1074</td>\n",
       "      <td>14</td>\n",
       "      <td>2022-11-16</td>\n",
       "      <td>East</td>\n",
       "      <td>3</td>\n",
       "      <td>Router</td>\n",
       "      <td>Accessories</td>\n",
       "      <td>432.55</td>\n",
       "      <td>1297.65</td>\n",
       "    </tr>\n",
       "    <tr>\n",
       "      <th>3999</th>\n",
       "      <td>1204</td>\n",
       "      <td>14</td>\n",
       "      <td>2022-04-06</td>\n",
       "      <td>West</td>\n",
       "      <td>8</td>\n",
       "      <td>Router</td>\n",
       "      <td>Accessories</td>\n",
       "      <td>432.55</td>\n",
       "      <td>3460.40</td>\n",
       "    </tr>\n",
       "  </tbody>\n",
       "</table>\n",
       "</div>"
      ],
      "text/plain": [
       "      Customer ID  Product ID  Order Date Region  Quantity Ordered  \\\n",
       "3995         1398          14  2022-09-12   East                 3   \n",
       "3996         1234          14  2022-03-24  South                 1   \n",
       "3997         1295          14  2022-02-14  North                 6   \n",
       "3998         1074          14  2022-11-16   East                 3   \n",
       "3999         1204          14  2022-04-06   West                 8   \n",
       "\n",
       "     Product Name     Category   Price  Total Sales  \n",
       "3995       Router  Accessories  432.55      1297.65  \n",
       "3996       Router  Accessories  432.55       432.55  \n",
       "3997       Router  Accessories  432.55      2595.30  \n",
       "3998       Router  Accessories  432.55      1297.65  \n",
       "3999       Router  Accessories  432.55      3460.40  "
      ]
     },
     "execution_count": 84,
     "metadata": {},
     "output_type": "execute_result"
    }
   ],
   "source": [
    "sales_data.tail()"
   ]
  },
  {
   "cell_type": "code",
   "execution_count": 85,
   "id": "a9d59b48-314c-4d98-ab3c-1f015b6defb2",
   "metadata": {},
   "outputs": [
    {
     "data": {
      "text/plain": [
       "(4000, 9)"
      ]
     },
     "execution_count": 85,
     "metadata": {},
     "output_type": "execute_result"
    }
   ],
   "source": [
    "sales_data.shape"
   ]
  },
  {
   "cell_type": "code",
   "execution_count": 87,
   "id": "c7683bdf-b1cb-44c1-b26d-ea364f4132b5",
   "metadata": {},
   "outputs": [
    {
     "data": {
      "text/html": [
       "<div>\n",
       "<style scoped>\n",
       "    .dataframe tbody tr th:only-of-type {\n",
       "        vertical-align: middle;\n",
       "    }\n",
       "\n",
       "    .dataframe tbody tr th {\n",
       "        vertical-align: top;\n",
       "    }\n",
       "\n",
       "    .dataframe thead th {\n",
       "        text-align: right;\n",
       "    }\n",
       "</style>\n",
       "<table border=\"1\" class=\"dataframe\">\n",
       "  <thead>\n",
       "    <tr style=\"text-align: right;\">\n",
       "      <th></th>\n",
       "      <th>Customer ID</th>\n",
       "      <th>Product ID</th>\n",
       "      <th>Quantity Ordered</th>\n",
       "      <th>Price</th>\n",
       "      <th>Total Sales</th>\n",
       "    </tr>\n",
       "  </thead>\n",
       "  <tbody>\n",
       "    <tr>\n",
       "      <th>count</th>\n",
       "      <td>4000.000000</td>\n",
       "      <td>4000.000000</td>\n",
       "      <td>4000.000000</td>\n",
       "      <td>4000.000000</td>\n",
       "      <td>4000.00000</td>\n",
       "    </tr>\n",
       "    <tr>\n",
       "      <th>mean</th>\n",
       "      <td>1200.407250</td>\n",
       "      <td>10.669250</td>\n",
       "      <td>4.917750</td>\n",
       "      <td>927.625452</td>\n",
       "      <td>4540.21913</td>\n",
       "    </tr>\n",
       "    <tr>\n",
       "      <th>std</th>\n",
       "      <td>115.650744</td>\n",
       "      <td>5.736687</td>\n",
       "      <td>2.583535</td>\n",
       "      <td>597.643817</td>\n",
       "      <td>4084.85829</td>\n",
       "    </tr>\n",
       "    <tr>\n",
       "      <th>min</th>\n",
       "      <td>1001.000000</td>\n",
       "      <td>1.000000</td>\n",
       "      <td>1.000000</td>\n",
       "      <td>50.960000</td>\n",
       "      <td>50.96000</td>\n",
       "    </tr>\n",
       "    <tr>\n",
       "      <th>25%</th>\n",
       "      <td>1102.750000</td>\n",
       "      <td>6.000000</td>\n",
       "      <td>3.000000</td>\n",
       "      <td>374.970000</td>\n",
       "      <td>1466.67000</td>\n",
       "    </tr>\n",
       "    <tr>\n",
       "      <th>50%</th>\n",
       "      <td>1198.000000</td>\n",
       "      <td>11.000000</td>\n",
       "      <td>5.000000</td>\n",
       "      <td>869.570000</td>\n",
       "      <td>3077.20000</td>\n",
       "    </tr>\n",
       "    <tr>\n",
       "      <th>75%</th>\n",
       "      <td>1301.000000</td>\n",
       "      <td>16.000000</td>\n",
       "      <td>7.000000</td>\n",
       "      <td>1466.670000</td>\n",
       "      <td>6797.97000</td>\n",
       "    </tr>\n",
       "    <tr>\n",
       "      <th>max</th>\n",
       "      <td>1400.000000</td>\n",
       "      <td>20.000000</td>\n",
       "      <td>9.000000</td>\n",
       "      <td>1940.120000</td>\n",
       "      <td>17461.08000</td>\n",
       "    </tr>\n",
       "  </tbody>\n",
       "</table>\n",
       "</div>"
      ],
      "text/plain": [
       "       Customer ID   Product ID  Quantity Ordered        Price  Total Sales\n",
       "count  4000.000000  4000.000000       4000.000000  4000.000000   4000.00000\n",
       "mean   1200.407250    10.669250          4.917750   927.625452   4540.21913\n",
       "std     115.650744     5.736687          2.583535   597.643817   4084.85829\n",
       "min    1001.000000     1.000000          1.000000    50.960000     50.96000\n",
       "25%    1102.750000     6.000000          3.000000   374.970000   1466.67000\n",
       "50%    1198.000000    11.000000          5.000000   869.570000   3077.20000\n",
       "75%    1301.000000    16.000000          7.000000  1466.670000   6797.97000\n",
       "max    1400.000000    20.000000          9.000000  1940.120000  17461.08000"
      ]
     },
     "execution_count": 87,
     "metadata": {},
     "output_type": "execute_result"
    }
   ],
   "source": [
    "sales_data.describe()"
   ]
  },
  {
   "cell_type": "code",
   "execution_count": 88,
   "id": "1205fc9c-b368-4dae-9ec3-d514f8d1010e",
   "metadata": {},
   "outputs": [
    {
     "name": "stdout",
     "output_type": "stream",
     "text": [
      "<class 'pandas.core.frame.DataFrame'>\n",
      "RangeIndex: 4000 entries, 0 to 3999\n",
      "Data columns (total 9 columns):\n",
      " #   Column            Non-Null Count  Dtype  \n",
      "---  ------            --------------  -----  \n",
      " 0   Customer ID       4000 non-null   int64  \n",
      " 1   Product ID        4000 non-null   int64  \n",
      " 2   Order Date        4000 non-null   object \n",
      " 3   Region            4000 non-null   object \n",
      " 4   Quantity Ordered  4000 non-null   int64  \n",
      " 5   Product Name      4000 non-null   object \n",
      " 6   Category          4000 non-null   object \n",
      " 7   Price             4000 non-null   float64\n",
      " 8   Total Sales       4000 non-null   float64\n",
      "dtypes: float64(2), int64(3), object(4)\n",
      "memory usage: 281.4+ KB\n"
     ]
    }
   ],
   "source": [
    "sales_data.info()"
   ]
  },
  {
   "cell_type": "code",
   "execution_count": null,
   "id": "6326c55e-787b-4ece-b9ff-b330bf263e0e",
   "metadata": {},
   "outputs": [],
   "source": []
  },
  {
   "cell_type": "markdown",
   "id": "b45b69b5-108a-44b0-b5c2-9ef4881ad300",
   "metadata": {},
   "source": [
    "# Exploratory Data Analysis (EDA) with Python\n",
    "\n",
    "#### A Casestudy of SwiftMart Inc.\n",
    "\n",
    "#### Step 1: Import the necessary Libraries"
   ]
  },
  {
   "cell_type": "code",
   "execution_count": 1,
   "id": "f0cd5290-eded-4788-951b-feee1c60bc29",
   "metadata": {},
   "outputs": [],
   "source": [
    "import numpy as np\n",
    "import pandas as pd\n",
    "import matplotlib.pyplot as plt\n",
    "import seaborn as sns"
   ]
  },
  {
   "cell_type": "markdown",
   "id": "fff928ce-2747-452b-a8fd-0a09571f5eff",
   "metadata": {},
   "source": [
    "### Step 2: Import Data into Jupyter Lab"
   ]
  },
  {
   "cell_type": "code",
   "execution_count": 2,
   "id": "0f3e6b22-3c29-486d-8d93-dae196abb295",
   "metadata": {},
   "outputs": [
    {
     "data": {
      "text/html": [
       "<div>\n",
       "<style scoped>\n",
       "    .dataframe tbody tr th:only-of-type {\n",
       "        vertical-align: middle;\n",
       "    }\n",
       "\n",
       "    .dataframe tbody tr th {\n",
       "        vertical-align: top;\n",
       "    }\n",
       "\n",
       "    .dataframe thead th {\n",
       "        text-align: right;\n",
       "    }\n",
       "</style>\n",
       "<table border=\"1\" class=\"dataframe\">\n",
       "  <thead>\n",
       "    <tr style=\"text-align: right;\">\n",
       "      <th></th>\n",
       "      <th>Customer ID</th>\n",
       "      <th>Product ID</th>\n",
       "      <th>Order Date</th>\n",
       "      <th>Region</th>\n",
       "      <th>Quantity Ordered</th>\n",
       "      <th>Product Name</th>\n",
       "      <th>Category</th>\n",
       "      <th>Price</th>\n",
       "      <th>Total Sales</th>\n",
       "    </tr>\n",
       "  </thead>\n",
       "  <tbody>\n",
       "    <tr>\n",
       "      <th>0</th>\n",
       "      <td>1307</td>\n",
       "      <td>18</td>\n",
       "      <td>2022-10-08</td>\n",
       "      <td>North</td>\n",
       "      <td>2</td>\n",
       "      <td>Mousepad</td>\n",
       "      <td>Electronics</td>\n",
       "      <td>1054.27</td>\n",
       "      <td>2108.54</td>\n",
       "    </tr>\n",
       "    <tr>\n",
       "      <th>1</th>\n",
       "      <td>1340</td>\n",
       "      <td>18</td>\n",
       "      <td>2022-07-07</td>\n",
       "      <td>North</td>\n",
       "      <td>9</td>\n",
       "      <td>Mousepad</td>\n",
       "      <td>Electronics</td>\n",
       "      <td>1054.27</td>\n",
       "      <td>9488.43</td>\n",
       "    </tr>\n",
       "    <tr>\n",
       "      <th>2</th>\n",
       "      <td>1380</td>\n",
       "      <td>18</td>\n",
       "      <td>2022-06-15</td>\n",
       "      <td>East</td>\n",
       "      <td>7</td>\n",
       "      <td>Mousepad</td>\n",
       "      <td>Electronics</td>\n",
       "      <td>1054.27</td>\n",
       "      <td>7379.89</td>\n",
       "    </tr>\n",
       "    <tr>\n",
       "      <th>3</th>\n",
       "      <td>1009</td>\n",
       "      <td>18</td>\n",
       "      <td>2022-07-05</td>\n",
       "      <td>South</td>\n",
       "      <td>1</td>\n",
       "      <td>Mousepad</td>\n",
       "      <td>Electronics</td>\n",
       "      <td>1054.27</td>\n",
       "      <td>1054.27</td>\n",
       "    </tr>\n",
       "    <tr>\n",
       "      <th>4</th>\n",
       "      <td>1048</td>\n",
       "      <td>18</td>\n",
       "      <td>2022-02-21</td>\n",
       "      <td>East</td>\n",
       "      <td>3</td>\n",
       "      <td>Mousepad</td>\n",
       "      <td>Electronics</td>\n",
       "      <td>1054.27</td>\n",
       "      <td>3162.81</td>\n",
       "    </tr>\n",
       "  </tbody>\n",
       "</table>\n",
       "</div>"
      ],
      "text/plain": [
       "   Customer ID  Product ID  Order Date Region  Quantity Ordered Product Name  \\\n",
       "0         1307          18  2022-10-08  North                 2     Mousepad   \n",
       "1         1340          18  2022-07-07  North                 9     Mousepad   \n",
       "2         1380          18  2022-06-15   East                 7     Mousepad   \n",
       "3         1009          18  2022-07-05  South                 1     Mousepad   \n",
       "4         1048          18  2022-02-21   East                 3     Mousepad   \n",
       "\n",
       "      Category    Price  Total Sales  \n",
       "0  Electronics  1054.27      2108.54  \n",
       "1  Electronics  1054.27      9488.43  \n",
       "2  Electronics  1054.27      7379.89  \n",
       "3  Electronics  1054.27      1054.27  \n",
       "4  Electronics  1054.27      3162.81  "
      ]
     },
     "execution_count": 2,
     "metadata": {},
     "output_type": "execute_result"
    }
   ],
   "source": [
    "df_sales = pd.read_csv(\"ShopEase Sales.csv\")\n",
    "\n",
    "df_sales.head()"
   ]
  },
  {
   "cell_type": "code",
   "execution_count": 3,
   "id": "36718953-a2c2-41b4-966f-2f4a428c1505",
   "metadata": {},
   "outputs": [
    {
     "data": {
      "text/html": [
       "<div>\n",
       "<style scoped>\n",
       "    .dataframe tbody tr th:only-of-type {\n",
       "        vertical-align: middle;\n",
       "    }\n",
       "\n",
       "    .dataframe tbody tr th {\n",
       "        vertical-align: top;\n",
       "    }\n",
       "\n",
       "    .dataframe thead th {\n",
       "        text-align: right;\n",
       "    }\n",
       "</style>\n",
       "<table border=\"1\" class=\"dataframe\">\n",
       "  <thead>\n",
       "    <tr style=\"text-align: right;\">\n",
       "      <th></th>\n",
       "      <th>Customer ID</th>\n",
       "      <th>Product ID</th>\n",
       "      <th>Order Date</th>\n",
       "      <th>Region</th>\n",
       "      <th>Quantity Ordered</th>\n",
       "      <th>Product Name</th>\n",
       "      <th>Category</th>\n",
       "      <th>Price</th>\n",
       "      <th>Total Sales</th>\n",
       "    </tr>\n",
       "  </thead>\n",
       "  <tbody>\n",
       "    <tr>\n",
       "      <th>3995</th>\n",
       "      <td>1398</td>\n",
       "      <td>14</td>\n",
       "      <td>2022-09-12</td>\n",
       "      <td>East</td>\n",
       "      <td>3</td>\n",
       "      <td>Router</td>\n",
       "      <td>Accessories</td>\n",
       "      <td>432.55</td>\n",
       "      <td>1297.65</td>\n",
       "    </tr>\n",
       "    <tr>\n",
       "      <th>3996</th>\n",
       "      <td>1234</td>\n",
       "      <td>14</td>\n",
       "      <td>2022-03-24</td>\n",
       "      <td>South</td>\n",
       "      <td>1</td>\n",
       "      <td>Router</td>\n",
       "      <td>Accessories</td>\n",
       "      <td>432.55</td>\n",
       "      <td>432.55</td>\n",
       "    </tr>\n",
       "    <tr>\n",
       "      <th>3997</th>\n",
       "      <td>1295</td>\n",
       "      <td>14</td>\n",
       "      <td>2022-02-14</td>\n",
       "      <td>North</td>\n",
       "      <td>6</td>\n",
       "      <td>Router</td>\n",
       "      <td>Accessories</td>\n",
       "      <td>432.55</td>\n",
       "      <td>2595.30</td>\n",
       "    </tr>\n",
       "    <tr>\n",
       "      <th>3998</th>\n",
       "      <td>1074</td>\n",
       "      <td>14</td>\n",
       "      <td>2022-11-16</td>\n",
       "      <td>East</td>\n",
       "      <td>3</td>\n",
       "      <td>Router</td>\n",
       "      <td>Accessories</td>\n",
       "      <td>432.55</td>\n",
       "      <td>1297.65</td>\n",
       "    </tr>\n",
       "    <tr>\n",
       "      <th>3999</th>\n",
       "      <td>1204</td>\n",
       "      <td>14</td>\n",
       "      <td>2022-04-06</td>\n",
       "      <td>West</td>\n",
       "      <td>8</td>\n",
       "      <td>Router</td>\n",
       "      <td>Accessories</td>\n",
       "      <td>432.55</td>\n",
       "      <td>3460.40</td>\n",
       "    </tr>\n",
       "  </tbody>\n",
       "</table>\n",
       "</div>"
      ],
      "text/plain": [
       "      Customer ID  Product ID  Order Date Region  Quantity Ordered  \\\n",
       "3995         1398          14  2022-09-12   East                 3   \n",
       "3996         1234          14  2022-03-24  South                 1   \n",
       "3997         1295          14  2022-02-14  North                 6   \n",
       "3998         1074          14  2022-11-16   East                 3   \n",
       "3999         1204          14  2022-04-06   West                 8   \n",
       "\n",
       "     Product Name     Category   Price  Total Sales  \n",
       "3995       Router  Accessories  432.55      1297.65  \n",
       "3996       Router  Accessories  432.55       432.55  \n",
       "3997       Router  Accessories  432.55      2595.30  \n",
       "3998       Router  Accessories  432.55      1297.65  \n",
       "3999       Router  Accessories  432.55      3460.40  "
      ]
     },
     "execution_count": 3,
     "metadata": {},
     "output_type": "execute_result"
    }
   ],
   "source": [
    "df_sales.tail()"
   ]
  },
  {
   "cell_type": "code",
   "execution_count": null,
   "id": "eeda6559-f8c6-47b7-96bb-2884d17952fd",
   "metadata": {},
   "outputs": [],
   "source": []
  },
  {
   "cell_type": "code",
   "execution_count": 4,
   "id": "e25338bf-ccb1-474c-bc66-ed67662a8e2a",
   "metadata": {},
   "outputs": [
    {
     "data": {
      "text/html": [
       "<div>\n",
       "<style scoped>\n",
       "    .dataframe tbody tr th:only-of-type {\n",
       "        vertical-align: middle;\n",
       "    }\n",
       "\n",
       "    .dataframe tbody tr th {\n",
       "        vertical-align: top;\n",
       "    }\n",
       "\n",
       "    .dataframe thead th {\n",
       "        text-align: right;\n",
       "    }\n",
       "</style>\n",
       "<table border=\"1\" class=\"dataframe\">\n",
       "  <thead>\n",
       "    <tr style=\"text-align: right;\">\n",
       "      <th></th>\n",
       "      <th>Product ID</th>\n",
       "      <th>Product Name</th>\n",
       "      <th>Category</th>\n",
       "      <th>Price</th>\n",
       "      <th>Stock</th>\n",
       "    </tr>\n",
       "  </thead>\n",
       "  <tbody>\n",
       "    <tr>\n",
       "      <th>0</th>\n",
       "      <td>1</td>\n",
       "      <td>Laptop</td>\n",
       "      <td>Electronics</td>\n",
       "      <td>755.33</td>\n",
       "      <td>185</td>\n",
       "    </tr>\n",
       "    <tr>\n",
       "      <th>1</th>\n",
       "      <td>2</td>\n",
       "      <td>Smartphone</td>\n",
       "      <td>Electronics</td>\n",
       "      <td>1901.92</td>\n",
       "      <td>55</td>\n",
       "    </tr>\n",
       "    <tr>\n",
       "      <th>2</th>\n",
       "      <td>3</td>\n",
       "      <td>Tablet</td>\n",
       "      <td>Accessories</td>\n",
       "      <td>1466.67</td>\n",
       "      <td>52</td>\n",
       "    </tr>\n",
       "    <tr>\n",
       "      <th>3</th>\n",
       "      <td>4</td>\n",
       "      <td>Mouse</td>\n",
       "      <td>Accessories</td>\n",
       "      <td>1201.33</td>\n",
       "      <td>4</td>\n",
       "    </tr>\n",
       "    <tr>\n",
       "      <th>4</th>\n",
       "      <td>5</td>\n",
       "      <td>Keyboard</td>\n",
       "      <td>Accessories</td>\n",
       "      <td>320.48</td>\n",
       "      <td>43</td>\n",
       "    </tr>\n",
       "  </tbody>\n",
       "</table>\n",
       "</div>"
      ],
      "text/plain": [
       "   Product ID Product Name     Category    Price  Stock\n",
       "0           1       Laptop  Electronics   755.33    185\n",
       "1           2   Smartphone  Electronics  1901.92     55\n",
       "2           3       Tablet  Accessories  1466.67     52\n",
       "3           4        Mouse  Accessories  1201.33      4\n",
       "4           5     Keyboard  Accessories   320.48     43"
      ]
     },
     "execution_count": 4,
     "metadata": {},
     "output_type": "execute_result"
    }
   ],
   "source": [
    "df_products = pd.read_csv(\"ShopEase Products.csv\")\n",
    "\n",
    "df_products.head()"
   ]
  },
  {
   "cell_type": "code",
   "execution_count": 5,
   "id": "a5e815ac-d2e8-4e97-8220-aed3ee3de17d",
   "metadata": {},
   "outputs": [
    {
     "data": {
      "text/html": [
       "<div>\n",
       "<style scoped>\n",
       "    .dataframe tbody tr th:only-of-type {\n",
       "        vertical-align: middle;\n",
       "    }\n",
       "\n",
       "    .dataframe tbody tr th {\n",
       "        vertical-align: top;\n",
       "    }\n",
       "\n",
       "    .dataframe thead th {\n",
       "        text-align: right;\n",
       "    }\n",
       "</style>\n",
       "<table border=\"1\" class=\"dataframe\">\n",
       "  <thead>\n",
       "    <tr style=\"text-align: right;\">\n",
       "      <th></th>\n",
       "      <th>Product ID</th>\n",
       "      <th>Product Name</th>\n",
       "      <th>Category</th>\n",
       "      <th>Price</th>\n",
       "      <th>Stock</th>\n",
       "    </tr>\n",
       "  </thead>\n",
       "  <tbody>\n",
       "    <tr>\n",
       "      <th>0</th>\n",
       "      <td>1</td>\n",
       "      <td>Laptop</td>\n",
       "      <td>Electronics</td>\n",
       "      <td>755.33</td>\n",
       "      <td>185</td>\n",
       "    </tr>\n",
       "    <tr>\n",
       "      <th>1</th>\n",
       "      <td>2</td>\n",
       "      <td>Smartphone</td>\n",
       "      <td>Electronics</td>\n",
       "      <td>1901.92</td>\n",
       "      <td>55</td>\n",
       "    </tr>\n",
       "    <tr>\n",
       "      <th>2</th>\n",
       "      <td>3</td>\n",
       "      <td>Tablet</td>\n",
       "      <td>Accessories</td>\n",
       "      <td>1466.67</td>\n",
       "      <td>52</td>\n",
       "    </tr>\n",
       "    <tr>\n",
       "      <th>3</th>\n",
       "      <td>4</td>\n",
       "      <td>Mouse</td>\n",
       "      <td>Accessories</td>\n",
       "      <td>1201.33</td>\n",
       "      <td>4</td>\n",
       "    </tr>\n",
       "    <tr>\n",
       "      <th>4</th>\n",
       "      <td>5</td>\n",
       "      <td>Keyboard</td>\n",
       "      <td>Accessories</td>\n",
       "      <td>320.48</td>\n",
       "      <td>43</td>\n",
       "    </tr>\n",
       "    <tr>\n",
       "      <th>5</th>\n",
       "      <td>6</td>\n",
       "      <td>Monitor</td>\n",
       "      <td>Accessories</td>\n",
       "      <td>320.43</td>\n",
       "      <td>40</td>\n",
       "    </tr>\n",
       "    <tr>\n",
       "      <th>6</th>\n",
       "      <td>7</td>\n",
       "      <td>Charger</td>\n",
       "      <td>Accessories</td>\n",
       "      <td>125.59</td>\n",
       "      <td>121</td>\n",
       "    </tr>\n",
       "    <tr>\n",
       "      <th>7</th>\n",
       "      <td>8</td>\n",
       "      <td>Headphones</td>\n",
       "      <td>Electronics</td>\n",
       "      <td>1733.69</td>\n",
       "      <td>30</td>\n",
       "    </tr>\n",
       "    <tr>\n",
       "      <th>8</th>\n",
       "      <td>9</td>\n",
       "      <td>Webcam</td>\n",
       "      <td>Accessories</td>\n",
       "      <td>1206.22</td>\n",
       "      <td>138</td>\n",
       "    </tr>\n",
       "    <tr>\n",
       "      <th>9</th>\n",
       "      <td>10</td>\n",
       "      <td>Speakers</td>\n",
       "      <td>Accessories</td>\n",
       "      <td>1419.06</td>\n",
       "      <td>103</td>\n",
       "    </tr>\n",
       "  </tbody>\n",
       "</table>\n",
       "</div>"
      ],
      "text/plain": [
       "   Product ID Product Name     Category    Price  Stock\n",
       "0           1       Laptop  Electronics   755.33    185\n",
       "1           2   Smartphone  Electronics  1901.92     55\n",
       "2           3       Tablet  Accessories  1466.67     52\n",
       "3           4        Mouse  Accessories  1201.33      4\n",
       "4           5     Keyboard  Accessories   320.48     43\n",
       "5           6      Monitor  Accessories   320.43     40\n",
       "6           7      Charger  Accessories   125.59    121\n",
       "7           8   Headphones  Electronics  1733.69     30\n",
       "8           9       Webcam  Accessories  1206.22    138\n",
       "9          10     Speakers  Accessories  1419.06    103"
      ]
     },
     "execution_count": 5,
     "metadata": {},
     "output_type": "execute_result"
    }
   ],
   "source": [
    "df_products.head(10)"
   ]
  },
  {
   "cell_type": "code",
   "execution_count": 6,
   "id": "2319d0b3-cc2b-42d3-ba75-8c55ecab89c3",
   "metadata": {},
   "outputs": [
    {
     "data": {
      "text/html": [
       "<div>\n",
       "<style scoped>\n",
       "    .dataframe tbody tr th:only-of-type {\n",
       "        vertical-align: middle;\n",
       "    }\n",
       "\n",
       "    .dataframe tbody tr th {\n",
       "        vertical-align: top;\n",
       "    }\n",
       "\n",
       "    .dataframe thead th {\n",
       "        text-align: right;\n",
       "    }\n",
       "</style>\n",
       "<table border=\"1\" class=\"dataframe\">\n",
       "  <thead>\n",
       "    <tr style=\"text-align: right;\">\n",
       "      <th></th>\n",
       "      <th>Product ID</th>\n",
       "      <th>Product Name</th>\n",
       "      <th>Category</th>\n",
       "      <th>Price</th>\n",
       "      <th>Stock</th>\n",
       "    </tr>\n",
       "  </thead>\n",
       "  <tbody>\n",
       "    <tr>\n",
       "      <th>15</th>\n",
       "      <td>16</td>\n",
       "      <td>Power Bank</td>\n",
       "      <td>Accessories</td>\n",
       "      <td>374.97</td>\n",
       "      <td>109</td>\n",
       "    </tr>\n",
       "    <tr>\n",
       "      <th>16</th>\n",
       "      <td>17</td>\n",
       "      <td>Smartwatch</td>\n",
       "      <td>Accessories</td>\n",
       "      <td>615.44</td>\n",
       "      <td>20</td>\n",
       "    </tr>\n",
       "    <tr>\n",
       "      <th>17</th>\n",
       "      <td>18</td>\n",
       "      <td>Mousepad</td>\n",
       "      <td>Electronics</td>\n",
       "      <td>1054.27</td>\n",
       "      <td>49</td>\n",
       "    </tr>\n",
       "    <tr>\n",
       "      <th>18</th>\n",
       "      <td>19</td>\n",
       "      <td>HDMI Cable</td>\n",
       "      <td>Electronics</td>\n",
       "      <td>869.57</td>\n",
       "      <td>96</td>\n",
       "    </tr>\n",
       "    <tr>\n",
       "      <th>19</th>\n",
       "      <td>20</td>\n",
       "      <td>Laptop Stand</td>\n",
       "      <td>Electronics</td>\n",
       "      <td>589.55</td>\n",
       "      <td>59</td>\n",
       "    </tr>\n",
       "  </tbody>\n",
       "</table>\n",
       "</div>"
      ],
      "text/plain": [
       "    Product ID  Product Name     Category    Price  Stock\n",
       "15          16    Power Bank  Accessories   374.97    109\n",
       "16          17    Smartwatch  Accessories   615.44     20\n",
       "17          18      Mousepad  Electronics  1054.27     49\n",
       "18          19    HDMI Cable  Electronics   869.57     96\n",
       "19          20  Laptop Stand  Electronics   589.55     59"
      ]
     },
     "execution_count": 6,
     "metadata": {},
     "output_type": "execute_result"
    }
   ],
   "source": [
    "df_products.tail()"
   ]
  },
  {
   "cell_type": "code",
   "execution_count": 7,
   "id": "202b904f-b627-4ba1-ae8a-45c70fd87d50",
   "metadata": {},
   "outputs": [
    {
     "data": {
      "text/plain": [
       "Customer ID         0\n",
       "Product ID          0\n",
       "Order Date          0\n",
       "Region              0\n",
       "Quantity Ordered    0\n",
       "Product Name        0\n",
       "Category            0\n",
       "Price               0\n",
       "Total Sales         0\n",
       "dtype: int64"
      ]
     },
     "execution_count": 7,
     "metadata": {},
     "output_type": "execute_result"
    }
   ],
   "source": [
    "df_sales.isnull().sum()"
   ]
  },
  {
   "cell_type": "code",
   "execution_count": 8,
   "id": "4f68121e-9f46-4d45-ac8d-c8973e5a6ad1",
   "metadata": {},
   "outputs": [
    {
     "data": {
      "text/plain": [
       "Product ID      0\n",
       "Product Name    0\n",
       "Category        0\n",
       "Price           0\n",
       "Stock           0\n",
       "dtype: int64"
      ]
     },
     "execution_count": 8,
     "metadata": {},
     "output_type": "execute_result"
    }
   ],
   "source": [
    "df_products.isnull().sum()"
   ]
  },
  {
   "cell_type": "code",
   "execution_count": 9,
   "id": "1abcc1c3-d9bc-4bd1-a6c7-37497eff3d62",
   "metadata": {},
   "outputs": [
    {
     "data": {
      "text/html": [
       "<div>\n",
       "<style scoped>\n",
       "    .dataframe tbody tr th:only-of-type {\n",
       "        vertical-align: middle;\n",
       "    }\n",
       "\n",
       "    .dataframe tbody tr th {\n",
       "        vertical-align: top;\n",
       "    }\n",
       "\n",
       "    .dataframe thead th {\n",
       "        text-align: right;\n",
       "    }\n",
       "</style>\n",
       "<table border=\"1\" class=\"dataframe\">\n",
       "  <thead>\n",
       "    <tr style=\"text-align: right;\">\n",
       "      <th></th>\n",
       "      <th>Customer ID</th>\n",
       "      <th>Product ID</th>\n",
       "      <th>Quantity Ordered</th>\n",
       "      <th>Price</th>\n",
       "      <th>Total Sales</th>\n",
       "    </tr>\n",
       "  </thead>\n",
       "  <tbody>\n",
       "    <tr>\n",
       "      <th>count</th>\n",
       "      <td>4000.000000</td>\n",
       "      <td>4000.000000</td>\n",
       "      <td>4000.000000</td>\n",
       "      <td>4000.000000</td>\n",
       "      <td>4000.00000</td>\n",
       "    </tr>\n",
       "    <tr>\n",
       "      <th>mean</th>\n",
       "      <td>1200.407250</td>\n",
       "      <td>10.669250</td>\n",
       "      <td>4.917750</td>\n",
       "      <td>927.625452</td>\n",
       "      <td>4540.21913</td>\n",
       "    </tr>\n",
       "    <tr>\n",
       "      <th>std</th>\n",
       "      <td>115.650744</td>\n",
       "      <td>5.736687</td>\n",
       "      <td>2.583535</td>\n",
       "      <td>597.643817</td>\n",
       "      <td>4084.85829</td>\n",
       "    </tr>\n",
       "    <tr>\n",
       "      <th>min</th>\n",
       "      <td>1001.000000</td>\n",
       "      <td>1.000000</td>\n",
       "      <td>1.000000</td>\n",
       "      <td>50.960000</td>\n",
       "      <td>50.96000</td>\n",
       "    </tr>\n",
       "    <tr>\n",
       "      <th>25%</th>\n",
       "      <td>1102.750000</td>\n",
       "      <td>6.000000</td>\n",
       "      <td>3.000000</td>\n",
       "      <td>374.970000</td>\n",
       "      <td>1466.67000</td>\n",
       "    </tr>\n",
       "    <tr>\n",
       "      <th>50%</th>\n",
       "      <td>1198.000000</td>\n",
       "      <td>11.000000</td>\n",
       "      <td>5.000000</td>\n",
       "      <td>869.570000</td>\n",
       "      <td>3077.20000</td>\n",
       "    </tr>\n",
       "    <tr>\n",
       "      <th>75%</th>\n",
       "      <td>1301.000000</td>\n",
       "      <td>16.000000</td>\n",
       "      <td>7.000000</td>\n",
       "      <td>1466.670000</td>\n",
       "      <td>6797.97000</td>\n",
       "    </tr>\n",
       "    <tr>\n",
       "      <th>max</th>\n",
       "      <td>1400.000000</td>\n",
       "      <td>20.000000</td>\n",
       "      <td>9.000000</td>\n",
       "      <td>1940.120000</td>\n",
       "      <td>17461.08000</td>\n",
       "    </tr>\n",
       "  </tbody>\n",
       "</table>\n",
       "</div>"
      ],
      "text/plain": [
       "       Customer ID   Product ID  Quantity Ordered        Price  Total Sales\n",
       "count  4000.000000  4000.000000       4000.000000  4000.000000   4000.00000\n",
       "mean   1200.407250    10.669250          4.917750   927.625452   4540.21913\n",
       "std     115.650744     5.736687          2.583535   597.643817   4084.85829\n",
       "min    1001.000000     1.000000          1.000000    50.960000     50.96000\n",
       "25%    1102.750000     6.000000          3.000000   374.970000   1466.67000\n",
       "50%    1198.000000    11.000000          5.000000   869.570000   3077.20000\n",
       "75%    1301.000000    16.000000          7.000000  1466.670000   6797.97000\n",
       "max    1400.000000    20.000000          9.000000  1940.120000  17461.08000"
      ]
     },
     "execution_count": 9,
     "metadata": {},
     "output_type": "execute_result"
    }
   ],
   "source": [
    "df_sales.describe()"
   ]
  },
  {
   "cell_type": "code",
   "execution_count": 10,
   "id": "daa442c3-186e-4b11-840b-75edb5834cd4",
   "metadata": {},
   "outputs": [
    {
     "name": "stdout",
     "output_type": "stream",
     "text": [
      "<class 'pandas.core.frame.DataFrame'>\n",
      "RangeIndex: 4000 entries, 0 to 3999\n",
      "Data columns (total 9 columns):\n",
      " #   Column            Non-Null Count  Dtype  \n",
      "---  ------            --------------  -----  \n",
      " 0   Customer ID       4000 non-null   int64  \n",
      " 1   Product ID        4000 non-null   int64  \n",
      " 2   Order Date        4000 non-null   object \n",
      " 3   Region            4000 non-null   object \n",
      " 4   Quantity Ordered  4000 non-null   int64  \n",
      " 5   Product Name      4000 non-null   object \n",
      " 6   Category          4000 non-null   object \n",
      " 7   Price             4000 non-null   float64\n",
      " 8   Total Sales       4000 non-null   float64\n",
      "dtypes: float64(2), int64(3), object(4)\n",
      "memory usage: 281.4+ KB\n"
     ]
    }
   ],
   "source": [
    "df_sales.info()"
   ]
  },
  {
   "cell_type": "code",
   "execution_count": 11,
   "id": "523650ff-de13-4365-8280-be001fcedef7",
   "metadata": {},
   "outputs": [
    {
     "data": {
      "text/plain": [
       "(4000, 9)"
      ]
     },
     "execution_count": 11,
     "metadata": {},
     "output_type": "execute_result"
    }
   ],
   "source": [
    "df_sales.shape"
   ]
  },
  {
   "cell_type": "code",
   "execution_count": 12,
   "id": "10695f4b-1623-4953-a23d-e27d201eead8",
   "metadata": {},
   "outputs": [
    {
     "data": {
      "text/plain": [
       "(20, 5)"
      ]
     },
     "execution_count": 12,
     "metadata": {},
     "output_type": "execute_result"
    }
   ],
   "source": [
    "df_products.shape"
   ]
  },
  {
   "cell_type": "markdown",
   "id": "eb0406f0-7986-4e45-8339-eccb2e28e026",
   "metadata": {},
   "source": [
    "#### Change order date column from 'object' date to date datatype (datetime)"
   ]
  },
  {
   "cell_type": "code",
   "execution_count": 14,
   "id": "2f5cdbba-a14e-4ffc-aded-78d65db2a5f3",
   "metadata": {},
   "outputs": [],
   "source": [
    "df_sales['Order Date'] = pd.to_datetime(df_sales['Order Date'])"
   ]
  },
  {
   "cell_type": "code",
   "execution_count": 15,
   "id": "965f5582-9412-40ed-8a80-faae244446b2",
   "metadata": {},
   "outputs": [
    {
     "name": "stdout",
     "output_type": "stream",
     "text": [
      "<class 'pandas.core.frame.DataFrame'>\n",
      "RangeIndex: 4000 entries, 0 to 3999\n",
      "Data columns (total 9 columns):\n",
      " #   Column            Non-Null Count  Dtype         \n",
      "---  ------            --------------  -----         \n",
      " 0   Customer ID       4000 non-null   int64         \n",
      " 1   Product ID        4000 non-null   int64         \n",
      " 2   Order Date        4000 non-null   datetime64[ns]\n",
      " 3   Region            4000 non-null   object        \n",
      " 4   Quantity Ordered  4000 non-null   int64         \n",
      " 5   Product Name      4000 non-null   object        \n",
      " 6   Category          4000 non-null   object        \n",
      " 7   Price             4000 non-null   float64       \n",
      " 8   Total Sales       4000 non-null   float64       \n",
      "dtypes: datetime64[ns](1), float64(2), int64(3), object(3)\n",
      "memory usage: 281.4+ KB\n"
     ]
    }
   ],
   "source": [
    "df_sales.info()"
   ]
  },
  {
   "cell_type": "code",
   "execution_count": null,
   "id": "3a8abd3e-3b82-4b4b-a8b7-20322b4a67e3",
   "metadata": {},
   "outputs": [],
   "source": []
  },
  {
   "cell_type": "markdown",
   "id": "8b4e8258-538b-4f85-9ac6-2dcd6a68b927",
   "metadata": {},
   "source": [
    "### Visualizations and Analysis"
   ]
  },
  {
   "cell_type": "markdown",
   "id": "037b1aba-282d-4320-a99a-a873b2218179",
   "metadata": {},
   "source": [
    "#### Univeriate Analysis\n",
    "\n",
    "Means analyzing just one column of your dataset"
   ]
  },
  {
   "cell_type": "code",
   "execution_count": 19,
   "id": "f39f8afb-9a72-4fd4-a21e-68cbd3fb7086",
   "metadata": {},
   "outputs": [
    {
     "data": {
      "image/png": "[encoded data removed]",
      "text/plain": [
       "<Figure size 400x300 with 1 Axes>"
      ]
     },
     "metadata": {},
     "output_type": "display_data"
    }
   ],
   "source": [
    "# 1. The distribution of the Total Sales column - Histogram\n",
    "\n",
    "plt.figure(figsize=(4,3))\n",
    "sns.histplot(df_sales['Total Sales'], bins=20, kde=True, color='red')\n",
    "plt.title('Total Sales Distribution')\n",
    "plt.show()"
   ]
  },
  {
   "cell_type": "code",
   "execution_count": 20,
   "id": "8999850d-738d-49e7-9f44-a967daf26895",
   "metadata": {},
   "outputs": [
    {
     "data": {
      "image/png": "[encoded data removed]",
      "text/plain": [
       "<Figure size 640x480 with 1 Axes>"
      ]
     },
     "metadata": {},
     "output_type": "display_data"
    }
   ],
   "source": [
    "# 2. Total number of regions and their orders \n",
    "\n",
    "# Bar Graph of Orders by Region\n",
    "\n",
    "df_sales['Region'].value_counts().plot(kind='bar')\n",
    "plt.title('Orders by Region')\n",
    "plt.show()"
   ]
  },
  {
   "cell_type": "code",
   "execution_count": 21,
   "id": "2fa219ac-3ea7-4547-8d59-7c455e826974",
   "metadata": {},
   "outputs": [
    {
     "data": {
      "text/plain": [
       "Product Name\n",
       "USB Cable              233\n",
       "Smartwatch             222\n",
       "Memory Card            216\n",
       "Speakers               214\n",
       "Power Bank             214\n",
       "Mouse                  209\n",
       "Mousepad               204\n",
       "External Hard Drive    204\n",
       "Laptop Stand           203\n",
       "Monitor                200\n",
       "Smartphone             197\n",
       "Charger                194\n",
       "Tablet                 194\n",
       "HDMI Cable             193\n",
       "Printer                192\n",
       "Headphones             188\n",
       "Keyboard               188\n",
       "Webcam                 181\n",
       "Router                 178\n",
       "Laptop                 176\n",
       "Name: count, dtype: int64"
      ]
     },
     "execution_count": 21,
     "metadata": {},
     "output_type": "execute_result"
    }
   ],
   "source": [
    "df_sales['Product Name'].value_counts()"
   ]
  },
  {
   "cell_type": "code",
   "execution_count": 24,
   "id": "0b1d47a9-32ea-4cf2-b62f-16aae5e19b67",
   "metadata": {},
   "outputs": [
    {
     "data": {
      "text/plain": [
       "18160876.52"
      ]
     },
     "execution_count": 24,
     "metadata": {},
     "output_type": "execute_result"
    }
   ],
   "source": [
    "Total_Sales = df_sales['Total Sales'].sum()\n",
    "\n",
    "Total_Sales"
   ]
  },
  {
   "cell_type": "code",
   "execution_count": null,
   "id": "c67ac165-7061-4b14-a3ba-25eb763e6dc2",
   "metadata": {},
   "outputs": [],
   "source": []
  },
  {
   "cell_type": "code",
   "execution_count": 26,
   "id": "2e2ec3e1-c398-4aea-a742-a18b323fcf62",
   "metadata": {},
   "outputs": [
    {
     "data": {
      "image/png": "[encoded data removed]",
      "text/plain": [
       "<Figure size 800x400 with 1 Axes>"
      ]
     },
     "metadata": {},
     "output_type": "display_data"
    }
   ],
   "source": [
    "# 3. are there any outliers in price? (Box Plot)\n",
    "\n",
    "plt.figure(figsize=(8,4))\n",
    "sns.boxplot(data=df_products, x='Price')\n",
    "plt.title('Outlier check in the Price Column')\n",
    "plt.xlabel('Price ($)')\n",
    "plt.show()"
   ]
  },
  {
   "cell_type": "code",
   "execution_count": 29,
   "id": "ef489221-78ad-463f-98b7-b92ecd90c8b2",
   "metadata": {},
   "outputs": [
    {
     "data": {
      "text/html": [
       "<div>\n",
       "<style scoped>\n",
       "    .dataframe tbody tr th:only-of-type {\n",
       "        vertical-align: middle;\n",
       "    }\n",
       "\n",
       "    .dataframe tbody tr th {\n",
       "        vertical-align: top;\n",
       "    }\n",
       "\n",
       "    .dataframe thead th {\n",
       "        text-align: right;\n",
       "    }\n",
       "</style>\n",
       "<table border=\"1\" class=\"dataframe\">\n",
       "  <thead>\n",
       "    <tr style=\"text-align: right;\">\n",
       "      <th></th>\n",
       "      <th>Customer ID</th>\n",
       "      <th>Product ID</th>\n",
       "      <th>Order Date</th>\n",
       "      <th>Region</th>\n",
       "      <th>Quantity Ordered</th>\n",
       "      <th>Product Name</th>\n",
       "      <th>Category</th>\n",
       "      <th>Price</th>\n",
       "      <th>Total Sales</th>\n",
       "    </tr>\n",
       "  </thead>\n",
       "  <tbody>\n",
       "    <tr>\n",
       "      <th>0</th>\n",
       "      <td>1307</td>\n",
       "      <td>18</td>\n",
       "      <td>2022-10-08</td>\n",
       "      <td>North</td>\n",
       "      <td>2</td>\n",
       "      <td>Mousepad</td>\n",
       "      <td>Electronics</td>\n",
       "      <td>1054.27</td>\n",
       "      <td>2108.54</td>\n",
       "    </tr>\n",
       "    <tr>\n",
       "      <th>1</th>\n",
       "      <td>1340</td>\n",
       "      <td>18</td>\n",
       "      <td>2022-07-07</td>\n",
       "      <td>North</td>\n",
       "      <td>9</td>\n",
       "      <td>Mousepad</td>\n",
       "      <td>Electronics</td>\n",
       "      <td>1054.27</td>\n",
       "      <td>9488.43</td>\n",
       "    </tr>\n",
       "    <tr>\n",
       "      <th>2</th>\n",
       "      <td>1380</td>\n",
       "      <td>18</td>\n",
       "      <td>2022-06-15</td>\n",
       "      <td>East</td>\n",
       "      <td>7</td>\n",
       "      <td>Mousepad</td>\n",
       "      <td>Electronics</td>\n",
       "      <td>1054.27</td>\n",
       "      <td>7379.89</td>\n",
       "    </tr>\n",
       "    <tr>\n",
       "      <th>3</th>\n",
       "      <td>1009</td>\n",
       "      <td>18</td>\n",
       "      <td>2022-07-05</td>\n",
       "      <td>South</td>\n",
       "      <td>1</td>\n",
       "      <td>Mousepad</td>\n",
       "      <td>Electronics</td>\n",
       "      <td>1054.27</td>\n",
       "      <td>1054.27</td>\n",
       "    </tr>\n",
       "    <tr>\n",
       "      <th>4</th>\n",
       "      <td>1048</td>\n",
       "      <td>18</td>\n",
       "      <td>2022-02-21</td>\n",
       "      <td>East</td>\n",
       "      <td>3</td>\n",
       "      <td>Mousepad</td>\n",
       "      <td>Electronics</td>\n",
       "      <td>1054.27</td>\n",
       "      <td>3162.81</td>\n",
       "    </tr>\n",
       "  </tbody>\n",
       "</table>\n",
       "</div>"
      ],
      "text/plain": [
       "   Customer ID  Product ID Order Date Region  Quantity Ordered Product Name  \\\n",
       "0         1307          18 2022-10-08  North                 2     Mousepad   \n",
       "1         1340          18 2022-07-07  North                 9     Mousepad   \n",
       "2         1380          18 2022-06-15   East                 7     Mousepad   \n",
       "3         1009          18 2022-07-05  South                 1     Mousepad   \n",
       "4         1048          18 2022-02-21   East                 3     Mousepad   \n",
       "\n",
       "      Category    Price  Total Sales  \n",
       "0  Electronics  1054.27      2108.54  \n",
       "1  Electronics  1054.27      9488.43  \n",
       "2  Electronics  1054.27      7379.89  \n",
       "3  Electronics  1054.27      1054.27  \n",
       "4  Electronics  1054.27      3162.81  "
      ]
     },
     "execution_count": 29,
     "metadata": {},
     "output_type": "execute_result"
    }
   ],
   "source": [
    "df_sales.head()"
   ]
  },
  {
   "cell_type": "code",
   "execution_count": 27,
   "id": "943eadd1-831e-49b7-9e77-3ec0054ab607",
   "metadata": {},
   "outputs": [],
   "source": [
    "# 1 Total quantity of products ordered\n",
    "# 2 Average Sales made"
   ]
  },
  {
   "cell_type": "code",
   "execution_count": null,
   "id": "0e21a447-bdea-46f1-a266-4f3afbf5883e",
   "metadata": {},
   "outputs": [],
   "source": []
  },
  {
   "cell_type": "code",
   "execution_count": 32,
   "id": "d844d3ad-ddb7-4605-be02-4a4905e5d68f",
   "metadata": {},
   "outputs": [
    {
     "name": "stdout",
     "output_type": "stream",
     "text": [
      "The Total Quantity Ordered for SwiftMart is 19671\n",
      "The Average sales for SwiftMart = $4540.22\n"
     ]
    }
   ],
   "source": [
    "Total_Qty = df_sales['Quantity Ordered'].sum()\n",
    "print(f'The Total Quantity Ordered for SwiftMart is {Total_Qty}')\n",
    "\n",
    "Ave_Sales = df_sales['Total Sales'].mean()\n",
    "print(f'The Average sales for SwiftMart = ${Ave_Sales:.2f}')"
   ]
  },
  {
   "cell_type": "code",
   "execution_count": null,
   "id": "a696e18f-8722-46f2-84a6-841315fe3ce2",
   "metadata": {},
   "outputs": [],
   "source": []
  },
  {
   "cell_type": "markdown",
   "id": "a32750df-0ff3-4e7c-a326-0d82e2f1c057",
   "metadata": {},
   "source": [
    "# Bivariate Analysis\n",
    "- Analyzing two columns(varaiables) within the dataset at a time"
   ]
  },
  {
   "cell_type": "code",
   "execution_count": null,
   "id": "05d9f63e-ed1b-4e3b-8580-a42626847152",
   "metadata": {},
   "outputs": [],
   "source": []
  },
  {
   "cell_type": "code",
   "execution_count": null,
   "id": "9caa9c2b-96a9-498f-b68c-2da20aa49546",
   "metadata": {},
   "outputs": [],
   "source": []
  },
  {
   "cell_type": "code",
   "execution_count": null,
   "id": "7f89def9-e250-42c6-a94a-6f158b48398a",
   "metadata": {},
   "outputs": [],
   "source": []
  },
  {
   "cell_type": "code",
   "execution_count": null,
   "id": "85a02a04-d36f-40c0-8e79-86b0c3a7fa0e",
   "metadata": {},
   "outputs": [],
   "source": []
  },
  {
   "cell_type": "code",
   "execution_count": null,
   "id": "d572e807-5993-4590-acfd-ed261aa13499",
   "metadata": {},
   "outputs": [],
   "source": []
  },
  {
   "cell_type": "code",
   "execution_count": null,
   "id": "8ded6167-4815-4b2d-9c61-f0c69d42e94f",
   "metadata": {},
   "outputs": [],
   "source": []
  },
  {
   "cell_type": "code",
   "execution_count": null,
   "id": "7cc3593d-e9e1-485e-b3fd-1cb4a386e4ed",
   "metadata": {},
   "outputs": [],
   "source": []
  },
  {
   "cell_type": "code",
   "execution_count": null,
   "id": "6a22f14e-0f8d-49dc-adb4-b807eafc2801",
   "metadata": {},
   "outputs": [],
   "source": []
  },
  {
   "cell_type": "code",
   "execution_count": null,
   "id": "8ea21a9c-315c-4501-9714-2182e8bb2419",
   "metadata": {},
   "outputs": [],
   "source": []
  },
  {
   "cell_type": "code",
   "execution_count": null,
   "id": "7da729c8-1699-487c-813e-278a2dbcc4d7",
   "metadata": {},
   "outputs": [],
   "source": []
  },
  {
   "cell_type": "code",
   "execution_count": null,
   "id": "91e41a38-4021-45f7-b973-cae8697e9408",
   "metadata": {},
   "outputs": [],
   "source": []
  },
  {
   "cell_type": "code",
   "execution_count": null,
   "id": "bfaf1877-de87-426b-bd7d-9138547712a3",
   "metadata": {},
   "outputs": [],
   "source": []
  },
  {
   "cell_type": "code",
   "execution_count": null,
   "id": "f986a050-bcdb-4b6c-8d0d-cf79fe33d863",
   "metadata": {},
   "outputs": [],
   "source": []
  },
  {
   "cell_type": "code",
   "execution_count": null,
   "id": "9bd2e9bb-7809-47c4-bc5b-7576d77dfbe0",
   "metadata": {},
   "outputs": [],
   "source": []
  },
  {
   "cell_type": "code",
   "execution_count": null,
   "id": "6739dc49-1ae5-4bed-a35d-ceb3a723d655",
   "metadata": {},
   "outputs": [],
   "source": []
  },
  {
   "cell_type": "code",
   "execution_count": null,
   "id": "aaefe0d8-468d-4aad-9246-30beb9986b43",
   "metadata": {},
   "outputs": [],
   "source": []
  },
  {
   "cell_type": "code",
   "execution_count": null,
   "id": "5fa4f948-3b0c-4727-b2af-0b448ab2fea1",
   "metadata": {},
   "outputs": [],
   "source": []
  },
  {
   "cell_type": "code",
   "execution_count": null,
   "id": "56b9ed96-1eae-46e5-88ec-8189c6a0f43b",
   "metadata": {},
   "outputs": [],
   "source": []
  },
  {
   "cell_type": "code",
   "execution_count": null,
   "id": "5f5ee215-67f7-46e3-a140-cfd51019c85d",
   "metadata": {},
   "outputs": [],
   "source": []
  },
  {
   "cell_type": "code",
   "execution_count": null,
   "id": "87b820dc-17a6-4893-a05f-b8bcde8d1595",
   "metadata": {},
   "outputs": [],
   "source": []
  },
  {
   "cell_type": "code",
   "execution_count": null,
   "id": "e3430fce-9c11-4c3e-9a11-e6d8ba3d43cd",
   "metadata": {},
   "outputs": [],
   "source": []
  },
  {
   "cell_type": "code",
   "execution_count": null,
   "id": "668d6b73-0d3e-4108-89e8-5c8c09f42b7e",
   "metadata": {},
   "outputs": [],
   "source": []
  },
  {
   "cell_type": "code",
   "execution_count": null,
   "id": "9ceba071-9602-4327-bcb9-b1ec4ff9975d",
   "metadata": {},
   "outputs": [],
   "source": []
  },
  {
   "cell_type": "code",
   "execution_count": null,
   "id": "cb112cec-ba06-4edd-bcc7-da0e7ce10837",
   "metadata": {},
   "outputs": [],
   "source": []
  },
  {
   "cell_type": "code",
   "execution_count": null,
   "id": "bb3f6efd-d589-42fd-bac7-9ce807ddedba",
   "metadata": {},
   "outputs": [],
   "source": []
  },
  {
   "cell_type": "code",
   "execution_count": null,
   "id": "7887e064-7769-4899-908e-b10afa35fcf8",
   "metadata": {},
   "outputs": [],
   "source": []
  },
  {
   "cell_type": "code",
   "execution_count": null,
   "id": "3f0583d0-1bae-4889-b461-67c12ab444ce",
   "metadata": {},
   "outputs": [],
   "source": []
  },
  {
   "cell_type": "code",
   "execution_count": null,
   "id": "eabafa95-002f-4a92-be24-0e9a9e0abb04",
   "metadata": {},
   "outputs": [],
   "source": []
  },
  {
   "cell_type": "code",
   "execution_count": null,
   "id": "2349cdf5-0af1-411f-bb4b-368cfc3cd004",
   "metadata": {},
   "outputs": [],
   "source": []
  },
  {
   "cell_type": "code",
   "execution_count": null,
   "id": "8714030d-150a-4d02-a25a-b9555211345b",
   "metadata": {},
   "outputs": [],
   "source": []
  },
  {
   "cell_type": "code",
   "execution_count": null,
   "id": "048d6a73-6318-4825-b432-c7037d449c9e",
   "metadata": {},
   "outputs": [],
   "source": []
  },
  {
   "cell_type": "code",
   "execution_count": null,
   "id": "afc957bf-e6f5-45bd-af59-9942e7e57789",
   "metadata": {},
   "outputs": [],
   "source": []
  },
  {
   "cell_type": "code",
   "execution_count": null,
   "id": "5f3e1014-41cd-4922-9197-e3d7bddcc9e0",
   "metadata": {},
   "outputs": [],
   "source": []
  },
  {
   "cell_type": "code",
   "execution_count": null,
   "id": "850050b7-c015-46fd-974f-a98df32701b3",
   "metadata": {},
   "outputs": [],
   "source": []
  },
  {
   "cell_type": "code",
   "execution_count": null,
   "id": "77c742bd-ed7a-45e7-9899-af14475e46d8",
   "metadata": {},
   "outputs": [],
   "source": []
  },
  {
   "cell_type": "code",
   "execution_count": null,
   "id": "0fa78c80-b825-4468-86df-3f6e411dbe63",
   "metadata": {},
   "outputs": [],
   "source": []
  },
  {
   "cell_type": "code",
   "execution_count": null,
   "id": "ee042bbb-eb73-4361-932e-02baea460865",
   "metadata": {},
   "outputs": [],
   "source": []
  },
  {
   "cell_type": "code",
   "execution_count": null,
   "id": "60669a4e-993c-4cc9-ab42-83db96a67580",
   "metadata": {},
   "outputs": [],
   "source": []
  },
  {
   "cell_type": "code",
   "execution_count": null,
   "id": "78c9acb5-f637-4a72-8ddc-50f43c2f6f7f",
   "metadata": {},
   "outputs": [],
   "source": []
  },
  {
   "cell_type": "code",
   "execution_count": null,
   "id": "b8aac8f0-8d3b-4115-9db4-295c1ab2b370",
   "metadata": {},
   "outputs": [],
   "source": []
  },
  {
   "cell_type": "code",
   "execution_count": null,
   "id": "ae269d87-0294-422f-a12d-99a4b9c62cb9",
   "metadata": {},
   "outputs": [],
   "source": []
  },
  {
   "cell_type": "code",
   "execution_count": null,
   "id": "a0f16a6a-cd32-40c7-9bd9-22b1cc1e8fb0",
   "metadata": {},
   "outputs": [],
   "source": []
  }
 ],
 "metadata": {
  "kernelspec": {
   "display_name": "Python 3 (ipykernel)",
   "language": "python",
   "name": "python3"
  },
  "language_info": {
   "codemirror_mode": {
    "name": "ipython",
    "version": 3
   },
   "file_extension": ".py",
   "mimetype": "text/x-python",
   "name": "python",
   "nbconvert_exporter": "python",
   "pygments_lexer": "ipython3",
   "version": "3.12.7"
  }
 },
 "nbformat": 4,
 "nbformat_minor": 5
}
